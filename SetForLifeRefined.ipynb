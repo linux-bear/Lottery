{
 "cells": [
  {
   "cell_type": "code",
   "execution_count": 1,
   "metadata": {
    "executionInfo": {
     "elapsed": 832,
     "status": "ok",
     "timestamp": 1717870168943,
     "user": {
      "displayName": "Helen Barrett",
      "userId": "03986832566319395232"
     },
     "user_tz": -60
    },
    "id": "XVN3shWT3haT"
   },
   "outputs": [],
   "source": [
    "import pandas as pd\n",
    "import collections"
   ]
  },
  {
   "cell_type": "code",
   "execution_count": 2,
   "metadata": {
    "colab": {
     "base_uri": "https://localhost:8080/"
    },
    "executionInfo": {
     "elapsed": 27218,
     "status": "ok",
     "timestamp": 1717870196154,
     "user": {
      "displayName": "Helen Barrett",
      "userId": "03986832566319395232"
     },
     "user_tz": -60
    },
    "id": "TpPdmd1b3oIT",
    "outputId": "818519fe-3a67-4736-b39a-548071e1091a"
   },
   "outputs": [],
   "source": [
    "# from google.colab import drive\n",
    "# drive.mount('/content/drive')"
   ]
  },
  {
   "cell_type": "code",
   "execution_count": 3,
   "metadata": {
    "colab": {
     "base_uri": "https://localhost:8080/"
    },
    "executionInfo": {
     "elapsed": 16,
     "status": "ok",
     "timestamp": 1717870196155,
     "user": {
      "displayName": "Helen Barrett",
      "userId": "03986832566319395232"
     },
     "user_tz": -60
    },
    "id": "k45uuEHVLjZX",
    "outputId": "bb66b645-f5cd-4883-a490-320c8ad27261"
   },
   "outputs": [
    {
     "data": {
      "text/plain": [
       "('setForLife_new.csv', <http.client.HTTPMessage at 0x7fdcf643e680>)"
      ]
     },
     "execution_count": 3,
     "metadata": {},
     "output_type": "execute_result"
    }
   ],
   "source": [
    "###################pull new results from national lottery website and store locally##################################\n",
    "import urllib.request\n",
    "url = 'https://www.national-lottery.co.uk/results/set-for-life/draw-history/csv'\n",
    "filename = 'setForLife_new.csv'\n",
    "urllib.request.urlretrieve(url, filename)"
   ]
  },
  {
   "cell_type": "code",
   "execution_count": 4,
   "metadata": {
    "executionInfo": {
     "elapsed": 8,
     "status": "ok",
     "timestamp": 1717870196155,
     "user": {
      "displayName": "Helen Barrett",
      "userId": "03986832566319395232"
     },
     "user_tz": -60
    },
    "id": "a1kB_BF8LjcX"
   },
   "outputs": [],
   "source": [
    "new_df = pd.read_csv('./setForLife_new.csv')"
   ]
  },
  {
   "cell_type": "code",
   "execution_count": 5,
   "metadata": {
    "executionInfo": {
     "elapsed": 2190,
     "status": "ok",
     "timestamp": 1717870198338,
     "user": {
      "displayName": "Helen Barrett",
      "userId": "03986832566319395232"
     },
     "user_tz": -60
    },
    "id": "zXbSOyde3oz8"
   },
   "outputs": [],
   "source": [
    "main_df = pd.read_csv('./setForLife.csv')"
   ]
  },
  {
   "cell_type": "code",
   "execution_count": 6,
   "metadata": {
    "executionInfo": {
     "elapsed": 13,
     "status": "ok",
     "timestamp": 1717870198338,
     "user": {
      "displayName": "Helen Barrett",
      "userId": "03986832566319395232"
     },
     "user_tz": -60
    },
    "id": "3PcaC46aMDfL"
   },
   "outputs": [],
   "source": [
    "#main_df['DrawDate'] = main_df['DrawDate'].astype(\"string\")\n",
    "main_df[\"DrawDate\"] = pd.to_datetime(main_df[\"DrawDate\"])\n",
    "new_df[\"DrawDate\"] = pd.to_datetime(new_df[\"DrawDate\"])\n",
    "#new_df.dtypes"
   ]
  },
  {
   "cell_type": "code",
   "execution_count": 7,
   "metadata": {
    "executionInfo": {
     "elapsed": 12,
     "status": "ok",
     "timestamp": 1717870198338,
     "user": {
      "displayName": "Helen Barrett",
      "userId": "03986832566319395232"
     },
     "user_tz": -60
    },
    "id": "JQQLkIQI34pu"
   },
   "outputs": [],
   "source": [
    "main_df = main_df.drop(columns = [\"Ball Set\", \"Machine\", \"DrawNumber\"])\n",
    "new_df = new_df.drop(columns = [\"Ball Set\", \"Machine\", \"DrawNumber\"])"
   ]
  },
  {
   "cell_type": "code",
   "execution_count": 8,
   "metadata": {
    "executionInfo": {
     "elapsed": 12,
     "status": "ok",
     "timestamp": 1717870198339,
     "user": {
      "displayName": "Helen Barrett",
      "userId": "03986832566319395232"
     },
     "user_tz": -60
    },
    "id": "8_AdPcLaMTIZ"
   },
   "outputs": [],
   "source": [
    "main_df.set_index('DrawDate',inplace=True)\n",
    "new_df.set_index('DrawDate',inplace=True)"
   ]
  },
  {
   "cell_type": "code",
   "execution_count": 9,
   "metadata": {
    "executionInfo": {
     "elapsed": 11,
     "status": "ok",
     "timestamp": 1717870198339,
     "user": {
      "displayName": "Helen Barrett",
      "userId": "03986832566319395232"
     },
     "user_tz": -60
    },
    "id": "P-2IqW7UMbbf"
   },
   "outputs": [],
   "source": [
    "original_df = pd.concat([main_df, new_df], axis=0, join = 'outer')"
   ]
  },
  {
   "cell_type": "code",
   "execution_count": 10,
   "metadata": {
    "executionInfo": {
     "elapsed": 10,
     "status": "ok",
     "timestamp": 1717870198339,
     "user": {
      "displayName": "Helen Barrett",
      "userId": "03986832566319395232"
     },
     "user_tz": -60
    },
    "id": "GON9OwcwMbfG"
   },
   "outputs": [],
   "source": [
    "original_df.index.name='DrawDate'\n",
    "original_df.drop_duplicates(keep='first', inplace=True, ignore_index=False)\n",
    "original_df.sort_index(inplace = True, ascending = False)"
   ]
  },
  {
   "cell_type": "code",
   "execution_count": 11,
   "metadata": {
    "executionInfo": {
     "elapsed": 11,
     "status": "ok",
     "timestamp": 1717870198340,
     "user": {
      "displayName": "Helen Barrett",
      "userId": "03986832566319395232"
     },
     "user_tz": -60
    },
    "id": "VC3SWmuC4aB6"
   },
   "outputs": [],
   "source": [
    "#Creates a list of lists of the numbers in sorted order, and also a long list of all the numbers for the counter\n",
    "\n",
    "def createLongList(df, set):\n",
    "  if set == \"main\":\n",
    "    jRangeLow = 0\n",
    "    jRangeHigh = 5\n",
    "  else:\n",
    "    jRangeLow = 5\n",
    "    jRangeHigh = 6\n",
    "  #numbers is an array of arrays, each week a new array\n",
    "  numbers = []\n",
    "  #longlist has all the numbers in a row, to make the chart\n",
    "  longList = []\n",
    "  #i and j give the coordinates of the dataframe, going from the second from the left, hence j 1,6\n",
    "  for i in range(len(df)):\n",
    "    #print(i)\n",
    "    tempList = []\n",
    "    for j in range(jRangeLow, jRangeHigh):\n",
    "      #print(i)\n",
    "      #print(j)\n",
    "      num = df.iloc[i][j]\n",
    "      tempList.append(num)\n",
    "      longList.append(num)\n",
    "    tempList.sort()\n",
    "    #templist is now an array of that weeks numbers, sorted\n",
    "    numbers.append(tempList)\n",
    "  return numbers, longList"
   ]
  },
  {
   "cell_type": "code",
   "execution_count": 12,
   "metadata": {
    "executionInfo": {
     "elapsed": 443,
     "status": "ok",
     "timestamp": 1717870198773,
     "user": {
      "displayName": "Helen Barrett",
      "userId": "03986832566319395232"
     },
     "user_tz": -60
    },
    "id": "zTxT-V9p5Py4"
   },
   "outputs": [],
   "source": [
    "###########creation of numbers, numbersLife##########################\n",
    "numbers, longList = createLongList(original_df, \"main\")\n",
    "numbersLife, longListLife = createLongList(original_df, \"life\")"
   ]
  },
  {
   "cell_type": "code",
   "execution_count": 13,
   "metadata": {
    "executionInfo": {
     "elapsed": 61,
     "status": "ok",
     "timestamp": 1717870198774,
     "user": {
      "displayName": "Helen Barrett",
      "userId": "03986832566319395232"
     },
     "user_tz": -60
    },
    "id": "InfEtnQz6ZZc"
   },
   "outputs": [],
   "source": [
    "counterNumbers = collections.Counter(longList)\n",
    "counterLifes = collections.Counter(longListLife)"
   ]
  },
  {
   "cell_type": "code",
   "execution_count": 14,
   "metadata": {
    "executionInfo": {
     "elapsed": 59,
     "status": "ok",
     "timestamp": 1717870198774,
     "user": {
      "displayName": "Helen Barrett",
      "userId": "03986832566319395232"
     },
     "user_tz": -60
    },
    "id": "qEGTGGTR62qk"
   },
   "outputs": [],
   "source": [
    "def findMax(myDict):\n",
    "  #find max value in dict\n",
    "  numMax = 0\n",
    "  for key in myDict:\n",
    "    if myDict[key] > numMax:\n",
    "      numMax = myDict[key]\n",
    "  return numMax\n",
    "\n",
    "\n",
    "#iterate through sortedNumMax list and if counterBalls[sortedNumMax] matches\n",
    "#counterBalls[key], add it to the array. Then when finished, add array to array of arrays\n",
    "\n",
    "def viewFrequency(myDict):\n",
    "  occArr = []\n",
    "  numMax = findMax(myDict)\n",
    "  for x in range(1, (numMax+1)):\n",
    "    #print(f\"oSet: {x}\")\n",
    "    tempArr = []\n",
    "    for key in myDict:\n",
    "      if myDict[key] == x:\n",
    "        tempArr.append(key)\n",
    "        #print(key)\n",
    "    if not tempArr:\n",
    "      #if tempArr is empty, add a 0 as filler, or it ends up leaving it out\n",
    "      tempArr.append(0)\n",
    "    tempArr.sort()\n",
    "    #add array to array of arrays\n",
    "    occArr.append(tempArr)\n",
    "  return occArr, numMax"
   ]
  },
  {
   "cell_type": "code",
   "execution_count": 15,
   "metadata": {
    "executionInfo": {
     "elapsed": 59,
     "status": "ok",
     "timestamp": 1717870198774,
     "user": {
      "displayName": "Helen Barrett",
      "userId": "03986832566319395232"
     },
     "user_tz": -60
    },
    "id": "jp0SU2fX7SbX"
   },
   "outputs": [],
   "source": [
    "occArr, numMax = viewFrequency(counterNumbers)\n",
    "occArrStar, numMaxStar = viewFrequency(counterLifes)"
   ]
  },
  {
   "cell_type": "code",
   "execution_count": 16,
   "metadata": {
    "executionInfo": {
     "elapsed": 58,
     "status": "ok",
     "timestamp": 1717870198774,
     "user": {
      "displayName": "Helen Barrett",
      "userId": "03986832566319395232"
     },
     "user_tz": -60
    },
    "id": "5QN8Wgbt7SpI"
   },
   "outputs": [],
   "source": [
    "##finally, create the viewer by adding each array to it's corresponding occurence\n",
    "def createViewer(arrOcc, nMax):\n",
    "  viewDictAll = {}\n",
    "  for x in range(1, (nMax + 1)):\n",
    "    viewDictAll[x] = arrOcc[x-1]\n",
    "  return viewDictAll"
   ]
  },
  {
   "cell_type": "code",
   "execution_count": 17,
   "metadata": {
    "executionInfo": {
     "elapsed": 59,
     "status": "ok",
     "timestamp": 1717870198775,
     "user": {
      "displayName": "Helen Barrett",
      "userId": "03986832566319395232"
     },
     "user_tz": -60
    },
    "id": "MUqffH8l7yG8"
   },
   "outputs": [],
   "source": [
    "########################viewing dictionaries of occurence###################\n",
    "viewDictAll = createViewer(occArr, numMax)\n",
    "starsDictAll = createViewer(occArrStar, numMaxStar)"
   ]
  },
  {
   "cell_type": "code",
   "execution_count": 18,
   "metadata": {
    "executionInfo": {
     "elapsed": 58,
     "status": "ok",
     "timestamp": 1717870198775,
     "user": {
      "displayName": "Helen Barrett",
      "userId": "03986832566319395232"
     },
     "user_tz": -60
    },
    "id": "_2hKwHlJa0hu"
   },
   "outputs": [],
   "source": [
    "#####################viewing dictionaries for last 10 weeks##########################"
   ]
  },
  {
   "cell_type": "code",
   "execution_count": 19,
   "metadata": {
    "executionInfo": {
     "elapsed": 58,
     "status": "ok",
     "timestamp": 1717870198775,
     "user": {
      "displayName": "Helen Barrett",
      "userId": "03986832566319395232"
     },
     "user_tz": -60
    },
    "id": "yS5XbA0ea0mI"
   },
   "outputs": [],
   "source": [
    "def viewLastTen(ballSet):\n",
    "  lastTen = []\n",
    "  if ballSet == \"Main\":\n",
    "    lastTen = numbers[:10]\n",
    "  else:\n",
    "    lastTen = numbersLife[:10]\n",
    "\n",
    "  #turn lastTen into a counter...\n",
    "  counterList = []\n",
    "  for row in lastTen:\n",
    "    for num in row:\n",
    "      counterList.append(num)\n",
    "\n",
    "  counter = collections.Counter(counterList)\n",
    "\n",
    "  occArr, numMax = viewFrequency(counter)\n",
    "  viewer = createViewer(occArr, numMax)\n",
    "  return viewer\n",
    "  #return \"ook\"\n"
   ]
  },
  {
   "cell_type": "code",
   "execution_count": 20,
   "metadata": {
    "executionInfo": {
     "elapsed": 57,
     "status": "ok",
     "timestamp": 1717870198775,
     "user": {
      "displayName": "Helen Barrett",
      "userId": "03986832566319395232"
     },
     "user_tz": -60
    },
    "id": "7-LJ3mbma0rB"
   },
   "outputs": [],
   "source": [
    "viewDictLastTen = viewLastTen(\"Main\")\n",
    "viewDictStarLastTen = viewLastTen(\"Star\")"
   ]
  },
  {
   "cell_type": "code",
   "execution_count": 21,
   "metadata": {
    "colab": {
     "base_uri": "https://localhost:8080/"
    },
    "executionInfo": {
     "elapsed": 57,
     "status": "ok",
     "timestamp": 1717870198775,
     "user": {
      "displayName": "Helen Barrett",
      "userId": "03986832566319395232"
     },
     "user_tz": -60
    },
    "id": "TWzBM6fafKtw",
    "outputId": "161ebe84-06b0-445d-f786-27d5a284efd8"
   },
   "outputs": [
    {
     "data": {
      "text/plain": [
       "{1: [6, 7, 9], 2: [8, 10], 3: [3]}"
      ]
     },
     "execution_count": 21,
     "metadata": {},
     "output_type": "execute_result"
    }
   ],
   "source": [
    "viewDictStarLastTen"
   ]
  },
  {
   "cell_type": "code",
   "execution_count": 22,
   "metadata": {
    "executionInfo": {
     "elapsed": 48,
     "status": "ok",
     "timestamp": 1717870198776,
     "user": {
      "displayName": "Helen Barrett",
      "userId": "03986832566319395232"
     },
     "user_tz": -60
    },
    "id": "npDBBk-p7_4h"
   },
   "outputs": [],
   "source": [
    "##################how many this weeks balls are in previous weeks############################\n",
    "\n",
    "#This returns how many of the balls in that week were in the last x many weeks\n",
    "def compareTenBackend(numberList, startIndex, weeks):\n",
    "  num = 0\n",
    "  endIndex = startIndex + weeks\n",
    "  tenthList = numberList[startIndex+1:endIndex]\n",
    "  compareList = numberList[startIndex]\n",
    "\n",
    "  isin = set([])\n",
    "  for x in compareList:\n",
    "    for y in range(0, len(tenthList)):\n",
    "      if x in tenthList[y]: #this iterates through each array in tenthList\n",
    "        isin.add(x)\n",
    "\n",
    "  count = len(isin)\n",
    "  return count\n",
    "\n",
    "#write another function that calls compareTenBackend() in a loop, telling us for each week, how many of those balls are in\n",
    "#the past 10 weeks balls\n",
    "def compareNextTen(numberList, weeks):\n",
    "  returnList = []\n",
    "  for x in range(0,len(numberList)):\n",
    "    num = compareTenBackend(numberList, x, weeks)\n",
    "    returnList.append(num)\n",
    "  return returnList\n"
   ]
  },
  {
   "cell_type": "code",
   "execution_count": 23,
   "metadata": {
    "executionInfo": {
     "elapsed": 48,
     "status": "ok",
     "timestamp": 1717870198776,
     "user": {
      "displayName": "Helen Barrett",
      "userId": "03986832566319395232"
     },
     "user_tz": -60
    },
    "id": "TZw0drux8n8x"
   },
   "outputs": [],
   "source": [
    "comparedTen = compareNextTen(numbers, 10)\n",
    "comparedTenStars = compareNextTen(numbersLife, 10)\n",
    "\n",
    "#this isn't meaningful\n",
    "comparedFive = compareNextTen(numbers, 5)\n",
    "comparedFiveStars = compareNextTen(numbersLife, 5)\n",
    "\n",
    "#this is only meaningful for the stars\n",
    "comparedSeven = compareNextTen(numbers, 7)\n",
    "comparedSevenStars = compareNextTen(numbersLife, 7)"
   ]
  },
  {
   "cell_type": "code",
   "execution_count": 24,
   "metadata": {
    "executionInfo": {
     "elapsed": 47,
     "status": "ok",
     "timestamp": 1717870198776,
     "user": {
      "displayName": "Helen Barrett",
      "userId": "03986832566319395232"
     },
     "user_tz": -60
    },
    "id": "eYcdJo1nCSoe"
   },
   "outputs": [],
   "source": [
    "######################## Odd / Even ##############################"
   ]
  },
  {
   "cell_type": "code",
   "execution_count": 25,
   "metadata": {
    "executionInfo": {
     "elapsed": 47,
     "status": "ok",
     "timestamp": 1717870198776,
     "user": {
      "displayName": "Helen Barrett",
      "userId": "03986832566319395232"
     },
     "user_tz": -60
    },
    "id": "qVHazqKsCSst"
   },
   "outputs": [],
   "source": [
    "def oddEven(numbers):\n",
    "  even = []\n",
    "  odd = []\n",
    "  # x is an array\n",
    "  for x in numbers:\n",
    "    evenTotal = 0\n",
    "    oddTotal = 0\n",
    "    # y is the number itself\n",
    "    for y in x:\n",
    "      if y % 2 == 0:\n",
    "        evenTotal += 1\n",
    "      else:\n",
    "        oddTotal+=1\n",
    "    even.append(evenTotal)\n",
    "    odd.append(oddTotal)\n",
    "\n",
    "  return even, odd"
   ]
  },
  {
   "cell_type": "code",
   "execution_count": 26,
   "metadata": {
    "executionInfo": {
     "elapsed": 47,
     "status": "ok",
     "timestamp": 1717870198777,
     "user": {
      "displayName": "Helen Barrett",
      "userId": "03986832566319395232"
     },
     "user_tz": -60
    },
    "id": "59RH7LjVBQcG"
   },
   "outputs": [],
   "source": [
    "evenList, oddList = oddEven(numbers)"
   ]
  },
  {
   "cell_type": "code",
   "execution_count": 27,
   "metadata": {
    "executionInfo": {
     "elapsed": 46,
     "status": "ok",
     "timestamp": 1717870198777,
     "user": {
      "displayName": "Helen Barrett",
      "userId": "03986832566319395232"
     },
     "user_tz": -60
    },
    "id": "hBOY2x5blkOe"
   },
   "outputs": [],
   "source": [
    "evenTenCounter = collections.Counter(evenList[:10])\n",
    "evenCounter = collections.Counter(evenList)\n",
    "\n",
    "oddCounter = collections.Counter(oddList)"
   ]
  },
  {
   "cell_type": "code",
   "execution_count": 28,
   "metadata": {
    "executionInfo": {
     "elapsed": 46,
     "status": "ok",
     "timestamp": 1717870198777,
     "user": {
      "displayName": "Helen Barrett",
      "userId": "03986832566319395232"
     },
     "user_tz": -60
    },
    "id": "jWCkIB4jRa8y"
   },
   "outputs": [],
   "source": [
    "#print even if life ball even, else odd. create list\n",
    "def oddEvenLife(lifeList):\n",
    "  returned = []\n",
    "  for x in lifeList:\n",
    "    if x % 2 == 0:\n",
    "      returned.append(\"Even\")\n",
    "    else:\n",
    "      returned.append(\"Odd\")\n",
    "  return returned"
   ]
  },
  {
   "cell_type": "code",
   "execution_count": 29,
   "metadata": {
    "executionInfo": {
     "elapsed": 46,
     "status": "ok",
     "timestamp": 1717870198777,
     "user": {
      "displayName": "Helen Barrett",
      "userId": "03986832566319395232"
     },
     "user_tz": -60
    },
    "id": "KUR5rQRHR1DN"
   },
   "outputs": [],
   "source": [
    "lifeOddEven = oddEvenLife(longListLife)"
   ]
  },
  {
   "cell_type": "code",
   "execution_count": 30,
   "metadata": {
    "executionInfo": {
     "elapsed": 46,
     "status": "ok",
     "timestamp": 1717870198778,
     "user": {
      "displayName": "Helen Barrett",
      "userId": "03986832566319395232"
     },
     "user_tz": -60
    },
    "id": "pmsEbj7JTxYN"
   },
   "outputs": [],
   "source": [
    "def lifeEvenCount(life):\n",
    "  odd = 0\n",
    "  even = 0\n",
    "  for x in life:\n",
    "    if x == \"Odd\":\n",
    "      odd += 1\n",
    "    else:\n",
    "      even += 1\n",
    "  print(f\"there are {even} even life balls and {odd} odd life balls\")\n",
    "  return odd, even"
   ]
  },
  {
   "cell_type": "code",
   "execution_count": 31,
   "metadata": {
    "colab": {
     "base_uri": "https://localhost:8080/"
    },
    "executionInfo": {
     "elapsed": 46,
     "status": "ok",
     "timestamp": 1717870198778,
     "user": {
      "displayName": "Helen Barrett",
      "userId": "03986832566319395232"
     },
     "user_tz": -60
    },
    "id": "S3pXy1-2UJIF",
    "outputId": "64141c99-b22e-497e-b096-4ca315d72977"
   },
   "outputs": [
    {
     "name": "stdout",
     "output_type": "stream",
     "text": [
      "there are 39 even life balls and 42 odd life balls\n"
     ]
    }
   ],
   "source": [
    "lifeOdd, lifeEven = lifeEvenCount(lifeOddEven)"
   ]
  },
  {
   "cell_type": "code",
   "execution_count": 32,
   "metadata": {
    "colab": {
     "base_uri": "https://localhost:8080/"
    },
    "executionInfo": {
     "elapsed": 35,
     "status": "ok",
     "timestamp": 1717870198778,
     "user": {
      "displayName": "Helen Barrett",
      "userId": "03986832566319395232"
     },
     "user_tz": -60
    },
    "id": "R1_fN6H_UUYC",
    "outputId": "c09c06ff-aaaa-4e75-b551-08c98285539f"
   },
   "outputs": [
    {
     "data": {
      "text/plain": [
       "{'Even': 39, 'Odd': 42}"
      ]
     },
     "execution_count": 32,
     "metadata": {},
     "output_type": "execute_result"
    }
   ],
   "source": [
    "lifeOddEvenDict = {\"Even\": lifeEven, \"Odd\": lifeOdd}\n",
    "lifeOddEvenDict"
   ]
  },
  {
   "cell_type": "code",
   "execution_count": 33,
   "metadata": {
    "executionInfo": {
     "elapsed": 30,
     "status": "ok",
     "timestamp": 1717870198778,
     "user": {
      "displayName": "Helen Barrett",
      "userId": "03986832566319395232"
     },
     "user_tz": -60
    },
    "id": "DtFnY5Bv-Uml"
   },
   "outputs": [],
   "source": [
    "def makeMainDfLists(numbers):\n",
    "  b1 = []\n",
    "  b2 = []\n",
    "  b3 = []\n",
    "  b4 = []\n",
    "  b5 = []\n",
    "  for row in numbers:\n",
    "    b1.append(row[0])\n",
    "    b2.append(row[1])\n",
    "    b3.append(row[2])\n",
    "    b4.append(row[3])\n",
    "    b5.append(row[4])\n",
    "  return b1, b2, b3, b4, b5\n"
   ]
  },
  {
   "cell_type": "code",
   "execution_count": 34,
   "metadata": {
    "executionInfo": {
     "elapsed": 31,
     "status": "ok",
     "timestamp": 1717870198779,
     "user": {
      "displayName": "Helen Barrett",
      "userId": "03986832566319395232"
     },
     "user_tz": -60
    },
    "id": "tu6hjWI6-aD7"
   },
   "outputs": [],
   "source": [
    "b1, b2, b3, b4, b5 = makeMainDfLists(numbers)"
   ]
  },
  {
   "cell_type": "code",
   "execution_count": 35,
   "metadata": {
    "executionInfo": {
     "elapsed": 31,
     "status": "ok",
     "timestamp": 1717870198779,
     "user": {
      "displayName": "Helen Barrett",
      "userId": "03986832566319395232"
     },
     "user_tz": -60
    },
    "id": "FjF-dzhQ_MCy"
   },
   "outputs": [],
   "source": [
    "##########################Create a new dataframe, add columns and rename stuff####################\n",
    "\n",
    "main_df = original_df.copy()\n",
    "main_df['Ball 1'] = b1\n",
    "main_df['Ball 2'] = b2\n",
    "main_df['Ball 3'] = b3\n",
    "main_df['Ball 4'] = b4\n",
    "main_df['Ball 5'] = b5"
   ]
  },
  {
   "cell_type": "code",
   "execution_count": 36,
   "metadata": {
    "colab": {
     "base_uri": "https://localhost:8080/",
     "height": 175
    },
    "executionInfo": {
     "elapsed": 30,
     "status": "ok",
     "timestamp": 1717870198779,
     "user": {
      "displayName": "Helen Barrett",
      "userId": "03986832566319395232"
     },
     "user_tz": -60
    },
    "id": "6JQYTDNM-BbQ",
    "outputId": "076f9fbb-4cad-4094-bbde-0a7ca7c4b34d"
   },
   "outputs": [
    {
     "data": {
      "text/html": [
       "<div>\n",
       "<style scoped>\n",
       "    .dataframe tbody tr th:only-of-type {\n",
       "        vertical-align: middle;\n",
       "    }\n",
       "\n",
       "    .dataframe tbody tr th {\n",
       "        vertical-align: top;\n",
       "    }\n",
       "\n",
       "    .dataframe thead th {\n",
       "        text-align: right;\n",
       "    }\n",
       "</style>\n",
       "<table border=\"1\" class=\"dataframe\">\n",
       "  <thead>\n",
       "    <tr style=\"text-align: right;\">\n",
       "      <th></th>\n",
       "      <th>Ball 1</th>\n",
       "      <th>Ball 2</th>\n",
       "      <th>Ball 3</th>\n",
       "      <th>Ball 4</th>\n",
       "      <th>Ball 5</th>\n",
       "      <th>Life</th>\n",
       "    </tr>\n",
       "    <tr>\n",
       "      <th>DrawDate</th>\n",
       "      <th></th>\n",
       "      <th></th>\n",
       "      <th></th>\n",
       "      <th></th>\n",
       "      <th></th>\n",
       "      <th></th>\n",
       "    </tr>\n",
       "  </thead>\n",
       "  <tbody>\n",
       "    <tr>\n",
       "      <th>2024-06-13</th>\n",
       "      <td>10</td>\n",
       "      <td>16</td>\n",
       "      <td>19</td>\n",
       "      <td>24</td>\n",
       "      <td>38</td>\n",
       "      <td>3</td>\n",
       "    </tr>\n",
       "    <tr>\n",
       "      <th>2024-06-10</th>\n",
       "      <td>28</td>\n",
       "      <td>30</td>\n",
       "      <td>31</td>\n",
       "      <td>32</td>\n",
       "      <td>42</td>\n",
       "      <td>10</td>\n",
       "    </tr>\n",
       "    <tr>\n",
       "      <th>2024-06-06</th>\n",
       "      <td>3</td>\n",
       "      <td>24</td>\n",
       "      <td>29</td>\n",
       "      <td>31</td>\n",
       "      <td>41</td>\n",
       "      <td>6</td>\n",
       "    </tr>\n",
       "  </tbody>\n",
       "</table>\n",
       "</div>"
      ],
      "text/plain": [
       "            Ball 1  Ball 2  Ball 3  Ball 4  Ball 5  Life\n",
       "DrawDate                                                \n",
       "2024-06-13      10      16      19      24      38     3\n",
       "2024-06-10      28      30      31      32      42    10\n",
       "2024-06-06       3      24      29      31      41     6"
      ]
     },
     "execution_count": 36,
     "metadata": {},
     "output_type": "execute_result"
    }
   ],
   "source": [
    "#list(main_df.columns.values) #list column names\n",
    "#main_df['DrawDate'] = main_df.index # create column from index\n",
    "\n",
    "main_df = main_df.rename(columns={\"Life Ball\": \"Life\"})\n",
    "main_df.head(3)"
   ]
  },
  {
   "cell_type": "code",
   "execution_count": 37,
   "metadata": {
    "executionInfo": {
     "elapsed": 28,
     "status": "ok",
     "timestamp": 1717870198779,
     "user": {
      "displayName": "Helen Barrett",
      "userId": "03986832566319395232"
     },
     "user_tz": -60
    },
    "id": "xEZ3Go7H-2Lu"
   },
   "outputs": [],
   "source": [
    "main_df['10Main'] = comparedTen\n",
    "main_df['10Life'] = comparedTenStars\n",
    "main_df['7Life'] = comparedSevenStars"
   ]
  },
  {
   "cell_type": "code",
   "execution_count": 38,
   "metadata": {
    "executionInfo": {
     "elapsed": 28,
     "status": "ok",
     "timestamp": 1717870198779,
     "user": {
      "displayName": "Helen Barrett",
      "userId": "03986832566319395232"
     },
     "user_tz": -60
    },
    "id": "IYFSQJGFG1IT"
   },
   "outputs": [],
   "source": [
    "main_df['Odd'] = oddList\n",
    "main_df['Even'] = evenList\n",
    "main_df['LifeOdd'] = lifeOddEven"
   ]
  },
  {
   "cell_type": "code",
   "execution_count": 39,
   "metadata": {
    "executionInfo": {
     "elapsed": 438,
     "status": "ok",
     "timestamp": 1717870199190,
     "user": {
      "displayName": "Helen Barrett",
      "userId": "03986832566319395232"
     },
     "user_tz": -60
    },
    "id": "fof3ePxJB7gc"
   },
   "outputs": [],
   "source": [
    "main_df.to_csv('./SetForLife_main_out.csv', index=True)"
   ]
  },
  {
   "cell_type": "code",
   "execution_count": 40,
   "metadata": {
    "executionInfo": {
     "elapsed": 17,
     "status": "ok",
     "timestamp": 1717870199191,
     "user": {
      "displayName": "Helen Barrett",
      "userId": "03986832566319395232"
     },
     "user_tz": -60
    },
    "id": "5Nmx9EqbKIlp"
   },
   "outputs": [],
   "source": [
    "############### is present ###########################################"
   ]
  },
  {
   "cell_type": "code",
   "execution_count": 41,
   "metadata": {
    "executionInfo": {
     "elapsed": 16,
     "status": "ok",
     "timestamp": 1717870199191,
     "user": {
      "displayName": "Helen Barrett",
      "userId": "03986832566319395232"
     },
     "user_tz": -60
    },
    "id": "_vSJH_EZKIpB"
   },
   "outputs": [],
   "source": [
    "# was that bucket in this weeks numbers?\n",
    "def isPresent(numbers, numb):\n",
    "  presentList = []\n",
    "  for row in numbers:\n",
    "    present = False\n",
    "    for y in row:\n",
    "      if y > (numb-1) and y < (numb+9):\n",
    "        present = True\n",
    "    if present == True:\n",
    "      presentList.append(\"True\")\n",
    "    else:\n",
    "      presentList.append(\"False\")\n",
    "  return presentList"
   ]
  },
  {
   "cell_type": "code",
   "execution_count": 42,
   "metadata": {
    "colab": {
     "base_uri": "https://localhost:8080/"
    },
    "executionInfo": {
     "elapsed": 15,
     "status": "ok",
     "timestamp": 1717870199191,
     "user": {
      "displayName": "Helen Barrett",
      "userId": "03986832566319395232"
     },
     "user_tz": -60
    },
    "id": "YrMqofbHKIsb",
    "outputId": "49130ee2-e89c-46f3-898d-ca69a9dd9202"
   },
   "outputs": [
    {
     "data": {
      "text/plain": [
       "['True', 'True', 'True', 'True', 'False']"
      ]
     },
     "execution_count": 42,
     "metadata": {},
     "output_type": "execute_result"
    }
   ],
   "source": [
    "presentList0 = isPresent(numbers, 0)\n",
    "presentList10 = isPresent(numbers, 10)\n",
    "presentList20 = isPresent(numbers, 20)\n",
    "presentList30 = isPresent(numbers, 30)\n",
    "presentList40 = isPresent(numbers, 40)\n",
    "presentList30[:5]"
   ]
  },
  {
   "cell_type": "code",
   "execution_count": 43,
   "metadata": {
    "executionInfo": {
     "elapsed": 11,
     "status": "ok",
     "timestamp": 1717870199191,
     "user": {
      "displayName": "Helen Barrett",
      "userId": "03986832566319395232"
     },
     "user_tz": -60
    },
    "id": "FIkS1KMuQnWz"
   },
   "outputs": [],
   "source": [
    "def createDf(zero,one,two,three,four):\n",
    "    df = original_df.copy()\n",
    "    df = df.drop(columns = ['Ball 1',\n",
    "  'Ball 2',\n",
    "  'Ball 3',\n",
    "  'Ball 4',\n",
    "  'Ball 5',\n",
    "  'Life Ball'])\n",
    "\n",
    "    df['zeros'] = zero\n",
    "    df['ones'] = one\n",
    "    df['twos'] = two\n",
    "    df['threes'] = three\n",
    "    df['fours'] = four\n",
    "\n",
    "    return df"
   ]
  },
  {
   "cell_type": "code",
   "execution_count": 44,
   "metadata": {
    "executionInfo": {
     "elapsed": 11,
     "status": "ok",
     "timestamp": 1717870199192,
     "user": {
      "displayName": "Helen Barrett",
      "userId": "03986832566319395232"
     },
     "user_tz": -60
    },
    "id": "hQlggQ0JNO2R"
   },
   "outputs": [],
   "source": [
    "def howManyPresent(numbers):\n",
    "  zeroList = []\n",
    "  tenList = []\n",
    "  twentyList = []\n",
    "  thirtyList = []\n",
    "  fourtyList = []\n",
    "  for row in numbers:\n",
    "    zero = 0\n",
    "    ten = 0\n",
    "    twenty = 0\n",
    "    thirty = 0\n",
    "    fourty = 0\n",
    "\n",
    "    for num in row:\n",
    "      if num < 10:\n",
    "        zero += 1\n",
    "      if num > 9 and num < 20:\n",
    "        ten += 1\n",
    "      if num > 19 and num < 30:\n",
    "        twenty += 1\n",
    "      if num > 29 and num < 40:\n",
    "        thirty += 1\n",
    "      if num > 39 and num < 50:\n",
    "        fourty += 1\n",
    "    zeroList.append(zero)\n",
    "    tenList.append(ten)\n",
    "    twentyList.append(twenty)\n",
    "    thirtyList.append(thirty)\n",
    "    fourtyList.append(fourty)\n",
    "\n",
    "  df = createDf(zeroList,tenList,twentyList,thirtyList,fourtyList)\n",
    "\n",
    "  return df,zeroList,tenList,twentyList,thirtyList,fourtyList"
   ]
  },
  {
   "cell_type": "code",
   "execution_count": 45,
   "metadata": {
    "executionInfo": {
     "elapsed": 11,
     "status": "ok",
     "timestamp": 1717870199192,
     "user": {
      "displayName": "Helen Barrett",
      "userId": "03986832566319395232"
     },
     "user_tz": -60
    },
    "id": "_nHfx9eYNfPB"
   },
   "outputs": [],
   "source": [
    "present_df, zeros, tens, twenties, thirties, fourties = howManyPresent(numbers)\n",
    "#present_df.head(5)"
   ]
  },
  {
   "cell_type": "code",
   "execution_count": 46,
   "metadata": {
    "executionInfo": {
     "elapsed": 10,
     "status": "ok",
     "timestamp": 1717870199192,
     "user": {
      "displayName": "Helen Barrett",
      "userId": "03986832566319395232"
     },
     "user_tz": -60
    },
    "id": "wgX_KjW64h1w"
   },
   "outputs": [],
   "source": [
    "presentList = [zeros, tens, twenties, thirties, fourties]"
   ]
  },
  {
   "cell_type": "code",
   "execution_count": 47,
   "metadata": {
    "executionInfo": {
     "elapsed": 467,
     "status": "ok",
     "timestamp": 1717870199649,
     "user": {
      "displayName": "Helen Barrett",
      "userId": "03986832566319395232"
     },
     "user_tz": -60
    },
    "id": "CAdGI0McXcbH"
   },
   "outputs": [],
   "source": [
    "present_df.to_csv('./setForLife_present_out.csv', index=True)"
   ]
  },
  {
   "cell_type": "code",
   "execution_count": 48,
   "metadata": {
    "colab": {
     "base_uri": "https://localhost:8080/"
    },
    "executionInfo": {
     "elapsed": 23,
     "status": "ok",
     "timestamp": 1717870199649,
     "user": {
      "displayName": "Helen Barrett",
      "userId": "03986832566319395232"
     },
     "user_tz": -60
    },
    "id": "DHcgo9jUG1N7",
    "outputId": "3d3aeba6-4a17-4ee7-de04-db99f388a040"
   },
   "outputs": [
    {
     "data": {
      "text/plain": [
       "['Ball 1', 'Ball 2', 'Ball 3', 'Ball 4', 'Ball 5', 'Life Ball']"
      ]
     },
     "execution_count": 48,
     "metadata": {},
     "output_type": "execute_result"
    }
   ],
   "source": [
    "list(original_df.columns.values)"
   ]
  },
  {
   "cell_type": "code",
   "execution_count": 49,
   "metadata": {
    "executionInfo": {
     "elapsed": 20,
     "status": "ok",
     "timestamp": 1717870199649,
     "user": {
      "displayName": "Helen Barrett",
      "userId": "03986832566319395232"
     },
     "user_tz": -60
    },
    "id": "m4YSTlpkBQey"
   },
   "outputs": [],
   "source": [
    "all_df = main_df.join(present_df)\n",
    "#all_df.head(5)"
   ]
  },
  {
   "cell_type": "code",
   "execution_count": 50,
   "metadata": {
    "executionInfo": {
     "elapsed": 21,
     "status": "ok",
     "timestamp": 1717870199650,
     "user": {
      "displayName": "Helen Barrett",
      "userId": "03986832566319395232"
     },
     "user_tz": -60
    },
    "id": "bHL8Zjo4rG6m"
   },
   "outputs": [],
   "source": [
    "##################### how many in a row from each bucket ###############################"
   ]
  },
  {
   "cell_type": "code",
   "execution_count": 51,
   "metadata": {
    "colab": {
     "base_uri": "https://localhost:8080/"
    },
    "executionInfo": {
     "elapsed": 20,
     "status": "ok",
     "timestamp": 1717870199650,
     "user": {
      "displayName": "Helen Barrett",
      "userId": "03986832566319395232"
     },
     "user_tz": -60
    },
    "id": "ZhUsecUXrHFW",
    "outputId": "f93a0dbc-8787-48d3-af29-edcc70f5b83f"
   },
   "outputs": [
    {
     "data": {
      "text/plain": [
       "0"
      ]
     },
     "execution_count": 51,
     "metadata": {},
     "output_type": "execute_result"
    }
   ],
   "source": [
    "all_df.iloc[0][12]"
   ]
  },
  {
   "cell_type": "code",
   "execution_count": 52,
   "metadata": {
    "executionInfo": {
     "elapsed": 15,
     "status": "ok",
     "timestamp": 1717870199650,
     "user": {
      "displayName": "Helen Barrett",
      "userId": "03986832566319395232"
     },
     "user_tz": -60
    },
    "id": "lcjmpy8irHJc"
   },
   "outputs": [],
   "source": [
    "def howManyBucket(presentList):\n",
    "  runningCount = 0\n",
    "  returned = []\n",
    "  count = 0\n",
    "\n",
    "  #see how many in a row, max.\n",
    "  for listy in presentList:\n",
    "    for num in listy:\n",
    "      if num == 0:\n",
    "        if count > runningCount:\n",
    "          runningCount = count\n",
    "        count = 0\n",
    "      else: count += 1\n",
    "    returned.append(runningCount)\n",
    "    runningCount = 0\n",
    "\n",
    "  return  returned"
   ]
  },
  {
   "cell_type": "code",
   "execution_count": 53,
   "metadata": {
    "colab": {
     "base_uri": "https://localhost:8080/"
    },
    "executionInfo": {
     "elapsed": 14,
     "status": "ok",
     "timestamp": 1717870199650,
     "user": {
      "displayName": "Helen Barrett",
      "userId": "03986832566319395232"
     },
     "user_tz": -60
    },
    "id": "kYGsgDzjrHNv",
    "outputId": "3391be05-4c9f-4218-df4f-b27ded212da8"
   },
   "outputs": [
    {
     "data": {
      "text/plain": [
       "[7, 21, 11, 9, 12]"
      ]
     },
     "execution_count": 53,
     "metadata": {},
     "output_type": "execute_result"
    }
   ],
   "source": [
    "bucketInARow = howManyBucket(presentList)\n",
    "bucketInARow"
   ]
  },
  {
   "cell_type": "code",
   "execution_count": 54,
   "metadata": {
    "executionInfo": {
     "elapsed": 367,
     "status": "ok",
     "timestamp": 1717870200007,
     "user": {
      "displayName": "Helen Barrett",
      "userId": "03986832566319395232"
     },
     "user_tz": -60
    },
    "id": "y_E8S-zGrHTS"
   },
   "outputs": [],
   "source": [
    "def howManyZeros(zeros, tens, twenties, thirties, fourties):\n",
    "  godList = [zeros, tens, twenties, thirties, fourties]\n",
    "  count = 0\n",
    "  runningCount = 0\n",
    "  returned = []\n",
    "\n",
    "  for listy in godList:\n",
    "    for num in listy:\n",
    "      if num == 0:\n",
    "        count += 1\n",
    "      else:\n",
    "        if count > runningCount:\n",
    "          runningCount = count\n",
    "        count = 0\n",
    "    returned.append(runningCount)\n",
    "    runningCount = 0\n",
    "\n",
    "  return returned"
   ]
  },
  {
   "cell_type": "code",
   "execution_count": 55,
   "metadata": {
    "colab": {
     "base_uri": "https://localhost:8080/"
    },
    "executionInfo": {
     "elapsed": 9,
     "status": "ok",
     "timestamp": 1717870200007,
     "user": {
      "displayName": "Helen Barrett",
      "userId": "03986832566319395232"
     },
     "user_tz": -60
    },
    "id": "dKKbiJfk2pjl",
    "outputId": "68eb4cb5-f173-400f-a9d0-f77bcfaac4ab"
   },
   "outputs": [
    {
     "data": {
      "text/plain": [
       "[3, 3, 5, 4, 3]"
      ]
     },
     "execution_count": 55,
     "metadata": {},
     "output_type": "execute_result"
    }
   ],
   "source": [
    "bucketZeros = howManyZeros(zeros, tens, twenties, thirties, fourties)\n",
    "bucketZeros"
   ]
  },
  {
   "cell_type": "code",
   "execution_count": 56,
   "metadata": {
    "executionInfo": {
     "elapsed": 607,
     "status": "ok",
     "timestamp": 1717870200610,
     "user": {
      "displayName": "Helen Barrett",
      "userId": "03986832566319395232"
     },
     "user_tz": -60
    },
    "id": "K_HJoeSRBQht"
   },
   "outputs": [],
   "source": [
    "all_df.to_csv('./setForLife_all.csv', index=True)"
   ]
  },
  {
   "cell_type": "code",
   "execution_count": 57,
   "metadata": {
    "executionInfo": {
     "elapsed": 12,
     "status": "ok",
     "timestamp": 1717870200610,
     "user": {
      "displayName": "Helen Barrett",
      "userId": "03986832566319395232"
     },
     "user_tz": -60
    },
    "id": "vHKgDbpkl3tO"
   },
   "outputs": [],
   "source": [
    "#######################when was ball last seen###########"
   ]
  },
  {
   "cell_type": "code",
   "execution_count": 58,
   "metadata": {
    "executionInfo": {
     "elapsed": 11,
     "status": "ok",
     "timestamp": 1717870200610,
     "user": {
      "displayName": "Helen Barrett",
      "userId": "03986832566319395232"
     },
     "user_tz": -60
    },
    "id": "02hNN7R2l31J"
   },
   "outputs": [],
   "source": [
    "#return a dictionary which the key as the ball number and the value as the last time the ball came out, in number of draws ago\n",
    "def lastSeen(numbers):\n",
    "  lastSeenDict = {}\n",
    "  for num in range(1,48):\n",
    "    #print(num)\n",
    "    counter = 1\n",
    "    for row in numbers:\n",
    "      if num in row:\n",
    "        lastSeenDict[num]= counter\n",
    "        break\n",
    "      else:\n",
    "        counter += 1\n",
    "  return lastSeenDict\n",
    "\n",
    "lastSeenDict = lastSeen(numbers)"
   ]
  },
  {
   "cell_type": "code",
   "execution_count": 59,
   "metadata": {
    "colab": {
     "base_uri": "https://localhost:8080/"
    },
    "executionInfo": {
     "elapsed": 599,
     "status": "ok",
     "timestamp": 1717870201198,
     "user": {
      "displayName": "Helen Barrett",
      "userId": "03986832566319395232"
     },
     "user_tz": -60
    },
    "id": "g7M3HpEal344",
    "outputId": "36551525-2f37-44eb-ce16-4590da53ecca"
   },
   "outputs": [
    {
     "data": {
      "text/plain": [
       "8.446808510638299"
      ]
     },
     "execution_count": 59,
     "metadata": {},
     "output_type": "execute_result"
    }
   ],
   "source": [
    "sum = 0\n",
    "for key in lastSeenDict:\n",
    "  value = lastSeenDict[key]\n",
    "  sum = sum + value\n",
    "\n",
    "averageLastSeen = sum / len(lastSeenDict)\n",
    "averageLastSeen"
   ]
  },
  {
   "cell_type": "code",
   "execution_count": 60,
   "metadata": {
    "executionInfo": {
     "elapsed": 51,
     "status": "ok",
     "timestamp": 1717870201199,
     "user": {
      "displayName": "Helen Barrett",
      "userId": "03986832566319395232"
     },
     "user_tz": -60
    },
    "id": "CLm5LXeRTFZJ"
   },
   "outputs": [],
   "source": [
    "################# calculate probability of bucket distribution #########################"
   ]
  },
  {
   "cell_type": "code",
   "execution_count": 61,
   "metadata": {
    "executionInfo": {
     "elapsed": 51,
     "status": "ok",
     "timestamp": 1717870201199,
     "user": {
      "displayName": "Helen Barrett",
      "userId": "03986832566319395232"
     },
     "user_tz": -60
    },
    "id": "PPH-6wwhTKWU"
   },
   "outputs": [],
   "source": [
    "def bucketPercentage(dicty):\n",
    "  sum = 0\n",
    "  for key in dicty:\n",
    "    sum = sum + dicty[key]\n",
    "  for key in dicty:\n",
    "    value = dicty[key] / sum * 100\n",
    "    value = float(round(value, 2))\n",
    "    dicty[key] = value\n",
    "  return dicty\n",
    "\n",
    "def bucketProbability(df):\n",
    "  count11111 = 0\n",
    "  count01112 = 0\n",
    "  count00122 = 0\n",
    "  count00113 = 0\n",
    "  count00023 = 0\n",
    "  count00014 = 0\n",
    "  count00005 = 0\n",
    "\n",
    "  returnDict = {\"11111\": 0, \"01112\": 0, \"00122\": 0, \"00113\": 0, \"00023\": 0, \"00014\": 0, \"00005\": 0}\n",
    "  for row in range(len(df)):\n",
    "    tempList = []\n",
    "    for bucket in range(12,17):\n",
    "      value = df.iloc[row][bucket]\n",
    "      #stick value in a wee list, sort it\n",
    "      tempList.append(value)\n",
    "      tempList.sort()\n",
    "    #print(tempList)\n",
    "\n",
    "    if tempList == [1,1,1,1,1]:\n",
    "      count11111 += 1\n",
    "    elif tempList == [0,1,1,1,2]:\n",
    "      count01112 += 1\n",
    "    elif tempList == [0,0,1,2,2]:\n",
    "      count00122 += 1\n",
    "    elif tempList == [0,0,1,1,3]:\n",
    "      count00113 += 1\n",
    "    elif tempList == [0,0,0,2,3]:\n",
    "      count00023 += 1\n",
    "    elif tempList == [0,0,0,1,4]:\n",
    "      count00014 += 1\n",
    "    elif tempList == [0,0,0,0,5]:\n",
    "      count00005 += 1\n",
    "    else:\n",
    "      print(\"you've missed something!\")\n",
    "      return \"oops\"\n",
    "  returnDict[\"11111\"] = count11111\n",
    "  returnDict[\"01112\"] = count01112\n",
    "  returnDict[\"00122\"] = count00122\n",
    "  returnDict[\"00113\"] = count00113\n",
    "  returnDict[\"00023\"] = count00023\n",
    "  returnDict[\"00014\"] = count00014\n",
    "  returnDict[\"00005\"] = count00005\n",
    "\n",
    "  dicty = bucketPercentage(returnDict)\n",
    "  return dicty"
   ]
  },
  {
   "cell_type": "code",
   "execution_count": 62,
   "metadata": {
    "colab": {
     "base_uri": "https://localhost:8080/"
    },
    "executionInfo": {
     "elapsed": 50,
     "status": "ok",
     "timestamp": 1717870201199,
     "user": {
      "displayName": "Helen Barrett",
      "userId": "03986832566319395232"
     },
     "user_tz": -60
    },
    "id": "HH4HdqOTU2n4",
    "outputId": "4b32968e-c58a-4666-ba18-4d00809978db"
   },
   "outputs": [
    {
     "data": {
      "text/plain": [
       "0"
      ]
     },
     "execution_count": 62,
     "metadata": {},
     "output_type": "execute_result"
    }
   ],
   "source": [
    "#all_df.iloc[\"down\"][\"across\"]\n",
    "all_df.iloc[0][12]"
   ]
  },
  {
   "cell_type": "code",
   "execution_count": 63,
   "metadata": {
    "colab": {
     "base_uri": "https://localhost:8080/"
    },
    "executionInfo": {
     "elapsed": 39,
     "status": "ok",
     "timestamp": 1717870201200,
     "user": {
      "displayName": "Helen Barrett",
      "userId": "03986832566319395232"
     },
     "user_tz": -60
    },
    "id": "ns1ZkHPgTSDU",
    "outputId": "a2037706-57f0-42f7-daa2-a269156d0d7c"
   },
   "outputs": [
    {
     "data": {
      "text/plain": [
       "{'11111': 6.17,\n",
       " '01112': 41.98,\n",
       " '00122': 22.22,\n",
       " '00113': 23.46,\n",
       " '00023': 2.47,\n",
       " '00014': 3.7,\n",
       " '00005': 0.0}"
      ]
     },
     "execution_count": 63,
     "metadata": {},
     "output_type": "execute_result"
    }
   ],
   "source": [
    "bucketProbs = bucketProbability(all_df)\n",
    "bucketProbs"
   ]
  },
  {
   "cell_type": "code",
   "execution_count": 64,
   "metadata": {
    "executionInfo": {
     "elapsed": 32,
     "status": "ok",
     "timestamp": 1717870201200,
     "user": {
      "displayName": "Helen Barrett",
      "userId": "03986832566319395232"
     },
     "user_tz": -60
    },
    "id": "bRXD4JIIiM1Z"
   },
   "outputs": [],
   "source": [
    "###########################Charts############################################"
   ]
  },
  {
   "cell_type": "code",
   "execution_count": 65,
   "metadata": {
    "executionInfo": {
     "elapsed": 31,
     "status": "ok",
     "timestamp": 1717870201200,
     "user": {
      "displayName": "Helen Barrett",
      "userId": "03986832566319395232"
     },
     "user_tz": -60
    },
    "id": "M3wjtdgYiM5x"
   },
   "outputs": [],
   "source": [
    "import matplotlib.pyplot as plt"
   ]
  },
  {
   "cell_type": "code",
   "execution_count": 66,
   "metadata": {
    "executionInfo": {
     "elapsed": 31,
     "status": "ok",
     "timestamp": 1717870201200,
     "user": {
      "displayName": "Helen Barrett",
      "userId": "03986832566319395232"
     },
     "user_tz": -60
    },
    "id": "0EOeX7O4iM-B"
   },
   "outputs": [],
   "source": [
    "def plot_dictionary_bar(dictionary, x, title):\n",
    "  keys = dictionary.keys()\n",
    "  values = dictionary.values()\n",
    "  plt.bar(keys, values)\n",
    "  plt.xlabel(x)\n",
    "  plt.ylabel('Occurrence')\n",
    "  plt.title(title)\n",
    "\n",
    "  plt.show()\n",
    "\n",
    "def plot_dictionary_bar_y(dictionary, x, y, title):\n",
    "  keys = dictionary.keys()\n",
    "  values = dictionary.values()\n",
    "  plt.bar(keys, values)\n",
    "  plt.xlabel(x)\n",
    "  plt.ylabel(y)\n",
    "  plt.title(title)\n",
    "\n",
    "  plt.show()"
   ]
  },
  {
   "cell_type": "code",
   "execution_count": 67,
   "metadata": {
    "colab": {
     "base_uri": "https://localhost:8080/"
    },
    "executionInfo": {
     "elapsed": 31,
     "status": "ok",
     "timestamp": 1717870201201,
     "user": {
      "displayName": "Helen Barrett",
      "userId": "03986832566319395232"
     },
     "user_tz": -60
    },
    "id": "N89t_Siqj1pw",
    "outputId": "a2a93985-c238-494b-beac-0363d877286a"
   },
   "outputs": [
    {
     "data": {
      "text/plain": [
       "Counter({5: 10, 3: 26, 2: 16, 1: 4, 4: 21, 0: 4})"
      ]
     },
     "execution_count": 67,
     "metadata": {},
     "output_type": "execute_result"
    }
   ],
   "source": [
    "counterLastTen = collections.Counter(comparedTen)\n",
    "counterLastTen"
   ]
  },
  {
   "cell_type": "code",
   "execution_count": 68,
   "metadata": {
    "colab": {
     "base_uri": "https://localhost:8080/",
     "height": 472
    },
    "executionInfo": {
     "elapsed": 24,
     "status": "ok",
     "timestamp": 1717870201201,
     "user": {
      "displayName": "Helen Barrett",
      "userId": "03986832566319395232"
     },
     "user_tz": -60
    },
    "id": "LFfeLYfziNBc",
    "outputId": "a529407b-7842-4b5a-b2d3-8bf3373afc3a"
   },
   "outputs": [
    {
     "data": {
      "image/png": "[encoded data removed]",
      "text/plain": [
       "<Figure size 640x480 with 1 Axes>"
      ]
     },
     "metadata": {},
     "output_type": "display_data"
    }
   ],
   "source": [
    "plot_dictionary_bar(counterLifes, \"Life Ball\", \"Life Ball Chart\")"
   ]
  },
  {
   "cell_type": "code",
   "execution_count": 69,
   "metadata": {
    "colab": {
     "base_uri": "https://localhost:8080/",
     "height": 1000
    },
    "executionInfo": {
     "elapsed": 22,
     "status": "ok",
     "timestamp": 1717870201201,
     "user": {
      "displayName": "Helen Barrett",
      "userId": "03986832566319395232"
     },
     "user_tz": -60
    },
    "id": "1dLswQycBQkr",
    "outputId": "639d99a4-53fb-407f-fd09-66f4d2727371"
   },
   "outputs": [
    {
     "data": {
      "text/html": [
       "<div>\n",
       "<style scoped>\n",
       "    .dataframe tbody tr th:only-of-type {\n",
       "        vertical-align: middle;\n",
       "    }\n",
       "\n",
       "    .dataframe tbody tr th {\n",
       "        vertical-align: top;\n",
       "    }\n",
       "\n",
       "    .dataframe thead th {\n",
       "        text-align: right;\n",
       "    }\n",
       "</style>\n",
       "<table border=\"1\" class=\"dataframe\">\n",
       "  <thead>\n",
       "    <tr style=\"text-align: right;\">\n",
       "      <th></th>\n",
       "      <th>Ball 1</th>\n",
       "      <th>Ball 2</th>\n",
       "      <th>Ball 3</th>\n",
       "      <th>Ball 4</th>\n",
       "      <th>Ball 5</th>\n",
       "      <th>Life</th>\n",
       "      <th>10Main</th>\n",
       "      <th>10Life</th>\n",
       "      <th>7Life</th>\n",
       "      <th>Odd</th>\n",
       "      <th>Even</th>\n",
       "      <th>LifeOdd</th>\n",
       "      <th>zeros</th>\n",
       "      <th>ones</th>\n",
       "      <th>twos</th>\n",
       "      <th>threes</th>\n",
       "      <th>fours</th>\n",
       "    </tr>\n",
       "    <tr>\n",
       "      <th>DrawDate</th>\n",
       "      <th></th>\n",
       "      <th></th>\n",
       "      <th></th>\n",
       "      <th></th>\n",
       "      <th></th>\n",
       "      <th></th>\n",
       "      <th></th>\n",
       "      <th></th>\n",
       "      <th></th>\n",
       "      <th></th>\n",
       "      <th></th>\n",
       "      <th></th>\n",
       "      <th></th>\n",
       "      <th></th>\n",
       "      <th></th>\n",
       "      <th></th>\n",
       "      <th></th>\n",
       "    </tr>\n",
       "  </thead>\n",
       "  <tbody>\n",
       "    <tr>\n",
       "      <th>2024-06-13</th>\n",
       "      <td>10</td>\n",
       "      <td>16</td>\n",
       "      <td>19</td>\n",
       "      <td>24</td>\n",
       "      <td>38</td>\n",
       "      <td>3</td>\n",
       "      <td>5</td>\n",
       "      <td>1</td>\n",
       "      <td>1</td>\n",
       "      <td>1</td>\n",
       "      <td>4</td>\n",
       "      <td>Odd</td>\n",
       "      <td>0</td>\n",
       "      <td>3</td>\n",
       "      <td>1</td>\n",
       "      <td>1</td>\n",
       "      <td>0</td>\n",
       "    </tr>\n",
       "    <tr>\n",
       "      <th>2024-06-10</th>\n",
       "      <td>28</td>\n",
       "      <td>30</td>\n",
       "      <td>31</td>\n",
       "      <td>32</td>\n",
       "      <td>42</td>\n",
       "      <td>10</td>\n",
       "      <td>3</td>\n",
       "      <td>1</td>\n",
       "      <td>0</td>\n",
       "      <td>1</td>\n",
       "      <td>4</td>\n",
       "      <td>Even</td>\n",
       "      <td>0</td>\n",
       "      <td>0</td>\n",
       "      <td>1</td>\n",
       "      <td>3</td>\n",
       "      <td>1</td>\n",
       "    </tr>\n",
       "    <tr>\n",
       "      <th>2024-06-06</th>\n",
       "      <td>3</td>\n",
       "      <td>24</td>\n",
       "      <td>29</td>\n",
       "      <td>31</td>\n",
       "      <td>41</td>\n",
       "      <td>6</td>\n",
       "      <td>2</td>\n",
       "      <td>0</td>\n",
       "      <td>0</td>\n",
       "      <td>4</td>\n",
       "      <td>1</td>\n",
       "      <td>Even</td>\n",
       "      <td>1</td>\n",
       "      <td>0</td>\n",
       "      <td>2</td>\n",
       "      <td>1</td>\n",
       "      <td>1</td>\n",
       "    </tr>\n",
       "    <tr>\n",
       "      <th>2024-06-03</th>\n",
       "      <td>2</td>\n",
       "      <td>11</td>\n",
       "      <td>15</td>\n",
       "      <td>19</td>\n",
       "      <td>38</td>\n",
       "      <td>8</td>\n",
       "      <td>3</td>\n",
       "      <td>1</td>\n",
       "      <td>1</td>\n",
       "      <td>3</td>\n",
       "      <td>2</td>\n",
       "      <td>Even</td>\n",
       "      <td>1</td>\n",
       "      <td>3</td>\n",
       "      <td>0</td>\n",
       "      <td>1</td>\n",
       "      <td>0</td>\n",
       "    </tr>\n",
       "    <tr>\n",
       "      <th>2024-05-30</th>\n",
       "      <td>5</td>\n",
       "      <td>11</td>\n",
       "      <td>12</td>\n",
       "      <td>25</td>\n",
       "      <td>26</td>\n",
       "      <td>7</td>\n",
       "      <td>5</td>\n",
       "      <td>0</td>\n",
       "      <td>0</td>\n",
       "      <td>3</td>\n",
       "      <td>2</td>\n",
       "      <td>Odd</td>\n",
       "      <td>1</td>\n",
       "      <td>2</td>\n",
       "      <td>2</td>\n",
       "      <td>0</td>\n",
       "      <td>0</td>\n",
       "    </tr>\n",
       "    <tr>\n",
       "      <th>2024-05-27</th>\n",
       "      <td>4</td>\n",
       "      <td>7</td>\n",
       "      <td>13</td>\n",
       "      <td>28</td>\n",
       "      <td>34</td>\n",
       "      <td>3</td>\n",
       "      <td>1</td>\n",
       "      <td>1</td>\n",
       "      <td>1</td>\n",
       "      <td>2</td>\n",
       "      <td>3</td>\n",
       "      <td>Odd</td>\n",
       "      <td>2</td>\n",
       "      <td>1</td>\n",
       "      <td>1</td>\n",
       "      <td>1</td>\n",
       "      <td>0</td>\n",
       "    </tr>\n",
       "    <tr>\n",
       "      <th>2024-05-23</th>\n",
       "      <td>14</td>\n",
       "      <td>20</td>\n",
       "      <td>31</td>\n",
       "      <td>40</td>\n",
       "      <td>43</td>\n",
       "      <td>9</td>\n",
       "      <td>3</td>\n",
       "      <td>1</td>\n",
       "      <td>1</td>\n",
       "      <td>2</td>\n",
       "      <td>3</td>\n",
       "      <td>Odd</td>\n",
       "      <td>0</td>\n",
       "      <td>1</td>\n",
       "      <td>1</td>\n",
       "      <td>1</td>\n",
       "      <td>2</td>\n",
       "    </tr>\n",
       "    <tr>\n",
       "      <th>2024-05-20</th>\n",
       "      <td>9</td>\n",
       "      <td>10</td>\n",
       "      <td>25</td>\n",
       "      <td>32</td>\n",
       "      <td>41</td>\n",
       "      <td>8</td>\n",
       "      <td>2</td>\n",
       "      <td>0</td>\n",
       "      <td>0</td>\n",
       "      <td>3</td>\n",
       "      <td>2</td>\n",
       "      <td>Even</td>\n",
       "      <td>1</td>\n",
       "      <td>1</td>\n",
       "      <td>1</td>\n",
       "      <td>1</td>\n",
       "      <td>1</td>\n",
       "    </tr>\n",
       "    <tr>\n",
       "      <th>2024-05-16</th>\n",
       "      <td>4</td>\n",
       "      <td>12</td>\n",
       "      <td>16</td>\n",
       "      <td>21</td>\n",
       "      <td>26</td>\n",
       "      <td>3</td>\n",
       "      <td>2</td>\n",
       "      <td>0</td>\n",
       "      <td>0</td>\n",
       "      <td>1</td>\n",
       "      <td>4</td>\n",
       "      <td>Odd</td>\n",
       "      <td>1</td>\n",
       "      <td>2</td>\n",
       "      <td>2</td>\n",
       "      <td>0</td>\n",
       "      <td>0</td>\n",
       "    </tr>\n",
       "    <tr>\n",
       "      <th>2024-05-13</th>\n",
       "      <td>5</td>\n",
       "      <td>10</td>\n",
       "      <td>19</td>\n",
       "      <td>23</td>\n",
       "      <td>44</td>\n",
       "      <td>10</td>\n",
       "      <td>4</td>\n",
       "      <td>1</td>\n",
       "      <td>1</td>\n",
       "      <td>3</td>\n",
       "      <td>2</td>\n",
       "      <td>Even</td>\n",
       "      <td>1</td>\n",
       "      <td>2</td>\n",
       "      <td>1</td>\n",
       "      <td>0</td>\n",
       "      <td>1</td>\n",
       "    </tr>\n",
       "    <tr>\n",
       "      <th>2024-05-09</th>\n",
       "      <td>1</td>\n",
       "      <td>14</td>\n",
       "      <td>17</td>\n",
       "      <td>27</td>\n",
       "      <td>35</td>\n",
       "      <td>9</td>\n",
       "      <td>5</td>\n",
       "      <td>1</td>\n",
       "      <td>1</td>\n",
       "      <td>4</td>\n",
       "      <td>1</td>\n",
       "      <td>Odd</td>\n",
       "      <td>1</td>\n",
       "      <td>2</td>\n",
       "      <td>1</td>\n",
       "      <td>1</td>\n",
       "      <td>0</td>\n",
       "    </tr>\n",
       "    <tr>\n",
       "      <th>2024-05-06</th>\n",
       "      <td>11</td>\n",
       "      <td>15</td>\n",
       "      <td>26</td>\n",
       "      <td>33</td>\n",
       "      <td>44</td>\n",
       "      <td>10</td>\n",
       "      <td>2</td>\n",
       "      <td>1</td>\n",
       "      <td>1</td>\n",
       "      <td>3</td>\n",
       "      <td>2</td>\n",
       "      <td>Even</td>\n",
       "      <td>0</td>\n",
       "      <td>2</td>\n",
       "      <td>1</td>\n",
       "      <td>1</td>\n",
       "      <td>1</td>\n",
       "    </tr>\n",
       "    <tr>\n",
       "      <th>2024-05-02</th>\n",
       "      <td>5</td>\n",
       "      <td>10</td>\n",
       "      <td>14</td>\n",
       "      <td>35</td>\n",
       "      <td>45</td>\n",
       "      <td>4</td>\n",
       "      <td>2</td>\n",
       "      <td>0</td>\n",
       "      <td>0</td>\n",
       "      <td>3</td>\n",
       "      <td>2</td>\n",
       "      <td>Even</td>\n",
       "      <td>1</td>\n",
       "      <td>2</td>\n",
       "      <td>0</td>\n",
       "      <td>1</td>\n",
       "      <td>1</td>\n",
       "    </tr>\n",
       "    <tr>\n",
       "      <th>2024-04-29</th>\n",
       "      <td>6</td>\n",
       "      <td>18</td>\n",
       "      <td>22</td>\n",
       "      <td>29</td>\n",
       "      <td>40</td>\n",
       "      <td>9</td>\n",
       "      <td>4</td>\n",
       "      <td>0</td>\n",
       "      <td>0</td>\n",
       "      <td>1</td>\n",
       "      <td>4</td>\n",
       "      <td>Odd</td>\n",
       "      <td>1</td>\n",
       "      <td>1</td>\n",
       "      <td>2</td>\n",
       "      <td>0</td>\n",
       "      <td>1</td>\n",
       "    </tr>\n",
       "    <tr>\n",
       "      <th>2024-04-25</th>\n",
       "      <td>3</td>\n",
       "      <td>27</td>\n",
       "      <td>43</td>\n",
       "      <td>46</td>\n",
       "      <td>47</td>\n",
       "      <td>2</td>\n",
       "      <td>4</td>\n",
       "      <td>1</td>\n",
       "      <td>0</td>\n",
       "      <td>4</td>\n",
       "      <td>1</td>\n",
       "      <td>Even</td>\n",
       "      <td>1</td>\n",
       "      <td>0</td>\n",
       "      <td>1</td>\n",
       "      <td>0</td>\n",
       "      <td>3</td>\n",
       "    </tr>\n",
       "    <tr>\n",
       "      <th>2024-04-22</th>\n",
       "      <td>1</td>\n",
       "      <td>17</td>\n",
       "      <td>26</td>\n",
       "      <td>39</td>\n",
       "      <td>46</td>\n",
       "      <td>6</td>\n",
       "      <td>3</td>\n",
       "      <td>0</td>\n",
       "      <td>0</td>\n",
       "      <td>3</td>\n",
       "      <td>2</td>\n",
       "      <td>Even</td>\n",
       "      <td>1</td>\n",
       "      <td>1</td>\n",
       "      <td>1</td>\n",
       "      <td>1</td>\n",
       "      <td>1</td>\n",
       "    </tr>\n",
       "    <tr>\n",
       "      <th>2024-04-18</th>\n",
       "      <td>6</td>\n",
       "      <td>18</td>\n",
       "      <td>26</td>\n",
       "      <td>35</td>\n",
       "      <td>41</td>\n",
       "      <td>5</td>\n",
       "      <td>5</td>\n",
       "      <td>0</td>\n",
       "      <td>0</td>\n",
       "      <td>2</td>\n",
       "      <td>3</td>\n",
       "      <td>Odd</td>\n",
       "      <td>1</td>\n",
       "      <td>1</td>\n",
       "      <td>1</td>\n",
       "      <td>1</td>\n",
       "      <td>1</td>\n",
       "    </tr>\n",
       "    <tr>\n",
       "      <th>2024-04-15</th>\n",
       "      <td>1</td>\n",
       "      <td>3</td>\n",
       "      <td>21</td>\n",
       "      <td>22</td>\n",
       "      <td>27</td>\n",
       "      <td>10</td>\n",
       "      <td>3</td>\n",
       "      <td>0</td>\n",
       "      <td>0</td>\n",
       "      <td>4</td>\n",
       "      <td>1</td>\n",
       "      <td>Even</td>\n",
       "      <td>2</td>\n",
       "      <td>0</td>\n",
       "      <td>3</td>\n",
       "      <td>0</td>\n",
       "      <td>0</td>\n",
       "    </tr>\n",
       "    <tr>\n",
       "      <th>2024-04-11</th>\n",
       "      <td>11</td>\n",
       "      <td>13</td>\n",
       "      <td>19</td>\n",
       "      <td>27</td>\n",
       "      <td>42</td>\n",
       "      <td>8</td>\n",
       "      <td>2</td>\n",
       "      <td>0</td>\n",
       "      <td>0</td>\n",
       "      <td>4</td>\n",
       "      <td>1</td>\n",
       "      <td>Even</td>\n",
       "      <td>0</td>\n",
       "      <td>3</td>\n",
       "      <td>1</td>\n",
       "      <td>0</td>\n",
       "      <td>1</td>\n",
       "    </tr>\n",
       "    <tr>\n",
       "      <th>2024-04-08</th>\n",
       "      <td>3</td>\n",
       "      <td>5</td>\n",
       "      <td>6</td>\n",
       "      <td>36</td>\n",
       "      <td>43</td>\n",
       "      <td>1</td>\n",
       "      <td>3</td>\n",
       "      <td>0</td>\n",
       "      <td>0</td>\n",
       "      <td>3</td>\n",
       "      <td>2</td>\n",
       "      <td>Odd</td>\n",
       "      <td>3</td>\n",
       "      <td>0</td>\n",
       "      <td>0</td>\n",
       "      <td>1</td>\n",
       "      <td>1</td>\n",
       "    </tr>\n",
       "    <tr>\n",
       "      <th>2024-04-04</th>\n",
       "      <td>2</td>\n",
       "      <td>9</td>\n",
       "      <td>16</td>\n",
       "      <td>17</td>\n",
       "      <td>41</td>\n",
       "      <td>3</td>\n",
       "      <td>2</td>\n",
       "      <td>0</td>\n",
       "      <td>0</td>\n",
       "      <td>3</td>\n",
       "      <td>2</td>\n",
       "      <td>Odd</td>\n",
       "      <td>2</td>\n",
       "      <td>2</td>\n",
       "      <td>0</td>\n",
       "      <td>0</td>\n",
       "      <td>1</td>\n",
       "    </tr>\n",
       "    <tr>\n",
       "      <th>2024-04-01</th>\n",
       "      <td>19</td>\n",
       "      <td>30</td>\n",
       "      <td>35</td>\n",
       "      <td>40</td>\n",
       "      <td>44</td>\n",
       "      <td>2</td>\n",
       "      <td>4</td>\n",
       "      <td>1</td>\n",
       "      <td>1</td>\n",
       "      <td>2</td>\n",
       "      <td>3</td>\n",
       "      <td>Even</td>\n",
       "      <td>0</td>\n",
       "      <td>1</td>\n",
       "      <td>0</td>\n",
       "      <td>2</td>\n",
       "      <td>2</td>\n",
       "    </tr>\n",
       "    <tr>\n",
       "      <th>2024-03-28</th>\n",
       "      <td>5</td>\n",
       "      <td>10</td>\n",
       "      <td>19</td>\n",
       "      <td>26</td>\n",
       "      <td>41</td>\n",
       "      <td>4</td>\n",
       "      <td>3</td>\n",
       "      <td>1</td>\n",
       "      <td>0</td>\n",
       "      <td>3</td>\n",
       "      <td>2</td>\n",
       "      <td>Even</td>\n",
       "      <td>1</td>\n",
       "      <td>2</td>\n",
       "      <td>1</td>\n",
       "      <td>0</td>\n",
       "      <td>1</td>\n",
       "    </tr>\n",
       "    <tr>\n",
       "      <th>2024-03-25</th>\n",
       "      <td>11</td>\n",
       "      <td>23</td>\n",
       "      <td>24</td>\n",
       "      <td>26</td>\n",
       "      <td>35</td>\n",
       "      <td>2</td>\n",
       "      <td>4</td>\n",
       "      <td>1</td>\n",
       "      <td>0</td>\n",
       "      <td>3</td>\n",
       "      <td>2</td>\n",
       "      <td>Even</td>\n",
       "      <td>0</td>\n",
       "      <td>1</td>\n",
       "      <td>3</td>\n",
       "      <td>1</td>\n",
       "      <td>0</td>\n",
       "    </tr>\n",
       "    <tr>\n",
       "      <th>2024-03-21</th>\n",
       "      <td>3</td>\n",
       "      <td>4</td>\n",
       "      <td>11</td>\n",
       "      <td>14</td>\n",
       "      <td>18</td>\n",
       "      <td>7</td>\n",
       "      <td>3</td>\n",
       "      <td>0</td>\n",
       "      <td>0</td>\n",
       "      <td>2</td>\n",
       "      <td>3</td>\n",
       "      <td>Odd</td>\n",
       "      <td>2</td>\n",
       "      <td>3</td>\n",
       "      <td>0</td>\n",
       "      <td>0</td>\n",
       "      <td>0</td>\n",
       "    </tr>\n",
       "    <tr>\n",
       "      <th>2024-03-18</th>\n",
       "      <td>2</td>\n",
       "      <td>11</td>\n",
       "      <td>19</td>\n",
       "      <td>38</td>\n",
       "      <td>43</td>\n",
       "      <td>6</td>\n",
       "      <td>3</td>\n",
       "      <td>1</td>\n",
       "      <td>1</td>\n",
       "      <td>3</td>\n",
       "      <td>2</td>\n",
       "      <td>Even</td>\n",
       "      <td>1</td>\n",
       "      <td>2</td>\n",
       "      <td>0</td>\n",
       "      <td>1</td>\n",
       "      <td>1</td>\n",
       "    </tr>\n",
       "    <tr>\n",
       "      <th>2024-03-14</th>\n",
       "      <td>4</td>\n",
       "      <td>11</td>\n",
       "      <td>22</td>\n",
       "      <td>25</td>\n",
       "      <td>34</td>\n",
       "      <td>6</td>\n",
       "      <td>4</td>\n",
       "      <td>1</td>\n",
       "      <td>0</td>\n",
       "      <td>2</td>\n",
       "      <td>3</td>\n",
       "      <td>Even</td>\n",
       "      <td>1</td>\n",
       "      <td>1</td>\n",
       "      <td>2</td>\n",
       "      <td>1</td>\n",
       "      <td>0</td>\n",
       "    </tr>\n",
       "    <tr>\n",
       "      <th>2024-03-11</th>\n",
       "      <td>12</td>\n",
       "      <td>21</td>\n",
       "      <td>30</td>\n",
       "      <td>35</td>\n",
       "      <td>44</td>\n",
       "      <td>9</td>\n",
       "      <td>3</td>\n",
       "      <td>1</td>\n",
       "      <td>1</td>\n",
       "      <td>2</td>\n",
       "      <td>3</td>\n",
       "      <td>Odd</td>\n",
       "      <td>0</td>\n",
       "      <td>1</td>\n",
       "      <td>1</td>\n",
       "      <td>2</td>\n",
       "      <td>1</td>\n",
       "    </tr>\n",
       "    <tr>\n",
       "      <th>2024-03-07</th>\n",
       "      <td>11</td>\n",
       "      <td>29</td>\n",
       "      <td>32</td>\n",
       "      <td>34</td>\n",
       "      <td>42</td>\n",
       "      <td>9</td>\n",
       "      <td>3</td>\n",
       "      <td>1</td>\n",
       "      <td>1</td>\n",
       "      <td>2</td>\n",
       "      <td>3</td>\n",
       "      <td>Odd</td>\n",
       "      <td>0</td>\n",
       "      <td>1</td>\n",
       "      <td>1</td>\n",
       "      <td>2</td>\n",
       "      <td>1</td>\n",
       "    </tr>\n",
       "    <tr>\n",
       "      <th>2024-03-04</th>\n",
       "      <td>7</td>\n",
       "      <td>15</td>\n",
       "      <td>25</td>\n",
       "      <td>30</td>\n",
       "      <td>38</td>\n",
       "      <td>9</td>\n",
       "      <td>4</td>\n",
       "      <td>1</td>\n",
       "      <td>1</td>\n",
       "      <td>3</td>\n",
       "      <td>2</td>\n",
       "      <td>Odd</td>\n",
       "      <td>1</td>\n",
       "      <td>1</td>\n",
       "      <td>1</td>\n",
       "      <td>2</td>\n",
       "      <td>0</td>\n",
       "    </tr>\n",
       "    <tr>\n",
       "      <th>2024-02-29</th>\n",
       "      <td>4</td>\n",
       "      <td>6</td>\n",
       "      <td>28</td>\n",
       "      <td>29</td>\n",
       "      <td>45</td>\n",
       "      <td>4</td>\n",
       "      <td>4</td>\n",
       "      <td>0</td>\n",
       "      <td>0</td>\n",
       "      <td>2</td>\n",
       "      <td>3</td>\n",
       "      <td>Even</td>\n",
       "      <td>2</td>\n",
       "      <td>0</td>\n",
       "      <td>2</td>\n",
       "      <td>0</td>\n",
       "      <td>1</td>\n",
       "    </tr>\n",
       "    <tr>\n",
       "      <th>2024-02-26</th>\n",
       "      <td>3</td>\n",
       "      <td>10</td>\n",
       "      <td>21</td>\n",
       "      <td>24</td>\n",
       "      <td>39</td>\n",
       "      <td>2</td>\n",
       "      <td>2</td>\n",
       "      <td>0</td>\n",
       "      <td>0</td>\n",
       "      <td>3</td>\n",
       "      <td>2</td>\n",
       "      <td>Even</td>\n",
       "      <td>1</td>\n",
       "      <td>1</td>\n",
       "      <td>2</td>\n",
       "      <td>1</td>\n",
       "      <td>0</td>\n",
       "    </tr>\n",
       "    <tr>\n",
       "      <th>2024-02-22</th>\n",
       "      <td>16</td>\n",
       "      <td>17</td>\n",
       "      <td>19</td>\n",
       "      <td>23</td>\n",
       "      <td>38</td>\n",
       "      <td>5</td>\n",
       "      <td>2</td>\n",
       "      <td>1</td>\n",
       "      <td>1</td>\n",
       "      <td>3</td>\n",
       "      <td>2</td>\n",
       "      <td>Odd</td>\n",
       "      <td>0</td>\n",
       "      <td>3</td>\n",
       "      <td>1</td>\n",
       "      <td>1</td>\n",
       "      <td>0</td>\n",
       "    </tr>\n",
       "    <tr>\n",
       "      <th>2024-02-19</th>\n",
       "      <td>7</td>\n",
       "      <td>11</td>\n",
       "      <td>12</td>\n",
       "      <td>36</td>\n",
       "      <td>46</td>\n",
       "      <td>9</td>\n",
       "      <td>4</td>\n",
       "      <td>0</td>\n",
       "      <td>0</td>\n",
       "      <td>2</td>\n",
       "      <td>3</td>\n",
       "      <td>Odd</td>\n",
       "      <td>1</td>\n",
       "      <td>2</td>\n",
       "      <td>0</td>\n",
       "      <td>1</td>\n",
       "      <td>1</td>\n",
       "    </tr>\n",
       "    <tr>\n",
       "      <th>2024-02-15</th>\n",
       "      <td>5</td>\n",
       "      <td>11</td>\n",
       "      <td>25</td>\n",
       "      <td>30</td>\n",
       "      <td>42</td>\n",
       "      <td>6</td>\n",
       "      <td>1</td>\n",
       "      <td>0</td>\n",
       "      <td>0</td>\n",
       "      <td>3</td>\n",
       "      <td>2</td>\n",
       "      <td>Even</td>\n",
       "      <td>1</td>\n",
       "      <td>1</td>\n",
       "      <td>1</td>\n",
       "      <td>1</td>\n",
       "      <td>1</td>\n",
       "    </tr>\n",
       "    <tr>\n",
       "      <th>2024-02-12</th>\n",
       "      <td>6</td>\n",
       "      <td>20</td>\n",
       "      <td>27</td>\n",
       "      <td>29</td>\n",
       "      <td>36</td>\n",
       "      <td>8</td>\n",
       "      <td>5</td>\n",
       "      <td>1</td>\n",
       "      <td>1</td>\n",
       "      <td>2</td>\n",
       "      <td>3</td>\n",
       "      <td>Even</td>\n",
       "      <td>1</td>\n",
       "      <td>0</td>\n",
       "      <td>3</td>\n",
       "      <td>1</td>\n",
       "      <td>0</td>\n",
       "    </tr>\n",
       "    <tr>\n",
       "      <th>2024-02-08</th>\n",
       "      <td>13</td>\n",
       "      <td>19</td>\n",
       "      <td>26</td>\n",
       "      <td>37</td>\n",
       "      <td>43</td>\n",
       "      <td>5</td>\n",
       "      <td>3</td>\n",
       "      <td>1</td>\n",
       "      <td>1</td>\n",
       "      <td>4</td>\n",
       "      <td>1</td>\n",
       "      <td>Odd</td>\n",
       "      <td>0</td>\n",
       "      <td>2</td>\n",
       "      <td>1</td>\n",
       "      <td>1</td>\n",
       "      <td>1</td>\n",
       "    </tr>\n",
       "    <tr>\n",
       "      <th>2024-02-05</th>\n",
       "      <td>3</td>\n",
       "      <td>4</td>\n",
       "      <td>8</td>\n",
       "      <td>10</td>\n",
       "      <td>28</td>\n",
       "      <td>1</td>\n",
       "      <td>2</td>\n",
       "      <td>1</td>\n",
       "      <td>0</td>\n",
       "      <td>1</td>\n",
       "      <td>4</td>\n",
       "      <td>Odd</td>\n",
       "      <td>3</td>\n",
       "      <td>1</td>\n",
       "      <td>1</td>\n",
       "      <td>0</td>\n",
       "      <td>0</td>\n",
       "    </tr>\n",
       "    <tr>\n",
       "      <th>2024-02-01</th>\n",
       "      <td>3</td>\n",
       "      <td>7</td>\n",
       "      <td>11</td>\n",
       "      <td>23</td>\n",
       "      <td>29</td>\n",
       "      <td>7</td>\n",
       "      <td>3</td>\n",
       "      <td>0</td>\n",
       "      <td>0</td>\n",
       "      <td>5</td>\n",
       "      <td>0</td>\n",
       "      <td>Odd</td>\n",
       "      <td>2</td>\n",
       "      <td>1</td>\n",
       "      <td>2</td>\n",
       "      <td>0</td>\n",
       "      <td>0</td>\n",
       "    </tr>\n",
       "    <tr>\n",
       "      <th>2024-01-29</th>\n",
       "      <td>7</td>\n",
       "      <td>29</td>\n",
       "      <td>35</td>\n",
       "      <td>40</td>\n",
       "      <td>46</td>\n",
       "      <td>8</td>\n",
       "      <td>4</td>\n",
       "      <td>0</td>\n",
       "      <td>0</td>\n",
       "      <td>3</td>\n",
       "      <td>2</td>\n",
       "      <td>Even</td>\n",
       "      <td>1</td>\n",
       "      <td>0</td>\n",
       "      <td>1</td>\n",
       "      <td>1</td>\n",
       "      <td>2</td>\n",
       "    </tr>\n",
       "    <tr>\n",
       "      <th>2024-01-25</th>\n",
       "      <td>7</td>\n",
       "      <td>20</td>\n",
       "      <td>23</td>\n",
       "      <td>36</td>\n",
       "      <td>44</td>\n",
       "      <td>4</td>\n",
       "      <td>4</td>\n",
       "      <td>1</td>\n",
       "      <td>1</td>\n",
       "      <td>2</td>\n",
       "      <td>3</td>\n",
       "      <td>Even</td>\n",
       "      <td>1</td>\n",
       "      <td>0</td>\n",
       "      <td>2</td>\n",
       "      <td>1</td>\n",
       "      <td>1</td>\n",
       "    </tr>\n",
       "    <tr>\n",
       "      <th>2024-01-22</th>\n",
       "      <td>6</td>\n",
       "      <td>23</td>\n",
       "      <td>26</td>\n",
       "      <td>27</td>\n",
       "      <td>34</td>\n",
       "      <td>2</td>\n",
       "      <td>2</td>\n",
       "      <td>1</td>\n",
       "      <td>0</td>\n",
       "      <td>2</td>\n",
       "      <td>3</td>\n",
       "      <td>Even</td>\n",
       "      <td>1</td>\n",
       "      <td>0</td>\n",
       "      <td>3</td>\n",
       "      <td>1</td>\n",
       "      <td>0</td>\n",
       "    </tr>\n",
       "    <tr>\n",
       "      <th>2024-01-18</th>\n",
       "      <td>9</td>\n",
       "      <td>15</td>\n",
       "      <td>22</td>\n",
       "      <td>40</td>\n",
       "      <td>44</td>\n",
       "      <td>5</td>\n",
       "      <td>2</td>\n",
       "      <td>1</td>\n",
       "      <td>1</td>\n",
       "      <td>2</td>\n",
       "      <td>3</td>\n",
       "      <td>Odd</td>\n",
       "      <td>1</td>\n",
       "      <td>1</td>\n",
       "      <td>1</td>\n",
       "      <td>0</td>\n",
       "      <td>2</td>\n",
       "    </tr>\n",
       "    <tr>\n",
       "      <th>2024-01-15</th>\n",
       "      <td>4</td>\n",
       "      <td>14</td>\n",
       "      <td>21</td>\n",
       "      <td>35</td>\n",
       "      <td>36</td>\n",
       "      <td>5</td>\n",
       "      <td>5</td>\n",
       "      <td>0</td>\n",
       "      <td>0</td>\n",
       "      <td>2</td>\n",
       "      <td>3</td>\n",
       "      <td>Odd</td>\n",
       "      <td>1</td>\n",
       "      <td>1</td>\n",
       "      <td>1</td>\n",
       "      <td>2</td>\n",
       "      <td>0</td>\n",
       "    </tr>\n",
       "    <tr>\n",
       "      <th>2024-01-11</th>\n",
       "      <td>15</td>\n",
       "      <td>16</td>\n",
       "      <td>23</td>\n",
       "      <td>35</td>\n",
       "      <td>42</td>\n",
       "      <td>1</td>\n",
       "      <td>3</td>\n",
       "      <td>1</td>\n",
       "      <td>0</td>\n",
       "      <td>3</td>\n",
       "      <td>2</td>\n",
       "      <td>Odd</td>\n",
       "      <td>0</td>\n",
       "      <td>2</td>\n",
       "      <td>1</td>\n",
       "      <td>1</td>\n",
       "      <td>1</td>\n",
       "    </tr>\n",
       "    <tr>\n",
       "      <th>2024-01-08</th>\n",
       "      <td>19</td>\n",
       "      <td>31</td>\n",
       "      <td>37</td>\n",
       "      <td>39</td>\n",
       "      <td>40</td>\n",
       "      <td>4</td>\n",
       "      <td>2</td>\n",
       "      <td>1</td>\n",
       "      <td>1</td>\n",
       "      <td>4</td>\n",
       "      <td>1</td>\n",
       "      <td>Even</td>\n",
       "      <td>0</td>\n",
       "      <td>1</td>\n",
       "      <td>0</td>\n",
       "      <td>3</td>\n",
       "      <td>1</td>\n",
       "    </tr>\n",
       "    <tr>\n",
       "      <th>2024-01-04</th>\n",
       "      <td>12</td>\n",
       "      <td>14</td>\n",
       "      <td>26</td>\n",
       "      <td>39</td>\n",
       "      <td>46</td>\n",
       "      <td>4</td>\n",
       "      <td>5</td>\n",
       "      <td>0</td>\n",
       "      <td>0</td>\n",
       "      <td>1</td>\n",
       "      <td>4</td>\n",
       "      <td>Even</td>\n",
       "      <td>0</td>\n",
       "      <td>2</td>\n",
       "      <td>1</td>\n",
       "      <td>1</td>\n",
       "      <td>1</td>\n",
       "    </tr>\n",
       "    <tr>\n",
       "      <th>2024-01-01</th>\n",
       "      <td>1</td>\n",
       "      <td>20</td>\n",
       "      <td>26</td>\n",
       "      <td>36</td>\n",
       "      <td>38</td>\n",
       "      <td>6</td>\n",
       "      <td>3</td>\n",
       "      <td>1</td>\n",
       "      <td>1</td>\n",
       "      <td>1</td>\n",
       "      <td>4</td>\n",
       "      <td>Even</td>\n",
       "      <td>1</td>\n",
       "      <td>0</td>\n",
       "      <td>2</td>\n",
       "      <td>2</td>\n",
       "      <td>0</td>\n",
       "    </tr>\n",
       "    <tr>\n",
       "      <th>2023-12-28</th>\n",
       "      <td>13</td>\n",
       "      <td>14</td>\n",
       "      <td>35</td>\n",
       "      <td>36</td>\n",
       "      <td>41</td>\n",
       "      <td>9</td>\n",
       "      <td>4</td>\n",
       "      <td>1</td>\n",
       "      <td>1</td>\n",
       "      <td>3</td>\n",
       "      <td>2</td>\n",
       "      <td>Odd</td>\n",
       "      <td>0</td>\n",
       "      <td>2</td>\n",
       "      <td>0</td>\n",
       "      <td>2</td>\n",
       "      <td>1</td>\n",
       "    </tr>\n",
       "    <tr>\n",
       "      <th>2023-12-25</th>\n",
       "      <td>2</td>\n",
       "      <td>15</td>\n",
       "      <td>21</td>\n",
       "      <td>41</td>\n",
       "      <td>47</td>\n",
       "      <td>2</td>\n",
       "      <td>4</td>\n",
       "      <td>0</td>\n",
       "      <td>0</td>\n",
       "      <td>4</td>\n",
       "      <td>1</td>\n",
       "      <td>Even</td>\n",
       "      <td>1</td>\n",
       "      <td>1</td>\n",
       "      <td>1</td>\n",
       "      <td>0</td>\n",
       "      <td>2</td>\n",
       "    </tr>\n",
       "    <tr>\n",
       "      <th>2023-12-21</th>\n",
       "      <td>4</td>\n",
       "      <td>8</td>\n",
       "      <td>17</td>\n",
       "      <td>18</td>\n",
       "      <td>21</td>\n",
       "      <td>6</td>\n",
       "      <td>3</td>\n",
       "      <td>0</td>\n",
       "      <td>0</td>\n",
       "      <td>2</td>\n",
       "      <td>3</td>\n",
       "      <td>Even</td>\n",
       "      <td>2</td>\n",
       "      <td>2</td>\n",
       "      <td>1</td>\n",
       "      <td>0</td>\n",
       "      <td>0</td>\n",
       "    </tr>\n",
       "    <tr>\n",
       "      <th>2023-12-18</th>\n",
       "      <td>1</td>\n",
       "      <td>13</td>\n",
       "      <td>18</td>\n",
       "      <td>32</td>\n",
       "      <td>47</td>\n",
       "      <td>1</td>\n",
       "      <td>3</td>\n",
       "      <td>1</td>\n",
       "      <td>1</td>\n",
       "      <td>3</td>\n",
       "      <td>2</td>\n",
       "      <td>Odd</td>\n",
       "      <td>1</td>\n",
       "      <td>2</td>\n",
       "      <td>0</td>\n",
       "      <td>1</td>\n",
       "      <td>1</td>\n",
       "    </tr>\n",
       "    <tr>\n",
       "      <th>2023-12-14</th>\n",
       "      <td>12</td>\n",
       "      <td>13</td>\n",
       "      <td>16</td>\n",
       "      <td>21</td>\n",
       "      <td>44</td>\n",
       "      <td>10</td>\n",
       "      <td>2</td>\n",
       "      <td>1</td>\n",
       "      <td>0</td>\n",
       "      <td>2</td>\n",
       "      <td>3</td>\n",
       "      <td>Even</td>\n",
       "      <td>0</td>\n",
       "      <td>3</td>\n",
       "      <td>1</td>\n",
       "      <td>0</td>\n",
       "      <td>1</td>\n",
       "    </tr>\n",
       "    <tr>\n",
       "      <th>2023-12-11</th>\n",
       "      <td>12</td>\n",
       "      <td>14</td>\n",
       "      <td>20</td>\n",
       "      <td>28</td>\n",
       "      <td>41</td>\n",
       "      <td>9</td>\n",
       "      <td>3</td>\n",
       "      <td>1</td>\n",
       "      <td>0</td>\n",
       "      <td>1</td>\n",
       "      <td>4</td>\n",
       "      <td>Odd</td>\n",
       "      <td>0</td>\n",
       "      <td>2</td>\n",
       "      <td>2</td>\n",
       "      <td>0</td>\n",
       "      <td>1</td>\n",
       "    </tr>\n",
       "    <tr>\n",
       "      <th>2023-12-07</th>\n",
       "      <td>2</td>\n",
       "      <td>3</td>\n",
       "      <td>37</td>\n",
       "      <td>39</td>\n",
       "      <td>45</td>\n",
       "      <td>1</td>\n",
       "      <td>4</td>\n",
       "      <td>1</td>\n",
       "      <td>1</td>\n",
       "      <td>4</td>\n",
       "      <td>1</td>\n",
       "      <td>Odd</td>\n",
       "      <td>2</td>\n",
       "      <td>0</td>\n",
       "      <td>0</td>\n",
       "      <td>2</td>\n",
       "      <td>1</td>\n",
       "    </tr>\n",
       "    <tr>\n",
       "      <th>2023-12-04</th>\n",
       "      <td>4</td>\n",
       "      <td>11</td>\n",
       "      <td>16</td>\n",
       "      <td>46</td>\n",
       "      <td>47</td>\n",
       "      <td>1</td>\n",
       "      <td>3</td>\n",
       "      <td>1</td>\n",
       "      <td>1</td>\n",
       "      <td>2</td>\n",
       "      <td>3</td>\n",
       "      <td>Odd</td>\n",
       "      <td>1</td>\n",
       "      <td>2</td>\n",
       "      <td>0</td>\n",
       "      <td>0</td>\n",
       "      <td>2</td>\n",
       "    </tr>\n",
       "    <tr>\n",
       "      <th>2023-11-30</th>\n",
       "      <td>5</td>\n",
       "      <td>40</td>\n",
       "      <td>42</td>\n",
       "      <td>43</td>\n",
       "      <td>46</td>\n",
       "      <td>4</td>\n",
       "      <td>4</td>\n",
       "      <td>0</td>\n",
       "      <td>0</td>\n",
       "      <td>2</td>\n",
       "      <td>3</td>\n",
       "      <td>Even</td>\n",
       "      <td>1</td>\n",
       "      <td>0</td>\n",
       "      <td>0</td>\n",
       "      <td>0</td>\n",
       "      <td>4</td>\n",
       "    </tr>\n",
       "    <tr>\n",
       "      <th>2023-11-27</th>\n",
       "      <td>10</td>\n",
       "      <td>12</td>\n",
       "      <td>35</td>\n",
       "      <td>37</td>\n",
       "      <td>47</td>\n",
       "      <td>1</td>\n",
       "      <td>4</td>\n",
       "      <td>1</td>\n",
       "      <td>1</td>\n",
       "      <td>3</td>\n",
       "      <td>2</td>\n",
       "      <td>Odd</td>\n",
       "      <td>0</td>\n",
       "      <td>2</td>\n",
       "      <td>0</td>\n",
       "      <td>2</td>\n",
       "      <td>1</td>\n",
       "    </tr>\n",
       "    <tr>\n",
       "      <th>2023-11-23</th>\n",
       "      <td>10</td>\n",
       "      <td>14</td>\n",
       "      <td>19</td>\n",
       "      <td>35</td>\n",
       "      <td>41</td>\n",
       "      <td>1</td>\n",
       "      <td>3</td>\n",
       "      <td>1</td>\n",
       "      <td>0</td>\n",
       "      <td>3</td>\n",
       "      <td>2</td>\n",
       "      <td>Odd</td>\n",
       "      <td>0</td>\n",
       "      <td>3</td>\n",
       "      <td>0</td>\n",
       "      <td>1</td>\n",
       "      <td>1</td>\n",
       "    </tr>\n",
       "    <tr>\n",
       "      <th>2023-11-20</th>\n",
       "      <td>6</td>\n",
       "      <td>9</td>\n",
       "      <td>11</td>\n",
       "      <td>22</td>\n",
       "      <td>46</td>\n",
       "      <td>5</td>\n",
       "      <td>4</td>\n",
       "      <td>1</td>\n",
       "      <td>0</td>\n",
       "      <td>2</td>\n",
       "      <td>3</td>\n",
       "      <td>Odd</td>\n",
       "      <td>2</td>\n",
       "      <td>1</td>\n",
       "      <td>1</td>\n",
       "      <td>0</td>\n",
       "      <td>1</td>\n",
       "    </tr>\n",
       "  </tbody>\n",
       "</table>\n",
       "</div>"
      ],
      "text/plain": [
       "            Ball 1  Ball 2  Ball 3  Ball 4  Ball 5  Life  10Main  10Life  \\\n",
       "DrawDate                                                                   \n",
       "2024-06-13      10      16      19      24      38     3       5       1   \n",
       "2024-06-10      28      30      31      32      42    10       3       1   \n",
       "2024-06-06       3      24      29      31      41     6       2       0   \n",
       "2024-06-03       2      11      15      19      38     8       3       1   \n",
       "2024-05-30       5      11      12      25      26     7       5       0   \n",
       "2024-05-27       4       7      13      28      34     3       1       1   \n",
       "2024-05-23      14      20      31      40      43     9       3       1   \n",
       "2024-05-20       9      10      25      32      41     8       2       0   \n",
       "2024-05-16       4      12      16      21      26     3       2       0   \n",
       "2024-05-13       5      10      19      23      44    10       4       1   \n",
       "2024-05-09       1      14      17      27      35     9       5       1   \n",
       "2024-05-06      11      15      26      33      44    10       2       1   \n",
       "2024-05-02       5      10      14      35      45     4       2       0   \n",
       "2024-04-29       6      18      22      29      40     9       4       0   \n",
       "2024-04-25       3      27      43      46      47     2       4       1   \n",
       "2024-04-22       1      17      26      39      46     6       3       0   \n",
       "2024-04-18       6      18      26      35      41     5       5       0   \n",
       "2024-04-15       1       3      21      22      27    10       3       0   \n",
       "2024-04-11      11      13      19      27      42     8       2       0   \n",
       "2024-04-08       3       5       6      36      43     1       3       0   \n",
       "2024-04-04       2       9      16      17      41     3       2       0   \n",
       "2024-04-01      19      30      35      40      44     2       4       1   \n",
       "2024-03-28       5      10      19      26      41     4       3       1   \n",
       "2024-03-25      11      23      24      26      35     2       4       1   \n",
       "2024-03-21       3       4      11      14      18     7       3       0   \n",
       "2024-03-18       2      11      19      38      43     6       3       1   \n",
       "2024-03-14       4      11      22      25      34     6       4       1   \n",
       "2024-03-11      12      21      30      35      44     9       3       1   \n",
       "2024-03-07      11      29      32      34      42     9       3       1   \n",
       "2024-03-04       7      15      25      30      38     9       4       1   \n",
       "2024-02-29       4       6      28      29      45     4       4       0   \n",
       "2024-02-26       3      10      21      24      39     2       2       0   \n",
       "2024-02-22      16      17      19      23      38     5       2       1   \n",
       "2024-02-19       7      11      12      36      46     9       4       0   \n",
       "2024-02-15       5      11      25      30      42     6       1       0   \n",
       "2024-02-12       6      20      27      29      36     8       5       1   \n",
       "2024-02-08      13      19      26      37      43     5       3       1   \n",
       "2024-02-05       3       4       8      10      28     1       2       1   \n",
       "2024-02-01       3       7      11      23      29     7       3       0   \n",
       "2024-01-29       7      29      35      40      46     8       4       0   \n",
       "2024-01-25       7      20      23      36      44     4       4       1   \n",
       "2024-01-22       6      23      26      27      34     2       2       1   \n",
       "2024-01-18       9      15      22      40      44     5       2       1   \n",
       "2024-01-15       4      14      21      35      36     5       5       0   \n",
       "2024-01-11      15      16      23      35      42     1       3       1   \n",
       "2024-01-08      19      31      37      39      40     4       2       1   \n",
       "2024-01-04      12      14      26      39      46     4       5       0   \n",
       "2024-01-01       1      20      26      36      38     6       3       1   \n",
       "2023-12-28      13      14      35      36      41     9       4       1   \n",
       "2023-12-25       2      15      21      41      47     2       4       0   \n",
       "2023-12-21       4       8      17      18      21     6       3       0   \n",
       "2023-12-18       1      13      18      32      47     1       3       1   \n",
       "2023-12-14      12      13      16      21      44    10       2       1   \n",
       "2023-12-11      12      14      20      28      41     9       3       1   \n",
       "2023-12-07       2       3      37      39      45     1       4       1   \n",
       "2023-12-04       4      11      16      46      47     1       3       1   \n",
       "2023-11-30       5      40      42      43      46     4       4       0   \n",
       "2023-11-27      10      12      35      37      47     1       4       1   \n",
       "2023-11-23      10      14      19      35      41     1       3       1   \n",
       "2023-11-20       6       9      11      22      46     5       4       1   \n",
       "\n",
       "            7Life  Odd  Even LifeOdd  zeros  ones  twos  threes  fours  \n",
       "DrawDate                                                                \n",
       "2024-06-13      1    1     4     Odd      0     3     1       1      0  \n",
       "2024-06-10      0    1     4    Even      0     0     1       3      1  \n",
       "2024-06-06      0    4     1    Even      1     0     2       1      1  \n",
       "2024-06-03      1    3     2    Even      1     3     0       1      0  \n",
       "2024-05-30      0    3     2     Odd      1     2     2       0      0  \n",
       "2024-05-27      1    2     3     Odd      2     1     1       1      0  \n",
       "2024-05-23      1    2     3     Odd      0     1     1       1      2  \n",
       "2024-05-20      0    3     2    Even      1     1     1       1      1  \n",
       "2024-05-16      0    1     4     Odd      1     2     2       0      0  \n",
       "2024-05-13      1    3     2    Even      1     2     1       0      1  \n",
       "2024-05-09      1    4     1     Odd      1     2     1       1      0  \n",
       "2024-05-06      1    3     2    Even      0     2     1       1      1  \n",
       "2024-05-02      0    3     2    Even      1     2     0       1      1  \n",
       "2024-04-29      0    1     4     Odd      1     1     2       0      1  \n",
       "2024-04-25      0    4     1    Even      1     0     1       0      3  \n",
       "2024-04-22      0    3     2    Even      1     1     1       1      1  \n",
       "2024-04-18      0    2     3     Odd      1     1     1       1      1  \n",
       "2024-04-15      0    4     1    Even      2     0     3       0      0  \n",
       "2024-04-11      0    4     1    Even      0     3     1       0      1  \n",
       "2024-04-08      0    3     2     Odd      3     0     0       1      1  \n",
       "2024-04-04      0    3     2     Odd      2     2     0       0      1  \n",
       "2024-04-01      1    2     3    Even      0     1     0       2      2  \n",
       "2024-03-28      0    3     2    Even      1     2     1       0      1  \n",
       "2024-03-25      0    3     2    Even      0     1     3       1      0  \n",
       "2024-03-21      0    2     3     Odd      2     3     0       0      0  \n",
       "2024-03-18      1    3     2    Even      1     2     0       1      1  \n",
       "2024-03-14      0    2     3    Even      1     1     2       1      0  \n",
       "2024-03-11      1    2     3     Odd      0     1     1       2      1  \n",
       "2024-03-07      1    2     3     Odd      0     1     1       2      1  \n",
       "2024-03-04      1    3     2     Odd      1     1     1       2      0  \n",
       "2024-02-29      0    2     3    Even      2     0     2       0      1  \n",
       "2024-02-26      0    3     2    Even      1     1     2       1      0  \n",
       "2024-02-22      1    3     2     Odd      0     3     1       1      0  \n",
       "2024-02-19      0    2     3     Odd      1     2     0       1      1  \n",
       "2024-02-15      0    3     2    Even      1     1     1       1      1  \n",
       "2024-02-12      1    2     3    Even      1     0     3       1      0  \n",
       "2024-02-08      1    4     1     Odd      0     2     1       1      1  \n",
       "2024-02-05      0    1     4     Odd      3     1     1       0      0  \n",
       "2024-02-01      0    5     0     Odd      2     1     2       0      0  \n",
       "2024-01-29      0    3     2    Even      1     0     1       1      2  \n",
       "2024-01-25      1    2     3    Even      1     0     2       1      1  \n",
       "2024-01-22      0    2     3    Even      1     0     3       1      0  \n",
       "2024-01-18      1    2     3     Odd      1     1     1       0      2  \n",
       "2024-01-15      0    2     3     Odd      1     1     1       2      0  \n",
       "2024-01-11      0    3     2     Odd      0     2     1       1      1  \n",
       "2024-01-08      1    4     1    Even      0     1     0       3      1  \n",
       "2024-01-04      0    1     4    Even      0     2     1       1      1  \n",
       "2024-01-01      1    1     4    Even      1     0     2       2      0  \n",
       "2023-12-28      1    3     2     Odd      0     2     0       2      1  \n",
       "2023-12-25      0    4     1    Even      1     1     1       0      2  \n",
       "2023-12-21      0    2     3    Even      2     2     1       0      0  \n",
       "2023-12-18      1    3     2     Odd      1     2     0       1      1  \n",
       "2023-12-14      0    2     3    Even      0     3     1       0      1  \n",
       "2023-12-11      0    1     4     Odd      0     2     2       0      1  \n",
       "2023-12-07      1    4     1     Odd      2     0     0       2      1  \n",
       "2023-12-04      1    2     3     Odd      1     2     0       0      2  \n",
       "2023-11-30      0    2     3    Even      1     0     0       0      4  \n",
       "2023-11-27      1    3     2     Odd      0     2     0       2      1  \n",
       "2023-11-23      0    3     2     Odd      0     3     0       1      1  \n",
       "2023-11-20      0    2     3     Odd      2     1     1       0      1  "
      ]
     },
     "execution_count": 69,
     "metadata": {},
     "output_type": "execute_result"
    }
   ],
   "source": [
    "all_df.head(60)"
   ]
  },
  {
   "cell_type": "code",
   "execution_count": 70,
   "metadata": {
    "colab": {
     "base_uri": "https://localhost:8080/",
     "height": 676
    },
    "executionInfo": {
     "elapsed": 447,
     "status": "ok",
     "timestamp": 1717870201628,
     "user": {
      "displayName": "Helen Barrett",
      "userId": "03986832566319395232"
     },
     "user_tz": -60
    },
    "id": "C_fiYJVzNLwI",
    "outputId": "98f5678f-7acc-4a9c-f5e3-71b4f3b2be00"
   },
   "outputs": [
    {
     "data": {
      "text/html": [
       "<div>\n",
       "<style scoped>\n",
       "    .dataframe tbody tr th:only-of-type {\n",
       "        vertical-align: middle;\n",
       "    }\n",
       "\n",
       "    .dataframe tbody tr th {\n",
       "        vertical-align: top;\n",
       "    }\n",
       "\n",
       "    .dataframe thead th {\n",
       "        text-align: right;\n",
       "    }\n",
       "</style>\n",
       "<table border=\"1\" class=\"dataframe\">\n",
       "  <thead>\n",
       "    <tr style=\"text-align: right;\">\n",
       "      <th></th>\n",
       "      <th>Ball 1</th>\n",
       "      <th>Ball 2</th>\n",
       "      <th>Ball 3</th>\n",
       "      <th>Ball 4</th>\n",
       "      <th>Ball 5</th>\n",
       "      <th>Life</th>\n",
       "      <th>10Main</th>\n",
       "      <th>10Life</th>\n",
       "      <th>7Life</th>\n",
       "      <th>Odd</th>\n",
       "      <th>Even</th>\n",
       "      <th>LifeOdd</th>\n",
       "      <th>zeros</th>\n",
       "      <th>ones</th>\n",
       "      <th>twos</th>\n",
       "      <th>threes</th>\n",
       "      <th>fours</th>\n",
       "    </tr>\n",
       "    <tr>\n",
       "      <th>DrawDate</th>\n",
       "      <th></th>\n",
       "      <th></th>\n",
       "      <th></th>\n",
       "      <th></th>\n",
       "      <th></th>\n",
       "      <th></th>\n",
       "      <th></th>\n",
       "      <th></th>\n",
       "      <th></th>\n",
       "      <th></th>\n",
       "      <th></th>\n",
       "      <th></th>\n",
       "      <th></th>\n",
       "      <th></th>\n",
       "      <th></th>\n",
       "      <th></th>\n",
       "      <th></th>\n",
       "    </tr>\n",
       "  </thead>\n",
       "  <tbody>\n",
       "    <tr>\n",
       "      <th>2023-11-09</th>\n",
       "      <td>9</td>\n",
       "      <td>11</td>\n",
       "      <td>27</td>\n",
       "      <td>36</td>\n",
       "      <td>47</td>\n",
       "      <td>9</td>\n",
       "      <td>3</td>\n",
       "      <td>0</td>\n",
       "      <td>0</td>\n",
       "      <td>4</td>\n",
       "      <td>1</td>\n",
       "      <td>Odd</td>\n",
       "      <td>1</td>\n",
       "      <td>1</td>\n",
       "      <td>1</td>\n",
       "      <td>1</td>\n",
       "      <td>1</td>\n",
       "    </tr>\n",
       "    <tr>\n",
       "      <th>2023-11-06</th>\n",
       "      <td>2</td>\n",
       "      <td>5</td>\n",
       "      <td>11</td>\n",
       "      <td>15</td>\n",
       "      <td>27</td>\n",
       "      <td>10</td>\n",
       "      <td>3</td>\n",
       "      <td>1</td>\n",
       "      <td>1</td>\n",
       "      <td>4</td>\n",
       "      <td>1</td>\n",
       "      <td>Even</td>\n",
       "      <td>2</td>\n",
       "      <td>2</td>\n",
       "      <td>1</td>\n",
       "      <td>0</td>\n",
       "      <td>0</td>\n",
       "    </tr>\n",
       "    <tr>\n",
       "      <th>2023-11-02</th>\n",
       "      <td>12</td>\n",
       "      <td>20</td>\n",
       "      <td>41</td>\n",
       "      <td>42</td>\n",
       "      <td>46</td>\n",
       "      <td>8</td>\n",
       "      <td>3</td>\n",
       "      <td>0</td>\n",
       "      <td>0</td>\n",
       "      <td>1</td>\n",
       "      <td>4</td>\n",
       "      <td>Even</td>\n",
       "      <td>0</td>\n",
       "      <td>1</td>\n",
       "      <td>1</td>\n",
       "      <td>0</td>\n",
       "      <td>3</td>\n",
       "    </tr>\n",
       "    <tr>\n",
       "      <th>2023-10-30</th>\n",
       "      <td>6</td>\n",
       "      <td>12</td>\n",
       "      <td>13</td>\n",
       "      <td>18</td>\n",
       "      <td>19</td>\n",
       "      <td>7</td>\n",
       "      <td>5</td>\n",
       "      <td>0</td>\n",
       "      <td>0</td>\n",
       "      <td>2</td>\n",
       "      <td>3</td>\n",
       "      <td>Odd</td>\n",
       "      <td>1</td>\n",
       "      <td>4</td>\n",
       "      <td>0</td>\n",
       "      <td>0</td>\n",
       "      <td>0</td>\n",
       "    </tr>\n",
       "    <tr>\n",
       "      <th>2023-10-26</th>\n",
       "      <td>2</td>\n",
       "      <td>11</td>\n",
       "      <td>23</td>\n",
       "      <td>43</td>\n",
       "      <td>46</td>\n",
       "      <td>10</td>\n",
       "      <td>4</td>\n",
       "      <td>0</td>\n",
       "      <td>0</td>\n",
       "      <td>3</td>\n",
       "      <td>2</td>\n",
       "      <td>Even</td>\n",
       "      <td>1</td>\n",
       "      <td>1</td>\n",
       "      <td>1</td>\n",
       "      <td>0</td>\n",
       "      <td>2</td>\n",
       "    </tr>\n",
       "    <tr>\n",
       "      <th>2023-10-23</th>\n",
       "      <td>11</td>\n",
       "      <td>30</td>\n",
       "      <td>34</td>\n",
       "      <td>35</td>\n",
       "      <td>38</td>\n",
       "      <td>1</td>\n",
       "      <td>4</td>\n",
       "      <td>1</td>\n",
       "      <td>0</td>\n",
       "      <td>2</td>\n",
       "      <td>3</td>\n",
       "      <td>Odd</td>\n",
       "      <td>0</td>\n",
       "      <td>1</td>\n",
       "      <td>0</td>\n",
       "      <td>4</td>\n",
       "      <td>0</td>\n",
       "    </tr>\n",
       "    <tr>\n",
       "      <th>2023-10-19</th>\n",
       "      <td>12</td>\n",
       "      <td>14</td>\n",
       "      <td>38</td>\n",
       "      <td>41</td>\n",
       "      <td>44</td>\n",
       "      <td>5</td>\n",
       "      <td>4</td>\n",
       "      <td>1</td>\n",
       "      <td>1</td>\n",
       "      <td>1</td>\n",
       "      <td>4</td>\n",
       "      <td>Odd</td>\n",
       "      <td>0</td>\n",
       "      <td>2</td>\n",
       "      <td>0</td>\n",
       "      <td>1</td>\n",
       "      <td>2</td>\n",
       "    </tr>\n",
       "    <tr>\n",
       "      <th>2023-10-16</th>\n",
       "      <td>13</td>\n",
       "      <td>30</td>\n",
       "      <td>33</td>\n",
       "      <td>35</td>\n",
       "      <td>43</td>\n",
       "      <td>6</td>\n",
       "      <td>3</td>\n",
       "      <td>0</td>\n",
       "      <td>0</td>\n",
       "      <td>4</td>\n",
       "      <td>1</td>\n",
       "      <td>Even</td>\n",
       "      <td>0</td>\n",
       "      <td>1</td>\n",
       "      <td>0</td>\n",
       "      <td>3</td>\n",
       "      <td>1</td>\n",
       "    </tr>\n",
       "    <tr>\n",
       "      <th>2023-10-12</th>\n",
       "      <td>9</td>\n",
       "      <td>19</td>\n",
       "      <td>41</td>\n",
       "      <td>44</td>\n",
       "      <td>46</td>\n",
       "      <td>4</td>\n",
       "      <td>2</td>\n",
       "      <td>0</td>\n",
       "      <td>0</td>\n",
       "      <td>3</td>\n",
       "      <td>2</td>\n",
       "      <td>Even</td>\n",
       "      <td>1</td>\n",
       "      <td>1</td>\n",
       "      <td>0</td>\n",
       "      <td>0</td>\n",
       "      <td>3</td>\n",
       "    </tr>\n",
       "    <tr>\n",
       "      <th>2023-10-09</th>\n",
       "      <td>6</td>\n",
       "      <td>11</td>\n",
       "      <td>29</td>\n",
       "      <td>40</td>\n",
       "      <td>44</td>\n",
       "      <td>5</td>\n",
       "      <td>5</td>\n",
       "      <td>1</td>\n",
       "      <td>0</td>\n",
       "      <td>2</td>\n",
       "      <td>3</td>\n",
       "      <td>Odd</td>\n",
       "      <td>1</td>\n",
       "      <td>1</td>\n",
       "      <td>1</td>\n",
       "      <td>0</td>\n",
       "      <td>2</td>\n",
       "    </tr>\n",
       "    <tr>\n",
       "      <th>2023-10-05</th>\n",
       "      <td>5</td>\n",
       "      <td>6</td>\n",
       "      <td>18</td>\n",
       "      <td>39</td>\n",
       "      <td>45</td>\n",
       "      <td>3</td>\n",
       "      <td>3</td>\n",
       "      <td>1</td>\n",
       "      <td>1</td>\n",
       "      <td>3</td>\n",
       "      <td>2</td>\n",
       "      <td>Odd</td>\n",
       "      <td>2</td>\n",
       "      <td>1</td>\n",
       "      <td>0</td>\n",
       "      <td>1</td>\n",
       "      <td>1</td>\n",
       "    </tr>\n",
       "    <tr>\n",
       "      <th>2023-10-02</th>\n",
       "      <td>1</td>\n",
       "      <td>7</td>\n",
       "      <td>14</td>\n",
       "      <td>15</td>\n",
       "      <td>26</td>\n",
       "      <td>2</td>\n",
       "      <td>5</td>\n",
       "      <td>0</td>\n",
       "      <td>0</td>\n",
       "      <td>3</td>\n",
       "      <td>2</td>\n",
       "      <td>Even</td>\n",
       "      <td>2</td>\n",
       "      <td>2</td>\n",
       "      <td>1</td>\n",
       "      <td>0</td>\n",
       "      <td>0</td>\n",
       "    </tr>\n",
       "    <tr>\n",
       "      <th>2023-09-28</th>\n",
       "      <td>18</td>\n",
       "      <td>23</td>\n",
       "      <td>28</td>\n",
       "      <td>29</td>\n",
       "      <td>37</td>\n",
       "      <td>3</td>\n",
       "      <td>2</td>\n",
       "      <td>1</td>\n",
       "      <td>1</td>\n",
       "      <td>3</td>\n",
       "      <td>2</td>\n",
       "      <td>Odd</td>\n",
       "      <td>0</td>\n",
       "      <td>1</td>\n",
       "      <td>3</td>\n",
       "      <td>1</td>\n",
       "      <td>0</td>\n",
       "    </tr>\n",
       "    <tr>\n",
       "      <th>2023-09-25</th>\n",
       "      <td>6</td>\n",
       "      <td>12</td>\n",
       "      <td>13</td>\n",
       "      <td>15</td>\n",
       "      <td>41</td>\n",
       "      <td>9</td>\n",
       "      <td>0</td>\n",
       "      <td>1</td>\n",
       "      <td>1</td>\n",
       "      <td>3</td>\n",
       "      <td>2</td>\n",
       "      <td>Odd</td>\n",
       "      <td>1</td>\n",
       "      <td>3</td>\n",
       "      <td>0</td>\n",
       "      <td>0</td>\n",
       "      <td>1</td>\n",
       "    </tr>\n",
       "    <tr>\n",
       "      <th>2023-09-21</th>\n",
       "      <td>7</td>\n",
       "      <td>17</td>\n",
       "      <td>23</td>\n",
       "      <td>24</td>\n",
       "      <td>40</td>\n",
       "      <td>1</td>\n",
       "      <td>1</td>\n",
       "      <td>0</td>\n",
       "      <td>0</td>\n",
       "      <td>3</td>\n",
       "      <td>2</td>\n",
       "      <td>Odd</td>\n",
       "      <td>1</td>\n",
       "      <td>1</td>\n",
       "      <td>2</td>\n",
       "      <td>0</td>\n",
       "      <td>1</td>\n",
       "    </tr>\n",
       "    <tr>\n",
       "      <th>2023-09-18</th>\n",
       "      <td>1</td>\n",
       "      <td>3</td>\n",
       "      <td>11</td>\n",
       "      <td>28</td>\n",
       "      <td>43</td>\n",
       "      <td>9</td>\n",
       "      <td>1</td>\n",
       "      <td>0</td>\n",
       "      <td>0</td>\n",
       "      <td>4</td>\n",
       "      <td>1</td>\n",
       "      <td>Odd</td>\n",
       "      <td>2</td>\n",
       "      <td>1</td>\n",
       "      <td>1</td>\n",
       "      <td>0</td>\n",
       "      <td>1</td>\n",
       "    </tr>\n",
       "    <tr>\n",
       "      <th>2023-09-14</th>\n",
       "      <td>8</td>\n",
       "      <td>27</td>\n",
       "      <td>33</td>\n",
       "      <td>34</td>\n",
       "      <td>44</td>\n",
       "      <td>5</td>\n",
       "      <td>0</td>\n",
       "      <td>0</td>\n",
       "      <td>0</td>\n",
       "      <td>2</td>\n",
       "      <td>3</td>\n",
       "      <td>Odd</td>\n",
       "      <td>1</td>\n",
       "      <td>0</td>\n",
       "      <td>1</td>\n",
       "      <td>2</td>\n",
       "      <td>1</td>\n",
       "    </tr>\n",
       "    <tr>\n",
       "      <th>2023-09-11</th>\n",
       "      <td>4</td>\n",
       "      <td>5</td>\n",
       "      <td>14</td>\n",
       "      <td>24</td>\n",
       "      <td>35</td>\n",
       "      <td>3</td>\n",
       "      <td>0</td>\n",
       "      <td>0</td>\n",
       "      <td>0</td>\n",
       "      <td>2</td>\n",
       "      <td>3</td>\n",
       "      <td>Odd</td>\n",
       "      <td>2</td>\n",
       "      <td>1</td>\n",
       "      <td>1</td>\n",
       "      <td>1</td>\n",
       "      <td>0</td>\n",
       "    </tr>\n",
       "    <tr>\n",
       "      <th>2023-09-07</th>\n",
       "      <td>3</td>\n",
       "      <td>9</td>\n",
       "      <td>21</td>\n",
       "      <td>26</td>\n",
       "      <td>42</td>\n",
       "      <td>6</td>\n",
       "      <td>0</td>\n",
       "      <td>0</td>\n",
       "      <td>0</td>\n",
       "      <td>3</td>\n",
       "      <td>2</td>\n",
       "      <td>Even</td>\n",
       "      <td>2</td>\n",
       "      <td>0</td>\n",
       "      <td>2</td>\n",
       "      <td>0</td>\n",
       "      <td>1</td>\n",
       "    </tr>\n",
       "  </tbody>\n",
       "</table>\n",
       "</div>"
      ],
      "text/plain": [
       "            Ball 1  Ball 2  Ball 3  Ball 4  Ball 5  Life  10Main  10Life  \\\n",
       "DrawDate                                                                   \n",
       "2023-11-09       9      11      27      36      47     9       3       0   \n",
       "2023-11-06       2       5      11      15      27    10       3       1   \n",
       "2023-11-02      12      20      41      42      46     8       3       0   \n",
       "2023-10-30       6      12      13      18      19     7       5       0   \n",
       "2023-10-26       2      11      23      43      46    10       4       0   \n",
       "2023-10-23      11      30      34      35      38     1       4       1   \n",
       "2023-10-19      12      14      38      41      44     5       4       1   \n",
       "2023-10-16      13      30      33      35      43     6       3       0   \n",
       "2023-10-12       9      19      41      44      46     4       2       0   \n",
       "2023-10-09       6      11      29      40      44     5       5       1   \n",
       "2023-10-05       5       6      18      39      45     3       3       1   \n",
       "2023-10-02       1       7      14      15      26     2       5       0   \n",
       "2023-09-28      18      23      28      29      37     3       2       1   \n",
       "2023-09-25       6      12      13      15      41     9       0       1   \n",
       "2023-09-21       7      17      23      24      40     1       1       0   \n",
       "2023-09-18       1       3      11      28      43     9       1       0   \n",
       "2023-09-14       8      27      33      34      44     5       0       0   \n",
       "2023-09-11       4       5      14      24      35     3       0       0   \n",
       "2023-09-07       3       9      21      26      42     6       0       0   \n",
       "\n",
       "            7Life  Odd  Even LifeOdd  zeros  ones  twos  threes  fours  \n",
       "DrawDate                                                                \n",
       "2023-11-09      0    4     1     Odd      1     1     1       1      1  \n",
       "2023-11-06      1    4     1    Even      2     2     1       0      0  \n",
       "2023-11-02      0    1     4    Even      0     1     1       0      3  \n",
       "2023-10-30      0    2     3     Odd      1     4     0       0      0  \n",
       "2023-10-26      0    3     2    Even      1     1     1       0      2  \n",
       "2023-10-23      0    2     3     Odd      0     1     0       4      0  \n",
       "2023-10-19      1    1     4     Odd      0     2     0       1      2  \n",
       "2023-10-16      0    4     1    Even      0     1     0       3      1  \n",
       "2023-10-12      0    3     2    Even      1     1     0       0      3  \n",
       "2023-10-09      0    2     3     Odd      1     1     1       0      2  \n",
       "2023-10-05      1    3     2     Odd      2     1     0       1      1  \n",
       "2023-10-02      0    3     2    Even      2     2     1       0      0  \n",
       "2023-09-28      1    3     2     Odd      0     1     3       1      0  \n",
       "2023-09-25      1    3     2     Odd      1     3     0       0      1  \n",
       "2023-09-21      0    3     2     Odd      1     1     2       0      1  \n",
       "2023-09-18      0    4     1     Odd      2     1     1       0      1  \n",
       "2023-09-14      0    2     3     Odd      1     0     1       2      1  \n",
       "2023-09-11      0    2     3     Odd      2     1     1       1      0  \n",
       "2023-09-07      0    3     2    Even      2     0     2       0      1  "
      ]
     },
     "execution_count": 70,
     "metadata": {},
     "output_type": "execute_result"
    }
   ],
   "source": [
    "all_df.tail(19)"
   ]
  },
  {
   "cell_type": "code",
   "execution_count": 71,
   "metadata": {
    "colab": {
     "base_uri": "https://localhost:8080/"
    },
    "executionInfo": {
     "elapsed": 55,
     "status": "ok",
     "timestamp": 1717870201629,
     "user": {
      "displayName": "Helen Barrett",
      "userId": "03986832566319395232"
     },
     "user_tz": -60
    },
    "id": "_webaj-3plnb",
    "outputId": "34b2f798-698a-440b-d66b-ec2cea9cd6c8"
   },
   "outputs": [
    {
     "data": {
      "text/plain": [
       "[[10, 16, 19, 24, 38],\n",
       " [28, 30, 31, 32, 42],\n",
       " [3, 24, 29, 31, 41],\n",
       " [2, 11, 15, 19, 38],\n",
       " [5, 11, 12, 25, 26],\n",
       " [4, 7, 13, 28, 34],\n",
       " [14, 20, 31, 40, 43],\n",
       " [9, 10, 25, 32, 41],\n",
       " [4, 12, 16, 21, 26],\n",
       " [5, 10, 19, 23, 44],\n",
       " [1, 14, 17, 27, 35],\n",
       " [11, 15, 26, 33, 44],\n",
       " [5, 10, 14, 35, 45],\n",
       " [6, 18, 22, 29, 40],\n",
       " [3, 27, 43, 46, 47]]"
      ]
     },
     "execution_count": 71,
     "metadata": {},
     "output_type": "execute_result"
    }
   ],
   "source": [
    "numbers[:15]"
   ]
  },
  {
   "cell_type": "code",
   "execution_count": 72,
   "metadata": {
    "colab": {
     "base_uri": "https://localhost:8080/"
    },
    "executionInfo": {
     "elapsed": 46,
     "status": "ok",
     "timestamp": 1717870201629,
     "user": {
      "displayName": "Helen Barrett",
      "userId": "03986832566319395232"
     },
     "user_tz": -60
    },
    "id": "_0but26tfWOf",
    "outputId": "6e1793ad-6cca-4c3e-87ce-da5f04bc301e"
   },
   "outputs": [
    {
     "data": {
      "text/plain": [
       "{1: [2, 3, 7, 9, 13, 14, 15, 20, 21, 23, 29, 30, 34, 40, 42, 43, 44],\n",
       " 2: [4, 5, 11, 12, 16, 24, 25, 26, 28, 32, 38, 41],\n",
       " 3: [10, 19, 31]}"
      ]
     },
     "execution_count": 72,
     "metadata": {},
     "output_type": "execute_result"
    }
   ],
   "source": [
    "viewDictLastTen"
   ]
  },
  {
   "cell_type": "code",
   "execution_count": 73,
   "metadata": {
    "colab": {
     "base_uri": "https://localhost:8080/"
    },
    "executionInfo": {
     "elapsed": 39,
     "status": "ok",
     "timestamp": 1717870201629,
     "user": {
      "displayName": "Helen Barrett",
      "userId": "03986832566319395232"
     },
     "user_tz": -60
    },
    "id": "xk4GnmG6Z6ve",
    "outputId": "b49f9fb4-dc0c-4922-a628-dfe1c68787f8"
   },
   "outputs": [
    {
     "data": {
      "text/plain": [
       "{1: [0],\n",
       " 2: [0],\n",
       " 3: [8],\n",
       " 4: [31, 32, 33],\n",
       " 5: [22, 25, 37, 45],\n",
       " 6: [17, 20, 24, 34, 39, 47],\n",
       " 7: [1, 2, 9, 16, 28],\n",
       " 8: [7, 30, 36, 42],\n",
       " 9: [10, 13, 15, 18, 21, 27, 29, 38, 43],\n",
       " 10: [4, 5, 23, 40],\n",
       " 11: [6, 44, 46],\n",
       " 12: [3, 14],\n",
       " 13: [12, 19, 26],\n",
       " 14: [41],\n",
       " 15: [35],\n",
       " 16: [0],\n",
       " 17: [0],\n",
       " 18: [0],\n",
       " 19: [0],\n",
       " 20: [0],\n",
       " 21: [11]}"
      ]
     },
     "execution_count": 73,
     "metadata": {},
     "output_type": "execute_result"
    }
   ],
   "source": [
    "viewDictAll"
   ]
  },
  {
   "cell_type": "code",
   "execution_count": 74,
   "metadata": {
    "colab": {
     "base_uri": "https://localhost:8080/"
    },
    "executionInfo": {
     "elapsed": 32,
     "status": "ok",
     "timestamp": 1717870201629,
     "user": {
      "displayName": "Helen Barrett",
      "userId": "03986832566319395232"
     },
     "user_tz": -60
    },
    "id": "G3ZmrYaufVoi",
    "outputId": "4f10ffb7-b2d7-4b45-cfa8-58ae8a75b169"
   },
   "outputs": [
    {
     "data": {
      "text/plain": [
       "{1: [6, 7, 9], 2: [8, 10], 3: [3]}"
      ]
     },
     "execution_count": 74,
     "metadata": {},
     "output_type": "execute_result"
    }
   ],
   "source": [
    "viewDictStarLastTen"
   ]
  },
  {
   "cell_type": "code",
   "execution_count": 75,
   "metadata": {
    "colab": {
     "base_uri": "https://localhost:8080/"
    },
    "executionInfo": {
     "elapsed": 26,
     "status": "ok",
     "timestamp": 1717870201630,
     "user": {
      "displayName": "Helen Barrett",
      "userId": "03986832566319395232"
     },
     "user_tz": -60
    },
    "id": "WPohR0JtZ8ou",
    "outputId": "54dadf25-cf5d-4a3f-cc8e-cebc8e127382"
   },
   "outputs": [
    {
     "data": {
      "text/plain": [
       "{1: [0],\n",
       " 2: [0],\n",
       " 3: [0],\n",
       " 4: [7],\n",
       " 5: [0],\n",
       " 6: [0],\n",
       " 7: [2, 3, 8],\n",
       " 8: [4, 10],\n",
       " 9: [5, 6],\n",
       " 10: [1],\n",
       " 11: [0],\n",
       " 12: [9]}"
      ]
     },
     "execution_count": 75,
     "metadata": {},
     "output_type": "execute_result"
    }
   ],
   "source": [
    "starsDictAll"
   ]
  },
  {
   "cell_type": "code",
   "execution_count": 76,
   "metadata": {
    "colab": {
     "base_uri": "https://localhost:8080/",
     "height": 472
    },
    "executionInfo": {
     "elapsed": 523,
     "status": "ok",
     "timestamp": 1717870202134,
     "user": {
      "displayName": "Helen Barrett",
      "userId": "03986832566319395232"
     },
     "user_tz": -60
    },
    "id": "cFRkO17d9vvj",
    "outputId": "b3ff3472-4775-42e1-8467-3cf04410cd2b"
   },
   "outputs": [
    {
     "data": {
      "image/png": "[encoded data removed]",
      "text/plain": [
       "<Figure size 640x480 with 1 Axes>"
      ]
     },
     "metadata": {},
     "output_type": "display_data"
    }
   ],
   "source": [
    "plot_dictionary_bar(counterNumbers, \"Ball\", \"Total occurences\")"
   ]
  },
  {
   "cell_type": "code",
   "execution_count": 77,
   "metadata": {
    "colab": {
     "base_uri": "https://localhost:8080/",
     "height": 472
    },
    "executionInfo": {
     "elapsed": 533,
     "status": "ok",
     "timestamp": 1717870202656,
     "user": {
      "displayName": "Helen Barrett",
      "userId": "03986832566319395232"
     },
     "user_tz": -60
    },
    "id": "WT8CSs3qj10a",
    "outputId": "de98568a-e740-4d4a-e560-9f666b38e7f7"
   },
   "outputs": [
    {
     "data": {
      "image/png": "[encoded data removed]",
      "text/plain": [
       "<Figure size 640x480 with 1 Axes>"
      ]
     },
     "metadata": {},
     "output_type": "display_data"
    }
   ],
   "source": [
    "plot_dictionary_bar(counterLastTen, \"Number of Balls\", \" Occurrences of main balls in last 10 weeks\")"
   ]
  },
  {
   "cell_type": "code",
   "execution_count": 78,
   "metadata": {
    "colab": {
     "base_uri": "https://localhost:8080/",
     "height": 472
    },
    "executionInfo": {
     "elapsed": 405,
     "status": "ok",
     "timestamp": 1717870203053,
     "user": {
      "displayName": "Helen Barrett",
      "userId": "03986832566319395232"
     },
     "user_tz": -60
    },
    "id": "MNgp3ffNom4H",
    "outputId": "20bf5de1-7650-4cda-c0ea-d4d691519da9"
   },
   "outputs": [
    {
     "data": {
      "image/png": "[encoded data removed]",
      "text/plain": [
       "<Figure size 640x480 with 1 Axes>"
      ]
     },
     "metadata": {},
     "output_type": "display_data"
    }
   ],
   "source": [
    "plot_dictionary_bar(evenCounter, \"Number of Balls that were even\", \"Occurence of even balls\")"
   ]
  },
  {
   "cell_type": "code",
   "execution_count": 79,
   "metadata": {
    "colab": {
     "base_uri": "https://localhost:8080/",
     "height": 472
    },
    "executionInfo": {
     "elapsed": 424,
     "status": "ok",
     "timestamp": 1717870203467,
     "user": {
      "displayName": "Helen Barrett",
      "userId": "03986832566319395232"
     },
     "user_tz": -60
    },
    "id": "eJJ2P5fMr-fl",
    "outputId": "b13cbe62-e24a-413a-cadb-f556d0814862"
   },
   "outputs": [
    {
     "data": {
      "image/png": "[encoded data removed]",
      "text/plain": [
       "<Figure size 640x480 with 1 Axes>"
      ]
     },
     "metadata": {},
     "output_type": "display_data"
    }
   ],
   "source": [
    "plot_dictionary_bar(lifeOddEvenDict, \"Balls\", \"Total even and odd life balls\")\n"
   ]
  },
  {
   "cell_type": "code",
   "execution_count": 80,
   "metadata": {
    "colab": {
     "base_uri": "https://localhost:8080/",
     "height": 472
    },
    "executionInfo": {
     "elapsed": 593,
     "status": "ok",
     "timestamp": 1717870204053,
     "user": {
      "displayName": "Helen Barrett",
      "userId": "03986832566319395232"
     },
     "user_tz": -60
    },
    "id": "SMDQl9sHmE3i",
    "outputId": "92d0a2db-fe11-48fc-d9b5-728de865d39a"
   },
   "outputs": [
    {
     "data": {
      "image/png": "[encoded data removed]",
      "text/plain": [
       "<Figure size 640x480 with 1 Axes>"
      ]
     },
     "metadata": {},
     "output_type": "display_data"
    }
   ],
   "source": [
    "plot_dictionary_bar(lastSeenDict, \"Ball\", \"Number of draws since ball last seen\")"
   ]
  },
  {
   "cell_type": "code",
   "execution_count": 81,
   "metadata": {
    "colab": {
     "base_uri": "https://localhost:8080/",
     "height": 472
    },
    "executionInfo": {
     "elapsed": 473,
     "status": "ok",
     "timestamp": 1717870204519,
     "user": {
      "displayName": "Helen Barrett",
      "userId": "03986832566319395232"
     },
     "user_tz": -60
    },
    "id": "ove8j2iAbmTD",
    "outputId": "bc94962c-f818-46d6-d147-8afaf73f3a9b"
   },
   "outputs": [
    {
     "data": {
      "image/png": "[encoded data removed]",
      "text/plain": [
       "<Figure size 640x480 with 1 Axes>"
      ]
     },
     "metadata": {},
     "output_type": "display_data"
    }
   ],
   "source": [
    "plot_dictionary_bar_y(bucketProbs, \"Bucket\", \"Percentage Chance\", \"Percentage chance of each distribution of ball buckets (main)\")"
   ]
  },
  {
   "cell_type": "code",
   "execution_count": 82,
   "metadata": {
    "colab": {
     "base_uri": "https://localhost:8080/"
    },
    "executionInfo": {
     "elapsed": 11,
     "status": "ok",
     "timestamp": 1717870204520,
     "user": {
      "displayName": "Helen Barrett",
      "userId": "03986832566319395232"
     },
     "user_tz": -60
    },
    "id": "AYlDDEopq-w5",
    "outputId": "44a199ea-4aff-4d97-b9cc-df28cc32c388"
   },
   "outputs": [
    {
     "data": {
      "text/plain": [
       "[[10, 16, 19, 24, 38],\n",
       " [28, 30, 31, 32, 42],\n",
       " [3, 24, 29, 31, 41],\n",
       " [2, 11, 15, 19, 38],\n",
       " [5, 11, 12, 25, 26],\n",
       " [4, 7, 13, 28, 34],\n",
       " [14, 20, 31, 40, 43],\n",
       " [9, 10, 25, 32, 41],\n",
       " [4, 12, 16, 21, 26],\n",
       " [5, 10, 19, 23, 44],\n",
       " [1, 14, 17, 27, 35],\n",
       " [11, 15, 26, 33, 44],\n",
       " [5, 10, 14, 35, 45],\n",
       " [6, 18, 22, 29, 40],\n",
       " [3, 27, 43, 46, 47],\n",
       " [1, 17, 26, 39, 46],\n",
       " [6, 18, 26, 35, 41],\n",
       " [1, 3, 21, 22, 27],\n",
       " [11, 13, 19, 27, 42],\n",
       " [3, 5, 6, 36, 43],\n",
       " [2, 9, 16, 17, 41],\n",
       " [19, 30, 35, 40, 44],\n",
       " [5, 10, 19, 26, 41],\n",
       " [11, 23, 24, 26, 35],\n",
       " [3, 4, 11, 14, 18],\n",
       " [2, 11, 19, 38, 43],\n",
       " [4, 11, 22, 25, 34],\n",
       " [12, 21, 30, 35, 44],\n",
       " [11, 29, 32, 34, 42],\n",
       " [7, 15, 25, 30, 38],\n",
       " [4, 6, 28, 29, 45],\n",
       " [3, 10, 21, 24, 39],\n",
       " [16, 17, 19, 23, 38],\n",
       " [7, 11, 12, 36, 46],\n",
       " [5, 11, 25, 30, 42],\n",
       " [6, 20, 27, 29, 36],\n",
       " [13, 19, 26, 37, 43],\n",
       " [3, 4, 8, 10, 28],\n",
       " [3, 7, 11, 23, 29],\n",
       " [7, 29, 35, 40, 46],\n",
       " [7, 20, 23, 36, 44],\n",
       " [6, 23, 26, 27, 34],\n",
       " [9, 15, 22, 40, 44],\n",
       " [4, 14, 21, 35, 36],\n",
       " [15, 16, 23, 35, 42],\n",
       " [19, 31, 37, 39, 40],\n",
       " [12, 14, 26, 39, 46],\n",
       " [1, 20, 26, 36, 38],\n",
       " [13, 14, 35, 36, 41],\n",
       " [2, 15, 21, 41, 47],\n",
       " [4, 8, 17, 18, 21],\n",
       " [1, 13, 18, 32, 47],\n",
       " [12, 13, 16, 21, 44],\n",
       " [12, 14, 20, 28, 41],\n",
       " [2, 3, 37, 39, 45],\n",
       " [4, 11, 16, 46, 47],\n",
       " [5, 40, 42, 43, 46],\n",
       " [10, 12, 35, 37, 47],\n",
       " [10, 14, 19, 35, 41],\n",
       " [6, 9, 11, 22, 46],\n",
       " [12, 18, 30, 40, 41],\n",
       " [3, 11, 33, 38, 45],\n",
       " [9, 11, 27, 36, 47],\n",
       " [2, 5, 11, 15, 27],\n",
       " [12, 20, 41, 42, 46],\n",
       " [6, 12, 13, 18, 19],\n",
       " [2, 11, 23, 43, 46],\n",
       " [11, 30, 34, 35, 38],\n",
       " [12, 14, 38, 41, 44],\n",
       " [13, 30, 33, 35, 43],\n",
       " [9, 19, 41, 44, 46],\n",
       " [6, 11, 29, 40, 44],\n",
       " [5, 6, 18, 39, 45],\n",
       " [1, 7, 14, 15, 26],\n",
       " [18, 23, 28, 29, 37],\n",
       " [6, 12, 13, 15, 41],\n",
       " [7, 17, 23, 24, 40],\n",
       " [1, 3, 11, 28, 43],\n",
       " [8, 27, 33, 34, 44],\n",
       " [4, 5, 14, 24, 35],\n",
       " [3, 9, 21, 26, 42]]"
      ]
     },
     "execution_count": 82,
     "metadata": {},
     "output_type": "execute_result"
    }
   ],
   "source": [
    "numbers"
   ]
  },
  {
   "cell_type": "code",
   "execution_count": 83,
   "metadata": {},
   "outputs": [
    {
     "name": "stdout",
     "output_type": "stream",
     "text": [
      "Stored 'numbers' (list)\n"
     ]
    }
   ],
   "source": [
    "%store numbers"
   ]
  }
 ],
 "metadata": {
  "colab": {
   "provenance": []
  },
  "kernelspec": {
   "display_name": "Python 3 (ipykernel)",
   "language": "python",
   "name": "python3"
  },
  "language_info": {
   "codemirror_mode": {
    "name": "ipython",
    "version": 3
   },
   "file_extension": ".py",
   "mimetype": "text/x-python",
   "name": "python",
   "nbconvert_exporter": "python",
   "pygments_lexer": "ipython3",
   "version": "3.10.12"
  }
 },
 "nbformat": 4,
 "nbformat_minor": 4
}
