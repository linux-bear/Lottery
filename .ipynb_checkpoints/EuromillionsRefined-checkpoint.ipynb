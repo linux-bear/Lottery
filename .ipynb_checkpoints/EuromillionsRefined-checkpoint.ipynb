{
 "cells": [
  {
   "cell_type": "code",
   "execution_count": 3,
   "metadata": {
    "executionInfo": {
     "elapsed": 14,
     "status": "ok",
     "timestamp": 1717708914558,
     "user": {
      "displayName": "Helen Barrett",
      "userId": "03986832566319395232"
     },
     "user_tz": -60
    },
    "id": "XVN3shWT3haT"
   },
   "outputs": [],
   "source": [
    "import pandas as pd\n",
    "import collections"
   ]
  },
  {
   "cell_type": "code",
   "execution_count": 4,
   "metadata": {
    "colab": {
     "base_uri": "https://localhost:8080/"
    },
    "executionInfo": {
     "elapsed": 22201,
     "status": "ok",
     "timestamp": 1717708936747,
     "user": {
      "displayName": "Helen Barrett",
      "userId": "03986832566319395232"
     },
     "user_tz": -60
    },
    "id": "TpPdmd1b3oIT",
    "outputId": "076bd9f8-e719-4742-b807-b5dacf06a8d3"
   },
   "outputs": [],
   "source": [
    "# from google.colab import drive\n",
    "# drive.mount('/content/drive')"
   ]
  },
  {
   "cell_type": "code",
   "execution_count": 5,
   "metadata": {
    "colab": {
     "base_uri": "https://localhost:8080/"
    },
    "executionInfo": {
     "elapsed": 4495,
     "status": "ok",
     "timestamp": 1717708941232,
     "user": {
      "displayName": "Helen Barrett",
      "userId": "03986832566319395232"
     },
     "user_tz": -60
    },
    "id": "kfy-wMuuZ_XF",
    "outputId": "74320a47-cabd-4fff-9258-9e7fab019fe8"
   },
   "outputs": [
    {
     "data": {
      "text/plain": [
       "('euromillions_new.csv', <http.client.HTTPMessage at 0x7ff750eba680>)"
      ]
     },
     "execution_count": 5,
     "metadata": {},
     "output_type": "execute_result"
    }
   ],
   "source": [
    "###################pull new results from national lottery website and store locally##################################\n",
    "import urllib.request\n",
    "url = 'https://www.national-lottery.co.uk/results/euromillions/draw-history/csv'\n",
    "filename = 'euromillions_new.csv'\n",
    "urllib.request.urlretrieve(url, filename)"
   ]
  },
  {
   "cell_type": "code",
   "execution_count": 6,
   "metadata": {
    "executionInfo": {
     "elapsed": 154,
     "status": "ok",
     "timestamp": 1717708941232,
     "user": {
      "displayName": "Helen Barrett",
      "userId": "03986832566319395232"
     },
     "user_tz": -60
    },
    "id": "Vh_w2_M2aGdX"
   },
   "outputs": [],
   "source": [
    "new_df = pd.read_csv('./euromillions_new.csv')"
   ]
  },
  {
   "cell_type": "code",
   "execution_count": 9,
   "metadata": {
    "executionInfo": {
     "elapsed": 153,
     "status": "ok",
     "timestamp": 1717708941233,
     "user": {
      "displayName": "Helen Barrett",
      "userId": "03986832566319395232"
     },
     "user_tz": -60
    },
    "id": "Y69wSB7jaGhO"
   },
   "outputs": [],
   "source": [
    "main_df = pd.read_csv('./euromillions.csv')"
   ]
  },
  {
   "cell_type": "code",
   "execution_count": 12,
   "metadata": {
    "executionInfo": {
     "elapsed": 152,
     "status": "ok",
     "timestamp": 1717708941233,
     "user": {
      "displayName": "Helen Barrett",
      "userId": "03986832566319395232"
     },
     "user_tz": -60
    },
    "id": "I7Sf-4hNaGlc"
   },
   "outputs": [],
   "source": [
    "main_df[\"DrawDate\"] = pd.to_datetime(main_df[\"DrawDate\"])\n",
    "new_df[\"DrawDate\"] = pd.to_datetime(new_df[\"DrawDate\"])"
   ]
  },
  {
   "cell_type": "code",
   "execution_count": 13,
   "metadata": {
    "executionInfo": {
     "elapsed": 152,
     "status": "ok",
     "timestamp": 1717708941234,
     "user": {
      "displayName": "Helen Barrett",
      "userId": "03986832566319395232"
     },
     "user_tz": -60
    },
    "id": "cZr6GlKuaGo9"
   },
   "outputs": [],
   "source": [
    "main_df = main_df.drop(columns = ['UK Millionaire Maker'])\n",
    "new_df = new_df.drop(columns = ['UK Millionaire Maker', 'DrawNumber'])"
   ]
  },
  {
   "cell_type": "code",
   "execution_count": 14,
   "metadata": {
    "executionInfo": {
     "elapsed": 151,
     "status": "ok",
     "timestamp": 1717708941234,
     "user": {
      "displayName": "Helen Barrett",
      "userId": "03986832566319395232"
     },
     "user_tz": -60
    },
    "id": "xyGOURAAdAA0"
   },
   "outputs": [],
   "source": [
    "main_df.set_index('DrawDate',inplace=True)\n",
    "new_df.set_index('DrawDate',inplace=True)"
   ]
  },
  {
   "cell_type": "code",
   "execution_count": 15,
   "metadata": {
    "executionInfo": {
     "elapsed": 151,
     "status": "ok",
     "timestamp": 1717708941235,
     "user": {
      "displayName": "Helen Barrett",
      "userId": "03986832566319395232"
     },
     "user_tz": -60
    },
    "id": "d4GpLQHtfTDq"
   },
   "outputs": [],
   "source": [
    "original_df = pd.concat([main_df, new_df], axis=0, join = 'outer')"
   ]
  },
  {
   "cell_type": "code",
   "execution_count": 16,
   "metadata": {
    "executionInfo": {
     "elapsed": 150,
     "status": "ok",
     "timestamp": 1717708941235,
     "user": {
      "displayName": "Helen Barrett",
      "userId": "03986832566319395232"
     },
     "user_tz": -60
    },
    "id": "TTG0sWv3h6EE"
   },
   "outputs": [],
   "source": [
    "original_df.index.name='DrawDate'\n",
    "original_df.drop_duplicates(keep='first', inplace=True, ignore_index=False)\n",
    "original_df.sort_index(inplace = True, ascending = False)"
   ]
  },
  {
   "cell_type": "code",
   "execution_count": 17,
   "metadata": {
    "colab": {
     "base_uri": "https://localhost:8080/",
     "height": 1000
    },
    "executionInfo": {
     "elapsed": 150,
     "status": "ok",
     "timestamp": 1717708941236,
     "user": {
      "displayName": "Helen Barrett",
      "userId": "03986832566319395232"
     },
     "user_tz": -60
    },
    "id": "FtiPxmCSh212",
    "outputId": "b3c460a7-3ea8-4f56-c7cf-acf54a777b41"
   },
   "outputs": [
    {
     "data": {
      "text/html": [
       "<div>\n",
       "<style scoped>\n",
       "    .dataframe tbody tr th:only-of-type {\n",
       "        vertical-align: middle;\n",
       "    }\n",
       "\n",
       "    .dataframe tbody tr th {\n",
       "        vertical-align: top;\n",
       "    }\n",
       "\n",
       "    .dataframe thead th {\n",
       "        text-align: right;\n",
       "    }\n",
       "</style>\n",
       "<table border=\"1\" class=\"dataframe\">\n",
       "  <thead>\n",
       "    <tr style=\"text-align: right;\">\n",
       "      <th></th>\n",
       "      <th>Ball 1</th>\n",
       "      <th>Ball 2</th>\n",
       "      <th>Ball 3</th>\n",
       "      <th>Ball 4</th>\n",
       "      <th>Ball 5</th>\n",
       "      <th>Lucky Star 1</th>\n",
       "      <th>Lucky Star 2</th>\n",
       "    </tr>\n",
       "    <tr>\n",
       "      <th>DrawDate</th>\n",
       "      <th></th>\n",
       "      <th></th>\n",
       "      <th></th>\n",
       "      <th></th>\n",
       "      <th></th>\n",
       "      <th></th>\n",
       "      <th></th>\n",
       "    </tr>\n",
       "  </thead>\n",
       "  <tbody>\n",
       "    <tr>\n",
       "      <th>2024-06-14</th>\n",
       "      <td>2</td>\n",
       "      <td>13</td>\n",
       "      <td>16</td>\n",
       "      <td>24</td>\n",
       "      <td>32</td>\n",
       "      <td>1</td>\n",
       "      <td>7</td>\n",
       "    </tr>\n",
       "    <tr>\n",
       "      <th>2024-06-11</th>\n",
       "      <td>7</td>\n",
       "      <td>15</td>\n",
       "      <td>34</td>\n",
       "      <td>45</td>\n",
       "      <td>48</td>\n",
       "      <td>7</td>\n",
       "      <td>9</td>\n",
       "    </tr>\n",
       "    <tr>\n",
       "      <th>2024-06-07</th>\n",
       "      <td>15</td>\n",
       "      <td>16</td>\n",
       "      <td>26</td>\n",
       "      <td>30</td>\n",
       "      <td>37</td>\n",
       "      <td>5</td>\n",
       "      <td>8</td>\n",
       "    </tr>\n",
       "    <tr>\n",
       "      <th>2024-06-04</th>\n",
       "      <td>6</td>\n",
       "      <td>7</td>\n",
       "      <td>9</td>\n",
       "      <td>14</td>\n",
       "      <td>43</td>\n",
       "      <td>3</td>\n",
       "      <td>4</td>\n",
       "    </tr>\n",
       "    <tr>\n",
       "      <th>2024-05-31</th>\n",
       "      <td>4</td>\n",
       "      <td>7</td>\n",
       "      <td>16</td>\n",
       "      <td>33</td>\n",
       "      <td>34</td>\n",
       "      <td>7</td>\n",
       "      <td>8</td>\n",
       "    </tr>\n",
       "    <tr>\n",
       "      <th>...</th>\n",
       "      <td>...</td>\n",
       "      <td>...</td>\n",
       "      <td>...</td>\n",
       "      <td>...</td>\n",
       "      <td>...</td>\n",
       "      <td>...</td>\n",
       "      <td>...</td>\n",
       "    </tr>\n",
       "    <tr>\n",
       "      <th>2023-12-01</th>\n",
       "      <td>4</td>\n",
       "      <td>10</td>\n",
       "      <td>14</td>\n",
       "      <td>38</td>\n",
       "      <td>50</td>\n",
       "      <td>9</td>\n",
       "      <td>12</td>\n",
       "    </tr>\n",
       "    <tr>\n",
       "      <th>2023-11-28</th>\n",
       "      <td>12</td>\n",
       "      <td>16</td>\n",
       "      <td>27</td>\n",
       "      <td>33</td>\n",
       "      <td>44</td>\n",
       "      <td>7</td>\n",
       "      <td>8</td>\n",
       "    </tr>\n",
       "    <tr>\n",
       "      <th>2023-11-24</th>\n",
       "      <td>15</td>\n",
       "      <td>20</td>\n",
       "      <td>29</td>\n",
       "      <td>39</td>\n",
       "      <td>48</td>\n",
       "      <td>1</td>\n",
       "      <td>7</td>\n",
       "    </tr>\n",
       "    <tr>\n",
       "      <th>2023-11-21</th>\n",
       "      <td>19</td>\n",
       "      <td>29</td>\n",
       "      <td>34</td>\n",
       "      <td>46</td>\n",
       "      <td>47</td>\n",
       "      <td>2</td>\n",
       "      <td>3</td>\n",
       "    </tr>\n",
       "    <tr>\n",
       "      <th>2023-11-17</th>\n",
       "      <td>2</td>\n",
       "      <td>24</td>\n",
       "      <td>26</td>\n",
       "      <td>46</td>\n",
       "      <td>50</td>\n",
       "      <td>2</td>\n",
       "      <td>7</td>\n",
       "    </tr>\n",
       "  </tbody>\n",
       "</table>\n",
       "<p>61 rows × 7 columns</p>\n",
       "</div>"
      ],
      "text/plain": [
       "            Ball 1  Ball 2  Ball 3  Ball 4  Ball 5  Lucky Star 1  Lucky Star 2\n",
       "DrawDate                                                                      \n",
       "2024-06-14       2      13      16      24      32             1             7\n",
       "2024-06-11       7      15      34      45      48             7             9\n",
       "2024-06-07      15      16      26      30      37             5             8\n",
       "2024-06-04       6       7       9      14      43             3             4\n",
       "2024-05-31       4       7      16      33      34             7             8\n",
       "...            ...     ...     ...     ...     ...           ...           ...\n",
       "2023-12-01       4      10      14      38      50             9            12\n",
       "2023-11-28      12      16      27      33      44             7             8\n",
       "2023-11-24      15      20      29      39      48             1             7\n",
       "2023-11-21      19      29      34      46      47             2             3\n",
       "2023-11-17       2      24      26      46      50             2             7\n",
       "\n",
       "[61 rows x 7 columns]"
      ]
     },
     "execution_count": 17,
     "metadata": {},
     "output_type": "execute_result"
    }
   ],
   "source": [
    "original_df"
   ]
  },
  {
   "cell_type": "code",
   "execution_count": 18,
   "metadata": {
    "executionInfo": {
     "elapsed": 129,
     "status": "ok",
     "timestamp": 1717708941236,
     "user": {
      "displayName": "Helen Barrett",
      "userId": "03986832566319395232"
     },
     "user_tz": -60
    },
    "id": "mQ8G61Hxhxxo"
   },
   "outputs": [],
   "source": [
    "#################### create the list of lists #################################"
   ]
  },
  {
   "cell_type": "code",
   "execution_count": 19,
   "metadata": {
    "executionInfo": {
     "elapsed": 129,
     "status": "ok",
     "timestamp": 1717708941237,
     "user": {
      "displayName": "Helen Barrett",
      "userId": "03986832566319395232"
     },
     "user_tz": -60
    },
    "id": "VC3SWmuC4aB6"
   },
   "outputs": [],
   "source": [
    "#Creates a list of lists of the numbers in sorted order, and also a long list of all the numbers for the counter\n",
    "\n",
    "def createLongList(df, set):\n",
    "  if set == \"main\":\n",
    "    jRangeLow = 0\n",
    "    jRangeHigh = 5\n",
    "  else:\n",
    "    jRangeLow = 5\n",
    "    jRangeHigh = 7\n",
    "  #numbers is an array of arrays, each week a new array\n",
    "  numbers = []\n",
    "  #longlist has all the numbers in a row, to make the chart\n",
    "  longList = []\n",
    "  #i and j give the coordinates of the dataframe, going from the second from the left, hence j 1,6\n",
    "  for i in range(len(df)):\n",
    "    #print(i)\n",
    "    tempList = []\n",
    "    for j in range(jRangeLow, jRangeHigh):\n",
    "      #print(i)\n",
    "      #print(j)\n",
    "      num = df.iloc[i][j]\n",
    "      tempList.append(num)\n",
    "      longList.append(num)\n",
    "    tempList.sort()\n",
    "    #templist is now an array of that weeks numbers, sorted\n",
    "    numbers.append(tempList)\n",
    "  return numbers, longList"
   ]
  },
  {
   "cell_type": "code",
   "execution_count": 20,
   "metadata": {
    "executionInfo": {
     "elapsed": 129,
     "status": "ok",
     "timestamp": 1717708941237,
     "user": {
      "displayName": "Helen Barrett",
      "userId": "03986832566319395232"
     },
     "user_tz": -60
    },
    "id": "zTxT-V9p5Py4"
   },
   "outputs": [],
   "source": [
    "###########creation of numbers, numbersLife##########################\n",
    "numbers, longList = createLongList(original_df, \"main\")\n",
    "numbersStars, longListStars = createLongList(original_df, \"stars\")"
   ]
  },
  {
   "cell_type": "code",
   "execution_count": 21,
   "metadata": {
    "executionInfo": {
     "elapsed": 128,
     "status": "ok",
     "timestamp": 1717708941237,
     "user": {
      "displayName": "Helen Barrett",
      "userId": "03986832566319395232"
     },
     "user_tz": -60
    },
    "id": "InfEtnQz6ZZc"
   },
   "outputs": [],
   "source": [
    "counterNumbers = collections.Counter(longList)\n",
    "counterStars = collections.Counter(longListStars)"
   ]
  },
  {
   "cell_type": "code",
   "execution_count": 22,
   "metadata": {
    "executionInfo": {
     "elapsed": 128,
     "status": "ok",
     "timestamp": 1717708941238,
     "user": {
      "displayName": "Helen Barrett",
      "userId": "03986832566319395232"
     },
     "user_tz": -60
    },
    "id": "qEGTGGTR62qk"
   },
   "outputs": [],
   "source": [
    "def findMax(myDict):\n",
    "  #find max value in dict\n",
    "  numMax = 0\n",
    "  for key in myDict:\n",
    "    if myDict[key] > numMax:\n",
    "      numMax = myDict[key]\n",
    "  return numMax\n",
    "\n",
    "\n",
    "#iterate through sortedNumMax list and if counterBalls[sortedNumMax] matches\n",
    "#counterBalls[key], add it to the array. Then when finished, add array to array of arrays\n",
    "\n",
    "def viewFrequency(myDict):\n",
    "  occArr = []\n",
    "  numMax = findMax(myDict)\n",
    "  for x in range(1, (numMax+1)):\n",
    "    #print(f\"oSet: {x}\")\n",
    "    tempArr = []\n",
    "    for key in myDict:\n",
    "      if myDict[key] == x:\n",
    "        tempArr.append(key)\n",
    "        #print(key)\n",
    "    if not tempArr:\n",
    "      #if tempArr is empty, add a 0 as filler, or it ends up leaving it out\n",
    "      tempArr.append(0)\n",
    "    tempArr.sort()\n",
    "    #add array to array of arrays\n",
    "    occArr.append(tempArr)\n",
    "  return occArr, numMax"
   ]
  },
  {
   "cell_type": "code",
   "execution_count": 23,
   "metadata": {
    "executionInfo": {
     "elapsed": 128,
     "status": "ok",
     "timestamp": 1717708941238,
     "user": {
      "displayName": "Helen Barrett",
      "userId": "03986832566319395232"
     },
     "user_tz": -60
    },
    "id": "jp0SU2fX7SbX"
   },
   "outputs": [],
   "source": [
    "occArr, numMax = viewFrequency(counterNumbers)\n",
    "occArrStar, numMaxStar = viewFrequency(counterStars)"
   ]
  },
  {
   "cell_type": "code",
   "execution_count": 24,
   "metadata": {
    "executionInfo": {
     "elapsed": 131,
     "status": "ok",
     "timestamp": 1717708941241,
     "user": {
      "displayName": "Helen Barrett",
      "userId": "03986832566319395232"
     },
     "user_tz": -60
    },
    "id": "5QN8Wgbt7SpI"
   },
   "outputs": [],
   "source": [
    "##finally, create the viewer by adding each array to it's corresponding occurence\n",
    "def createViewer(arrOcc, nMax):\n",
    "  viewDictAll = {}\n",
    "  for x in range(1, (nMax + 1)):\n",
    "    viewDictAll[x] = arrOcc[x-1]\n",
    "  return viewDictAll"
   ]
  },
  {
   "cell_type": "code",
   "execution_count": 25,
   "metadata": {
    "executionInfo": {
     "elapsed": 130,
     "status": "ok",
     "timestamp": 1717708941241,
     "user": {
      "displayName": "Helen Barrett",
      "userId": "03986832566319395232"
     },
     "user_tz": -60
    },
    "id": "MUqffH8l7yG8"
   },
   "outputs": [],
   "source": [
    "########################viewing dictionaries of occurence###################\n",
    "viewDictAll = createViewer(occArr, numMax)\n",
    "starsDictAll = createViewer(occArrStar, numMaxStar)"
   ]
  },
  {
   "cell_type": "code",
   "execution_count": 26,
   "metadata": {
    "executionInfo": {
     "elapsed": 130,
     "status": "ok",
     "timestamp": 1717708941241,
     "user": {
      "displayName": "Helen Barrett",
      "userId": "03986832566319395232"
     },
     "user_tz": -60
    },
    "id": "_2hKwHlJa0hu"
   },
   "outputs": [],
   "source": [
    "#####################viewing dictionaries for last 10 weeks##########################"
   ]
  },
  {
   "cell_type": "code",
   "execution_count": 27,
   "metadata": {
    "executionInfo": {
     "elapsed": 129,
     "status": "ok",
     "timestamp": 1717708941242,
     "user": {
      "displayName": "Helen Barrett",
      "userId": "03986832566319395232"
     },
     "user_tz": -60
    },
    "id": "yS5XbA0ea0mI"
   },
   "outputs": [],
   "source": [
    "def viewLastTen(ballSet):\n",
    "  lastTen = []\n",
    "  if ballSet == \"Main\":\n",
    "    lastTen = numbers[:10]\n",
    "  else:\n",
    "    lastTen = numbersStars[:10]\n",
    "\n",
    "  #turn lastTen into a counter...\n",
    "  counterList = []\n",
    "  for row in lastTen:\n",
    "    for num in row:\n",
    "      counterList.append(num)\n",
    "\n",
    "  counter = collections.Counter(counterList)\n",
    "\n",
    "  occArr, numMax = viewFrequency(counter)\n",
    "  viewer = createViewer(occArr, numMax)\n",
    "  return viewer\n",
    "  #return \"ook\"\n"
   ]
  },
  {
   "cell_type": "code",
   "execution_count": 28,
   "metadata": {
    "executionInfo": {
     "elapsed": 128,
     "status": "ok",
     "timestamp": 1717708941242,
     "user": {
      "displayName": "Helen Barrett",
      "userId": "03986832566319395232"
     },
     "user_tz": -60
    },
    "id": "7-LJ3mbma0rB"
   },
   "outputs": [],
   "source": [
    "viewDictLastTen = viewLastTen(\"Main\")\n",
    "viewDictStarLastTen = viewLastTen(\"Star\")"
   ]
  },
  {
   "cell_type": "code",
   "execution_count": 29,
   "metadata": {
    "colab": {
     "base_uri": "https://localhost:8080/"
    },
    "executionInfo": {
     "elapsed": 129,
     "status": "ok",
     "timestamp": 1717708941243,
     "user": {
      "displayName": "Helen Barrett",
      "userId": "03986832566319395232"
     },
     "user_tz": -60
    },
    "id": "TWzBM6fafKtw",
    "outputId": "8aca74e7-e7dd-4b4d-b0d4-6dd6fce13250"
   },
   "outputs": [
    {
     "data": {
      "text/plain": [
       "{1: [4, 6, 8, 11, 12, 17, 22, 24, 26, 28, 30, 31, 33, 36, 37, 43, 45, 46, 50],\n",
       " 2: [2, 9, 13, 14, 15, 32, 35, 41, 48],\n",
       " 3: [7, 18, 34],\n",
       " 4: [16]}"
      ]
     },
     "execution_count": 29,
     "metadata": {},
     "output_type": "execute_result"
    }
   ],
   "source": [
    "viewDictLastTen"
   ]
  },
  {
   "cell_type": "code",
   "execution_count": 30,
   "metadata": {
    "executionInfo": {
     "elapsed": 110,
     "status": "ok",
     "timestamp": 1717708941243,
     "user": {
      "displayName": "Helen Barrett",
      "userId": "03986832566319395232"
     },
     "user_tz": -60
    },
    "id": "npDBBk-p7_4h"
   },
   "outputs": [],
   "source": [
    "##################how many this weeks balls are in previous weeks############################\n",
    "\n",
    "#This returns how many of the balls in that week were in the last x many weeks\n",
    "def compareTenBackend(numberList, startIndex, weeks):\n",
    "  num = 0\n",
    "  endIndex = startIndex + weeks\n",
    "  tenthList = numberList[startIndex+1:endIndex]\n",
    "  compareList = numberList[startIndex]\n",
    "\n",
    "  isin = set([])\n",
    "  for x in compareList:\n",
    "    for y in range(0, len(tenthList)):\n",
    "      if x in tenthList[y]: #this iterates through each array in tenthList\n",
    "        isin.add(x)\n",
    "\n",
    "  count = len(isin)\n",
    "  return count\n",
    "\n",
    "#write another function that calls compareTenBackend() in a loop, telling us for each week, how many of those balls are in\n",
    "#the past 10 weeks balls\n",
    "def compareNextTen(numberList, weeks):\n",
    "  returnList = []\n",
    "  for x in range(0,len(numberList)):\n",
    "    num = compareTenBackend(numberList, x, weeks)\n",
    "    returnList.append(num)\n",
    "  return returnList\n"
   ]
  },
  {
   "cell_type": "code",
   "execution_count": 31,
   "metadata": {
    "executionInfo": {
     "elapsed": 109,
     "status": "ok",
     "timestamp": 1717708941243,
     "user": {
      "displayName": "Helen Barrett",
      "userId": "03986832566319395232"
     },
     "user_tz": -60
    },
    "id": "TZw0drux8n8x"
   },
   "outputs": [],
   "source": [
    "comparedTen = compareNextTen(numbers, 10)\n",
    "comparedTenStars = compareNextTen(numbersStars, 10)\n",
    "\n",
    "#this isn't meaningful\n",
    "comparedFive = compareNextTen(numbers, 5)\n",
    "comparedFiveStars = compareNextTen(numbersStars, 5)\n",
    "\n",
    "#this is only meaningful for the stars\n",
    "comparedSeven = compareNextTen(numbers, 7)\n",
    "comparedSevenStars = compareNextTen(numbersStars, 7)"
   ]
  },
  {
   "cell_type": "code",
   "execution_count": 32,
   "metadata": {
    "executionInfo": {
     "elapsed": 110,
     "status": "ok",
     "timestamp": 1717708941244,
     "user": {
      "displayName": "Helen Barrett",
      "userId": "03986832566319395232"
     },
     "user_tz": -60
    },
    "id": "eYcdJo1nCSoe"
   },
   "outputs": [],
   "source": [
    "######################## Odd / Even ##############################"
   ]
  },
  {
   "cell_type": "code",
   "execution_count": 33,
   "metadata": {
    "executionInfo": {
     "elapsed": 109,
     "status": "ok",
     "timestamp": 1717708941244,
     "user": {
      "displayName": "Helen Barrett",
      "userId": "03986832566319395232"
     },
     "user_tz": -60
    },
    "id": "qVHazqKsCSst"
   },
   "outputs": [],
   "source": [
    "def oddEven(numbers):\n",
    "  even = []\n",
    "  odd = []\n",
    "  # x is an array\n",
    "  for x in numbers:\n",
    "    evenTotal = 0\n",
    "    oddTotal = 0\n",
    "    # y is the number itself\n",
    "    for y in x:\n",
    "      if y % 2 == 0:\n",
    "        evenTotal += 1\n",
    "      else:\n",
    "        oddTotal+=1\n",
    "    even.append(evenTotal)\n",
    "    odd.append(oddTotal)\n",
    "\n",
    "  return even, odd"
   ]
  },
  {
   "cell_type": "code",
   "execution_count": 34,
   "metadata": {
    "executionInfo": {
     "elapsed": 109,
     "status": "ok",
     "timestamp": 1717708941244,
     "user": {
      "displayName": "Helen Barrett",
      "userId": "03986832566319395232"
     },
     "user_tz": -60
    },
    "id": "59RH7LjVBQcG"
   },
   "outputs": [],
   "source": [
    "evenList, oddList = oddEven(numbers)\n",
    "evenListStar, oddListStar = oddEven(numbersStars)"
   ]
  },
  {
   "cell_type": "code",
   "execution_count": 35,
   "metadata": {
    "executionInfo": {
     "elapsed": 109,
     "status": "ok",
     "timestamp": 1717708941245,
     "user": {
      "displayName": "Helen Barrett",
      "userId": "03986832566319395232"
     },
     "user_tz": -60
    },
    "id": "hBOY2x5blkOe"
   },
   "outputs": [],
   "source": [
    "evenTenCounter = collections.Counter(evenList[:10])\n",
    "evenCounter = collections.Counter(evenList)\n",
    "evenStarTenCounter = collections.Counter(evenListStar[:10])\n",
    "evenStarCounter = collections.Counter(evenListStar)\n",
    "\n",
    "oddCounter = collections.Counter(oddList)"
   ]
  },
  {
   "cell_type": "code",
   "execution_count": 36,
   "metadata": {
    "colab": {
     "base_uri": "https://localhost:8080/",
     "height": 175
    },
    "executionInfo": {
     "elapsed": 109,
     "status": "ok",
     "timestamp": 1717708941245,
     "user": {
      "displayName": "Helen Barrett",
      "userId": "03986832566319395232"
     },
     "user_tz": -60
    },
    "id": "6JQYTDNM-BbQ",
    "outputId": "daedc67d-f491-4741-cdcd-5da738112937"
   },
   "outputs": [
    {
     "data": {
      "text/html": [
       "<div>\n",
       "<style scoped>\n",
       "    .dataframe tbody tr th:only-of-type {\n",
       "        vertical-align: middle;\n",
       "    }\n",
       "\n",
       "    .dataframe tbody tr th {\n",
       "        vertical-align: top;\n",
       "    }\n",
       "\n",
       "    .dataframe thead th {\n",
       "        text-align: right;\n",
       "    }\n",
       "</style>\n",
       "<table border=\"1\" class=\"dataframe\">\n",
       "  <thead>\n",
       "    <tr style=\"text-align: right;\">\n",
       "      <th></th>\n",
       "      <th>Ball 1</th>\n",
       "      <th>Ball 2</th>\n",
       "      <th>Ball 3</th>\n",
       "      <th>Ball 4</th>\n",
       "      <th>Ball 5</th>\n",
       "      <th>Star 1</th>\n",
       "      <th>Star 2</th>\n",
       "    </tr>\n",
       "    <tr>\n",
       "      <th>DrawDate</th>\n",
       "      <th></th>\n",
       "      <th></th>\n",
       "      <th></th>\n",
       "      <th></th>\n",
       "      <th></th>\n",
       "      <th></th>\n",
       "      <th></th>\n",
       "    </tr>\n",
       "  </thead>\n",
       "  <tbody>\n",
       "    <tr>\n",
       "      <th>2024-06-14</th>\n",
       "      <td>2</td>\n",
       "      <td>13</td>\n",
       "      <td>16</td>\n",
       "      <td>24</td>\n",
       "      <td>32</td>\n",
       "      <td>1</td>\n",
       "      <td>7</td>\n",
       "    </tr>\n",
       "    <tr>\n",
       "      <th>2024-06-11</th>\n",
       "      <td>7</td>\n",
       "      <td>15</td>\n",
       "      <td>34</td>\n",
       "      <td>45</td>\n",
       "      <td>48</td>\n",
       "      <td>7</td>\n",
       "      <td>9</td>\n",
       "    </tr>\n",
       "    <tr>\n",
       "      <th>2024-06-07</th>\n",
       "      <td>15</td>\n",
       "      <td>16</td>\n",
       "      <td>26</td>\n",
       "      <td>30</td>\n",
       "      <td>37</td>\n",
       "      <td>5</td>\n",
       "      <td>8</td>\n",
       "    </tr>\n",
       "  </tbody>\n",
       "</table>\n",
       "</div>"
      ],
      "text/plain": [
       "            Ball 1  Ball 2  Ball 3  Ball 4  Ball 5  Star 1  Star 2\n",
       "DrawDate                                                          \n",
       "2024-06-14       2      13      16      24      32       1       7\n",
       "2024-06-11       7      15      34      45      48       7       9\n",
       "2024-06-07      15      16      26      30      37       5       8"
      ]
     },
     "execution_count": 36,
     "metadata": {},
     "output_type": "execute_result"
    }
   ],
   "source": [
    "##########################Create a new dataframe, add columns and rename stuff####################\n",
    "\n",
    "main_df = original_df.copy()\n",
    "\n",
    "#list(main_df.columns.values) #list column names\n",
    "#main_df['DrawDate'] = main_df.index # create column from index\n",
    "\n",
    "main_df = main_df.rename(columns={\"Lucky Star 1\": \"Star 1\", \"Lucky Star 2\": \"Star 2\"})\n",
    "main_df.head(3)\n",
    "# main_df = main_df.rename(columns={\"Ball 1\": \"B1\", \"Ball 2\": \"B2\", \"Ball 3\": \"B3\", \"Ball 4\": \"B4\", \"Ball 5\": \"B5\", \"Lucky Star 1\": \"S1\", \"Lucky Star 2\": \"S2\"})"
   ]
  },
  {
   "cell_type": "code",
   "execution_count": 37,
   "metadata": {
    "executionInfo": {
     "elapsed": 107,
     "status": "ok",
     "timestamp": 1717708941245,
     "user": {
      "displayName": "Helen Barrett",
      "userId": "03986832566319395232"
     },
     "user_tz": -60
    },
    "id": "xEZ3Go7H-2Lu"
   },
   "outputs": [],
   "source": [
    "main_df['10Main'] = comparedTen\n",
    "main_df['10Star'] = comparedTenStars\n",
    "main_df['7Star'] = comparedSevenStars"
   ]
  },
  {
   "cell_type": "code",
   "execution_count": 38,
   "metadata": {
    "executionInfo": {
     "elapsed": 107,
     "status": "ok",
     "timestamp": 1717708941246,
     "user": {
      "displayName": "Helen Barrett",
      "userId": "03986832566319395232"
     },
     "user_tz": -60
    },
    "id": "IYFSQJGFG1IT"
   },
   "outputs": [],
   "source": [
    "main_df['OddM'] = oddList\n",
    "main_df['EvenM'] = evenList\n",
    "main_df['OddS'] = oddListStar\n",
    "main_df['EvenS'] = evenListStar"
   ]
  },
  {
   "cell_type": "code",
   "execution_count": 41,
   "metadata": {
    "executionInfo": {
     "elapsed": 107,
     "status": "ok",
     "timestamp": 1717708941246,
     "user": {
      "displayName": "Helen Barrett",
      "userId": "03986832566319395232"
     },
     "user_tz": -60
    },
    "id": "fof3ePxJB7gc"
   },
   "outputs": [],
   "source": [
    "main_df.to_csv('./Euromillions_out.csv', index=True)"
   ]
  },
  {
   "cell_type": "code",
   "execution_count": 42,
   "metadata": {
    "colab": {
     "base_uri": "https://localhost:8080/",
     "height": 237
    },
    "executionInfo": {
     "elapsed": 107,
     "status": "ok",
     "timestamp": 1717708941246,
     "user": {
      "displayName": "Helen Barrett",
      "userId": "03986832566319395232"
     },
     "user_tz": -60
    },
    "id": "86eTj8n7IoTH",
    "outputId": "d03695a5-0e76-446a-adf3-9a57dd6c87ae"
   },
   "outputs": [
    {
     "data": {
      "text/html": [
       "<div>\n",
       "<style scoped>\n",
       "    .dataframe tbody tr th:only-of-type {\n",
       "        vertical-align: middle;\n",
       "    }\n",
       "\n",
       "    .dataframe tbody tr th {\n",
       "        vertical-align: top;\n",
       "    }\n",
       "\n",
       "    .dataframe thead th {\n",
       "        text-align: right;\n",
       "    }\n",
       "</style>\n",
       "<table border=\"1\" class=\"dataframe\">\n",
       "  <thead>\n",
       "    <tr style=\"text-align: right;\">\n",
       "      <th></th>\n",
       "      <th>Ball 1</th>\n",
       "      <th>Ball 2</th>\n",
       "      <th>Ball 3</th>\n",
       "      <th>Ball 4</th>\n",
       "      <th>Ball 5</th>\n",
       "      <th>Star 1</th>\n",
       "      <th>Star 2</th>\n",
       "      <th>10Main</th>\n",
       "      <th>10Star</th>\n",
       "      <th>7Star</th>\n",
       "      <th>OddM</th>\n",
       "      <th>EvenM</th>\n",
       "      <th>OddS</th>\n",
       "      <th>EvenS</th>\n",
       "    </tr>\n",
       "    <tr>\n",
       "      <th>DrawDate</th>\n",
       "      <th></th>\n",
       "      <th></th>\n",
       "      <th></th>\n",
       "      <th></th>\n",
       "      <th></th>\n",
       "      <th></th>\n",
       "      <th></th>\n",
       "      <th></th>\n",
       "      <th></th>\n",
       "      <th></th>\n",
       "      <th></th>\n",
       "      <th></th>\n",
       "      <th></th>\n",
       "      <th></th>\n",
       "    </tr>\n",
       "  </thead>\n",
       "  <tbody>\n",
       "    <tr>\n",
       "      <th>2024-06-14</th>\n",
       "      <td>2</td>\n",
       "      <td>13</td>\n",
       "      <td>16</td>\n",
       "      <td>24</td>\n",
       "      <td>32</td>\n",
       "      <td>1</td>\n",
       "      <td>7</td>\n",
       "      <td>4</td>\n",
       "      <td>2</td>\n",
       "      <td>2</td>\n",
       "      <td>1</td>\n",
       "      <td>4</td>\n",
       "      <td>2</td>\n",
       "      <td>0</td>\n",
       "    </tr>\n",
       "    <tr>\n",
       "      <th>2024-06-11</th>\n",
       "      <td>7</td>\n",
       "      <td>15</td>\n",
       "      <td>34</td>\n",
       "      <td>45</td>\n",
       "      <td>48</td>\n",
       "      <td>7</td>\n",
       "      <td>9</td>\n",
       "      <td>4</td>\n",
       "      <td>2</td>\n",
       "      <td>2</td>\n",
       "      <td>3</td>\n",
       "      <td>2</td>\n",
       "      <td>2</td>\n",
       "      <td>0</td>\n",
       "    </tr>\n",
       "    <tr>\n",
       "      <th>2024-06-07</th>\n",
       "      <td>15</td>\n",
       "      <td>16</td>\n",
       "      <td>26</td>\n",
       "      <td>30</td>\n",
       "      <td>37</td>\n",
       "      <td>5</td>\n",
       "      <td>8</td>\n",
       "      <td>1</td>\n",
       "      <td>1</td>\n",
       "      <td>1</td>\n",
       "      <td>2</td>\n",
       "      <td>3</td>\n",
       "      <td>1</td>\n",
       "      <td>1</td>\n",
       "    </tr>\n",
       "    <tr>\n",
       "      <th>2024-06-04</th>\n",
       "      <td>6</td>\n",
       "      <td>7</td>\n",
       "      <td>9</td>\n",
       "      <td>14</td>\n",
       "      <td>43</td>\n",
       "      <td>3</td>\n",
       "      <td>4</td>\n",
       "      <td>4</td>\n",
       "      <td>2</td>\n",
       "      <td>1</td>\n",
       "      <td>3</td>\n",
       "      <td>2</td>\n",
       "      <td>1</td>\n",
       "      <td>1</td>\n",
       "    </tr>\n",
       "    <tr>\n",
       "      <th>2024-05-31</th>\n",
       "      <td>4</td>\n",
       "      <td>7</td>\n",
       "      <td>16</td>\n",
       "      <td>33</td>\n",
       "      <td>34</td>\n",
       "      <td>7</td>\n",
       "      <td>8</td>\n",
       "      <td>3</td>\n",
       "      <td>1</td>\n",
       "      <td>1</td>\n",
       "      <td>2</td>\n",
       "      <td>3</td>\n",
       "      <td>1</td>\n",
       "      <td>1</td>\n",
       "    </tr>\n",
       "  </tbody>\n",
       "</table>\n",
       "</div>"
      ],
      "text/plain": [
       "            Ball 1  Ball 2  Ball 3  Ball 4  Ball 5  Star 1  Star 2  10Main  \\\n",
       "DrawDate                                                                     \n",
       "2024-06-14       2      13      16      24      32       1       7       4   \n",
       "2024-06-11       7      15      34      45      48       7       9       4   \n",
       "2024-06-07      15      16      26      30      37       5       8       1   \n",
       "2024-06-04       6       7       9      14      43       3       4       4   \n",
       "2024-05-31       4       7      16      33      34       7       8       3   \n",
       "\n",
       "            10Star  7Star  OddM  EvenM  OddS  EvenS  \n",
       "DrawDate                                             \n",
       "2024-06-14       2      2     1      4     2      0  \n",
       "2024-06-11       2      2     3      2     2      0  \n",
       "2024-06-07       1      1     2      3     1      1  \n",
       "2024-06-04       2      1     3      2     1      1  \n",
       "2024-05-31       1      1     2      3     1      1  "
      ]
     },
     "execution_count": 42,
     "metadata": {},
     "output_type": "execute_result"
    }
   ],
   "source": [
    "main_df.head(5)"
   ]
  },
  {
   "cell_type": "code",
   "execution_count": 43,
   "metadata": {
    "executionInfo": {
     "elapsed": 106,
     "status": "ok",
     "timestamp": 1717708941247,
     "user": {
      "displayName": "Helen Barrett",
      "userId": "03986832566319395232"
     },
     "user_tz": -60
    },
    "id": "5Nmx9EqbKIlp"
   },
   "outputs": [],
   "source": [
    "############### is present ###########################################"
   ]
  },
  {
   "cell_type": "code",
   "execution_count": 44,
   "metadata": {
    "executionInfo": {
     "elapsed": 105,
     "status": "ok",
     "timestamp": 1717708941247,
     "user": {
      "displayName": "Helen Barrett",
      "userId": "03986832566319395232"
     },
     "user_tz": -60
    },
    "id": "_vSJH_EZKIpB"
   },
   "outputs": [],
   "source": [
    "# was that bucket in this weeks numbers?\n",
    "def isPresent(numbers, numb):\n",
    "  presentList = []\n",
    "  for x in numbers:\n",
    "    present = False\n",
    "    for y in x:\n",
    "      if y > (numb-1) and y < (numb+9):\n",
    "        present = True\n",
    "    if present == True:\n",
    "      presentList.append(\"True\")\n",
    "    else:\n",
    "      presentList.append(\"False\")\n",
    "  return presentList"
   ]
  },
  {
   "cell_type": "code",
   "execution_count": 45,
   "metadata": {
    "colab": {
     "base_uri": "https://localhost:8080/"
    },
    "executionInfo": {
     "elapsed": 106,
     "status": "ok",
     "timestamp": 1717708941248,
     "user": {
      "displayName": "Helen Barrett",
      "userId": "03986832566319395232"
     },
     "user_tz": -60
    },
    "id": "YrMqofbHKIsb",
    "outputId": "a9f15edb-464b-4b8a-cdda-6d2f9936e36d"
   },
   "outputs": [
    {
     "data": {
      "text/plain": [
       "['True', 'True', 'True', 'False', 'True']"
      ]
     },
     "execution_count": 45,
     "metadata": {},
     "output_type": "execute_result"
    }
   ],
   "source": [
    "presentList0 = isPresent(numbers, 0)\n",
    "presentList10 = isPresent(numbers, 10)\n",
    "presentList20 = isPresent(numbers, 20)\n",
    "presentList30 = isPresent(numbers, 30)\n",
    "presentList40 = isPresent(numbers, 40)\n",
    "presentList30[:5]"
   ]
  },
  {
   "cell_type": "code",
   "execution_count": 46,
   "metadata": {
    "executionInfo": {
     "elapsed": 95,
     "status": "ok",
     "timestamp": 1717708941248,
     "user": {
      "displayName": "Helen Barrett",
      "userId": "03986832566319395232"
     },
     "user_tz": -60
    },
    "id": "FIkS1KMuQnWz"
   },
   "outputs": [],
   "source": [
    "def createDf(zero,one,two,three,four):\n",
    "    df = original_df.copy()\n",
    "    df = df.drop(columns = ['Ball 1',\n",
    "  'Ball 2',\n",
    "  'Ball 3',\n",
    "  'Ball 4',\n",
    "  'Ball 5',\n",
    "  'Lucky Star 1',\n",
    "  'Lucky Star 2'])\n",
    "    print(\"ook\")\n",
    "\n",
    "    df['zeros'] = zero\n",
    "    df['ones'] = one\n",
    "    df['twos'] = two\n",
    "    df['threes'] = three\n",
    "    df['fours'] = four\n",
    "\n",
    "    return df"
   ]
  },
  {
   "cell_type": "code",
   "execution_count": 47,
   "metadata": {
    "executionInfo": {
     "elapsed": 94,
     "status": "ok",
     "timestamp": 1717708941248,
     "user": {
      "displayName": "Helen Barrett",
      "userId": "03986832566319395232"
     },
     "user_tz": -60
    },
    "id": "hQlggQ0JNO2R"
   },
   "outputs": [],
   "source": [
    "def howManyPresent(numbers):\n",
    "  zeroList = []\n",
    "  tenList = []\n",
    "  twentyList = []\n",
    "  thirtyList = []\n",
    "  fourtyList = []\n",
    "  for row in numbers:\n",
    "    zero = 0\n",
    "    ten = 0\n",
    "    twenty = 0\n",
    "    thirty = 0\n",
    "    fourty = 0\n",
    "\n",
    "    for num in row:\n",
    "      if num < 10:\n",
    "        zero += 1\n",
    "      if num > 9 and num < 20:\n",
    "        ten += 1\n",
    "      if num > 19 and num < 30:\n",
    "        twenty += 1\n",
    "      if num > 29 and num < 40:\n",
    "        thirty += 1\n",
    "      if num > 39 and num < 50:\n",
    "        fourty += 1\n",
    "    zeroList.append(zero)\n",
    "    tenList.append(ten)\n",
    "    twentyList.append(twenty)\n",
    "    thirtyList.append(thirty)\n",
    "    fourtyList.append(fourty)\n",
    "\n",
    "  df = createDf(zeroList,tenList,twentyList,thirtyList,fourtyList)\n",
    "\n",
    "  return df"
   ]
  },
  {
   "cell_type": "code",
   "execution_count": 48,
   "metadata": {
    "colab": {
     "base_uri": "https://localhost:8080/",
     "height": 256
    },
    "executionInfo": {
     "elapsed": 95,
     "status": "ok",
     "timestamp": 1717708941249,
     "user": {
      "displayName": "Helen Barrett",
      "userId": "03986832566319395232"
     },
     "user_tz": -60
    },
    "id": "_nHfx9eYNfPB",
    "outputId": "0492a36e-fd7a-4b1f-9d94-361d86e6ed8b"
   },
   "outputs": [
    {
     "name": "stdout",
     "output_type": "stream",
     "text": [
      "ook\n"
     ]
    },
    {
     "data": {
      "text/html": [
       "<div>\n",
       "<style scoped>\n",
       "    .dataframe tbody tr th:only-of-type {\n",
       "        vertical-align: middle;\n",
       "    }\n",
       "\n",
       "    .dataframe tbody tr th {\n",
       "        vertical-align: top;\n",
       "    }\n",
       "\n",
       "    .dataframe thead th {\n",
       "        text-align: right;\n",
       "    }\n",
       "</style>\n",
       "<table border=\"1\" class=\"dataframe\">\n",
       "  <thead>\n",
       "    <tr style=\"text-align: right;\">\n",
       "      <th></th>\n",
       "      <th>zeros</th>\n",
       "      <th>ones</th>\n",
       "      <th>twos</th>\n",
       "      <th>threes</th>\n",
       "      <th>fours</th>\n",
       "    </tr>\n",
       "    <tr>\n",
       "      <th>DrawDate</th>\n",
       "      <th></th>\n",
       "      <th></th>\n",
       "      <th></th>\n",
       "      <th></th>\n",
       "      <th></th>\n",
       "    </tr>\n",
       "  </thead>\n",
       "  <tbody>\n",
       "    <tr>\n",
       "      <th>2024-06-14</th>\n",
       "      <td>1</td>\n",
       "      <td>2</td>\n",
       "      <td>1</td>\n",
       "      <td>1</td>\n",
       "      <td>0</td>\n",
       "    </tr>\n",
       "    <tr>\n",
       "      <th>2024-06-11</th>\n",
       "      <td>1</td>\n",
       "      <td>1</td>\n",
       "      <td>0</td>\n",
       "      <td>1</td>\n",
       "      <td>2</td>\n",
       "    </tr>\n",
       "    <tr>\n",
       "      <th>2024-06-07</th>\n",
       "      <td>0</td>\n",
       "      <td>2</td>\n",
       "      <td>1</td>\n",
       "      <td>2</td>\n",
       "      <td>0</td>\n",
       "    </tr>\n",
       "    <tr>\n",
       "      <th>2024-06-04</th>\n",
       "      <td>3</td>\n",
       "      <td>1</td>\n",
       "      <td>0</td>\n",
       "      <td>0</td>\n",
       "      <td>1</td>\n",
       "    </tr>\n",
       "    <tr>\n",
       "      <th>2024-05-31</th>\n",
       "      <td>2</td>\n",
       "      <td>1</td>\n",
       "      <td>0</td>\n",
       "      <td>2</td>\n",
       "      <td>0</td>\n",
       "    </tr>\n",
       "  </tbody>\n",
       "</table>\n",
       "</div>"
      ],
      "text/plain": [
       "            zeros  ones  twos  threes  fours\n",
       "DrawDate                                    \n",
       "2024-06-14      1     2     1       1      0\n",
       "2024-06-11      1     1     0       1      2\n",
       "2024-06-07      0     2     1       2      0\n",
       "2024-06-04      3     1     0       0      1\n",
       "2024-05-31      2     1     0       2      0"
      ]
     },
     "execution_count": 48,
     "metadata": {},
     "output_type": "execute_result"
    }
   ],
   "source": [
    "present_df = howManyPresent(numbers)\n",
    "present_df.head(5)"
   ]
  },
  {
   "cell_type": "code",
   "execution_count": 51,
   "metadata": {
    "executionInfo": {
     "elapsed": 88,
     "status": "ok",
     "timestamp": 1717708941249,
     "user": {
      "displayName": "Helen Barrett",
      "userId": "03986832566319395232"
     },
     "user_tz": -60
    },
    "id": "CAdGI0McXcbH"
   },
   "outputs": [],
   "source": [
    "present_df.to_csv('./Euromillions_present_out.csv', index=True)"
   ]
  },
  {
   "cell_type": "code",
   "execution_count": 52,
   "metadata": {
    "colab": {
     "base_uri": "https://localhost:8080/"
    },
    "executionInfo": {
     "elapsed": 87,
     "status": "ok",
     "timestamp": 1717708941249,
     "user": {
      "displayName": "Helen Barrett",
      "userId": "03986832566319395232"
     },
     "user_tz": -60
    },
    "id": "v3sc-KARKIv1",
    "outputId": "193fa119-16ab-4023-c523-76d2e3db5282"
   },
   "outputs": [
    {
     "name": "stdout",
     "output_type": "stream",
     "text": [
      "6\n"
     ]
    }
   ],
   "source": [
    "#weeks since the 50 was out\n",
    "def fifty(numbers):\n",
    "  count = 0\n",
    "  for x in numbers:\n",
    "    for y in x:\n",
    "      if y == 50:\n",
    "        return count\n",
    "        break\n",
    "    count += 1\n",
    "  return count\n",
    "print(fifty(numbers))"
   ]
  },
  {
   "cell_type": "code",
   "execution_count": 53,
   "metadata": {
    "colab": {
     "base_uri": "https://localhost:8080/"
    },
    "executionInfo": {
     "elapsed": 83,
     "status": "ok",
     "timestamp": 1717708941250,
     "user": {
      "displayName": "Helen Barrett",
      "userId": "03986832566319395232"
     },
     "user_tz": -60
    },
    "id": "DHcgo9jUG1N7",
    "outputId": "9179e6a4-c406-4f0b-805d-27140a14f2ea"
   },
   "outputs": [
    {
     "data": {
      "text/plain": [
       "['Ball 1',\n",
       " 'Ball 2',\n",
       " 'Ball 3',\n",
       " 'Ball 4',\n",
       " 'Ball 5',\n",
       " 'Lucky Star 1',\n",
       " 'Lucky Star 2']"
      ]
     },
     "execution_count": 53,
     "metadata": {},
     "output_type": "execute_result"
    }
   ],
   "source": [
    "list(original_df.columns.values)"
   ]
  },
  {
   "cell_type": "code",
   "execution_count": 54,
   "metadata": {
    "executionInfo": {
     "elapsed": 79,
     "status": "ok",
     "timestamp": 1717708941250,
     "user": {
      "displayName": "Helen Barrett",
      "userId": "03986832566319395232"
     },
     "user_tz": -60
    },
    "id": "yqiazRZxIMf3"
   },
   "outputs": [],
   "source": [
    "#return a dictionary which the key as the ball number and the value as the last time the ball came out, in number of draws ago\n",
    "def lastSeen(numbers, set):\n",
    "  lastSeenDict = {}\n",
    "  if set == \"main\":\n",
    "    r = 48\n",
    "  else:\n",
    "    r = 13\n",
    "  for num in range(1,r):\n",
    "    #print(num)\n",
    "    counter = 1\n",
    "    for row in numbers:\n",
    "      if num in row:\n",
    "        lastSeenDict[num]= counter\n",
    "        break\n",
    "      else:\n",
    "        counter += 1\n",
    "  return lastSeenDict\n",
    "\n",
    "lastSeenDict = lastSeen(numbers, \"main\")"
   ]
  },
  {
   "cell_type": "code",
   "execution_count": 55,
   "metadata": {
    "executionInfo": {
     "elapsed": 78,
     "status": "ok",
     "timestamp": 1717708941250,
     "user": {
      "displayName": "Helen Barrett",
      "userId": "03986832566319395232"
     },
     "user_tz": -60
    },
    "id": "iEKivLLUcGfo"
   },
   "outputs": [],
   "source": [
    "lastSeenStarDict = lastSeen(numbersStars, \"life\")"
   ]
  },
  {
   "cell_type": "code",
   "execution_count": 56,
   "metadata": {
    "colab": {
     "base_uri": "https://localhost:8080/"
    },
    "executionInfo": {
     "elapsed": 78,
     "status": "ok",
     "timestamp": 1717708941250,
     "user": {
      "displayName": "Helen Barrett",
      "userId": "03986832566319395232"
     },
     "user_tz": -60
    },
    "id": "BVbfomLqcPzx",
    "outputId": "1d9795e7-ad40-4c06-a76d-0c3fb1dd9375"
   },
   "outputs": [
    {
     "data": {
      "text/plain": [
       "{1: 12,\n",
       " 2: 16,\n",
       " 3: 12,\n",
       " 4: 14,\n",
       " 5: 12,\n",
       " 6: 11,\n",
       " 7: 14,\n",
       " 8: 13,\n",
       " 9: 14,\n",
       " 10: 22,\n",
       " 11: 16,\n",
       " 12: 16}"
      ]
     },
     "execution_count": 56,
     "metadata": {},
     "output_type": "execute_result"
    }
   ],
   "source": [
    "###################################time between life balls coming out##############################################\n",
    "\n",
    "#longest time between star ball coming out ever\n",
    "\n",
    "def timeSinceBallAppeared(ball):\n",
    "  times = 0\n",
    "  counter = 0\n",
    "  for row in numbersStars:\n",
    "    #print(row)\n",
    "    if ball not in row:\n",
    "      #print(f\"{ball} not in {row}, counter is {counter}\")\n",
    "      counter += 1\n",
    "    else:\n",
    "      #print(f\"{ball} is in {row}, counter is {counter}, resetting counter\")\n",
    "      if counter > times:\n",
    "        times = counter\n",
    "      counter = 0\n",
    "  return times\n",
    "\n",
    "def mostTimeBetween(lifeNumbers):\n",
    "  mostTimeBetweenDict = {}\n",
    "  for ball in range(1, 13):\n",
    "    #print(ball)\n",
    "    times = timeSinceBallAppeared(ball)\n",
    "    mostTimeBetweenDict[ball] = times\n",
    "\n",
    "  return mostTimeBetweenDict\n",
    "\n",
    "mostTimeBetweenDict = mostTimeBetween(numbersStars)\n",
    "mostTimeBetweenDict"
   ]
  },
  {
   "cell_type": "code",
   "execution_count": 57,
   "metadata": {
    "colab": {
     "base_uri": "https://localhost:8080/"
    },
    "executionInfo": {
     "elapsed": 74,
     "status": "ok",
     "timestamp": 1717708941251,
     "user": {
      "displayName": "Helen Barrett",
      "userId": "03986832566319395232"
     },
     "user_tz": -60
    },
    "id": "7i_gdr-RjQ4j",
    "outputId": "09c80375-71f2-42f8-d5cf-9c0dc16e5f33"
   },
   "outputs": [
    {
     "name": "stdout",
     "output_type": "stream",
     "text": [
      "sum is 172, count is 12, average is 14.333333333333334\n"
     ]
    }
   ],
   "source": [
    "#find average value of mostTimeBetweenDict\n",
    "def findAverage(dicty):\n",
    "  sum = 0\n",
    "  count = 0\n",
    "  for key in dicty:\n",
    "    value = dicty[key]\n",
    "    sum = sum + value\n",
    "    count +=1\n",
    "  mean = sum / count\n",
    "  print(f\"sum is {sum}, count is {count}, average is {mean}\")\n",
    "\n",
    "averageStarTimeBetween = findAverage(mostTimeBetweenDict)"
   ]
  },
  {
   "cell_type": "code",
   "execution_count": 58,
   "metadata": {
    "colab": {
     "base_uri": "https://localhost:8080/",
     "height": 237
    },
    "executionInfo": {
     "elapsed": 69,
     "status": "ok",
     "timestamp": 1717708941251,
     "user": {
      "displayName": "Helen Barrett",
      "userId": "03986832566319395232"
     },
     "user_tz": -60
    },
    "id": "m4YSTlpkBQey",
    "outputId": "6120f436-2230-4307-f084-77fe1ba9b3d3"
   },
   "outputs": [
    {
     "data": {
      "text/html": [
       "<div>\n",
       "<style scoped>\n",
       "    .dataframe tbody tr th:only-of-type {\n",
       "        vertical-align: middle;\n",
       "    }\n",
       "\n",
       "    .dataframe tbody tr th {\n",
       "        vertical-align: top;\n",
       "    }\n",
       "\n",
       "    .dataframe thead th {\n",
       "        text-align: right;\n",
       "    }\n",
       "</style>\n",
       "<table border=\"1\" class=\"dataframe\">\n",
       "  <thead>\n",
       "    <tr style=\"text-align: right;\">\n",
       "      <th></th>\n",
       "      <th>Ball 1</th>\n",
       "      <th>Ball 2</th>\n",
       "      <th>Ball 3</th>\n",
       "      <th>Ball 4</th>\n",
       "      <th>Ball 5</th>\n",
       "      <th>Star 1</th>\n",
       "      <th>Star 2</th>\n",
       "      <th>10Main</th>\n",
       "      <th>10Star</th>\n",
       "      <th>7Star</th>\n",
       "      <th>OddM</th>\n",
       "      <th>EvenM</th>\n",
       "      <th>OddS</th>\n",
       "      <th>EvenS</th>\n",
       "      <th>zeros</th>\n",
       "      <th>ones</th>\n",
       "      <th>twos</th>\n",
       "      <th>threes</th>\n",
       "      <th>fours</th>\n",
       "    </tr>\n",
       "    <tr>\n",
       "      <th>DrawDate</th>\n",
       "      <th></th>\n",
       "      <th></th>\n",
       "      <th></th>\n",
       "      <th></th>\n",
       "      <th></th>\n",
       "      <th></th>\n",
       "      <th></th>\n",
       "      <th></th>\n",
       "      <th></th>\n",
       "      <th></th>\n",
       "      <th></th>\n",
       "      <th></th>\n",
       "      <th></th>\n",
       "      <th></th>\n",
       "      <th></th>\n",
       "      <th></th>\n",
       "      <th></th>\n",
       "      <th></th>\n",
       "      <th></th>\n",
       "    </tr>\n",
       "  </thead>\n",
       "  <tbody>\n",
       "    <tr>\n",
       "      <th>2024-06-14</th>\n",
       "      <td>2</td>\n",
       "      <td>13</td>\n",
       "      <td>16</td>\n",
       "      <td>24</td>\n",
       "      <td>32</td>\n",
       "      <td>1</td>\n",
       "      <td>7</td>\n",
       "      <td>4</td>\n",
       "      <td>2</td>\n",
       "      <td>2</td>\n",
       "      <td>1</td>\n",
       "      <td>4</td>\n",
       "      <td>2</td>\n",
       "      <td>0</td>\n",
       "      <td>1</td>\n",
       "      <td>2</td>\n",
       "      <td>1</td>\n",
       "      <td>1</td>\n",
       "      <td>0</td>\n",
       "    </tr>\n",
       "    <tr>\n",
       "      <th>2024-06-11</th>\n",
       "      <td>7</td>\n",
       "      <td>15</td>\n",
       "      <td>34</td>\n",
       "      <td>45</td>\n",
       "      <td>48</td>\n",
       "      <td>7</td>\n",
       "      <td>9</td>\n",
       "      <td>4</td>\n",
       "      <td>2</td>\n",
       "      <td>2</td>\n",
       "      <td>3</td>\n",
       "      <td>2</td>\n",
       "      <td>2</td>\n",
       "      <td>0</td>\n",
       "      <td>1</td>\n",
       "      <td>1</td>\n",
       "      <td>0</td>\n",
       "      <td>1</td>\n",
       "      <td>2</td>\n",
       "    </tr>\n",
       "    <tr>\n",
       "      <th>2024-06-07</th>\n",
       "      <td>15</td>\n",
       "      <td>16</td>\n",
       "      <td>26</td>\n",
       "      <td>30</td>\n",
       "      <td>37</td>\n",
       "      <td>5</td>\n",
       "      <td>8</td>\n",
       "      <td>1</td>\n",
       "      <td>1</td>\n",
       "      <td>1</td>\n",
       "      <td>2</td>\n",
       "      <td>3</td>\n",
       "      <td>1</td>\n",
       "      <td>1</td>\n",
       "      <td>0</td>\n",
       "      <td>2</td>\n",
       "      <td>1</td>\n",
       "      <td>2</td>\n",
       "      <td>0</td>\n",
       "    </tr>\n",
       "    <tr>\n",
       "      <th>2024-06-04</th>\n",
       "      <td>6</td>\n",
       "      <td>7</td>\n",
       "      <td>9</td>\n",
       "      <td>14</td>\n",
       "      <td>43</td>\n",
       "      <td>3</td>\n",
       "      <td>4</td>\n",
       "      <td>4</td>\n",
       "      <td>2</td>\n",
       "      <td>1</td>\n",
       "      <td>3</td>\n",
       "      <td>2</td>\n",
       "      <td>1</td>\n",
       "      <td>1</td>\n",
       "      <td>3</td>\n",
       "      <td>1</td>\n",
       "      <td>0</td>\n",
       "      <td>0</td>\n",
       "      <td>1</td>\n",
       "    </tr>\n",
       "    <tr>\n",
       "      <th>2024-05-31</th>\n",
       "      <td>4</td>\n",
       "      <td>7</td>\n",
       "      <td>16</td>\n",
       "      <td>33</td>\n",
       "      <td>34</td>\n",
       "      <td>7</td>\n",
       "      <td>8</td>\n",
       "      <td>3</td>\n",
       "      <td>1</td>\n",
       "      <td>1</td>\n",
       "      <td>2</td>\n",
       "      <td>3</td>\n",
       "      <td>1</td>\n",
       "      <td>1</td>\n",
       "      <td>2</td>\n",
       "      <td>1</td>\n",
       "      <td>0</td>\n",
       "      <td>2</td>\n",
       "      <td>0</td>\n",
       "    </tr>\n",
       "  </tbody>\n",
       "</table>\n",
       "</div>"
      ],
      "text/plain": [
       "            Ball 1  Ball 2  Ball 3  Ball 4  Ball 5  Star 1  Star 2  10Main  \\\n",
       "DrawDate                                                                     \n",
       "2024-06-14       2      13      16      24      32       1       7       4   \n",
       "2024-06-11       7      15      34      45      48       7       9       4   \n",
       "2024-06-07      15      16      26      30      37       5       8       1   \n",
       "2024-06-04       6       7       9      14      43       3       4       4   \n",
       "2024-05-31       4       7      16      33      34       7       8       3   \n",
       "\n",
       "            10Star  7Star  OddM  EvenM  OddS  EvenS  zeros  ones  twos  \\\n",
       "DrawDate                                                                 \n",
       "2024-06-14       2      2     1      4     2      0      1     2     1   \n",
       "2024-06-11       2      2     3      2     2      0      1     1     0   \n",
       "2024-06-07       1      1     2      3     1      1      0     2     1   \n",
       "2024-06-04       2      1     3      2     1      1      3     1     0   \n",
       "2024-05-31       1      1     2      3     1      1      2     1     0   \n",
       "\n",
       "            threes  fours  \n",
       "DrawDate                   \n",
       "2024-06-14       1      0  \n",
       "2024-06-11       1      2  \n",
       "2024-06-07       2      0  \n",
       "2024-06-04       0      1  \n",
       "2024-05-31       2      0  "
      ]
     },
     "execution_count": 58,
     "metadata": {},
     "output_type": "execute_result"
    }
   ],
   "source": [
    "##################################################make the dataframe############################################\n",
    "all_df = main_df.join(present_df)\n",
    "all_df.head(5)"
   ]
  },
  {
   "cell_type": "code",
   "execution_count": 61,
   "metadata": {
    "executionInfo": {
     "elapsed": 67,
     "status": "ok",
     "timestamp": 1717708941251,
     "user": {
      "displayName": "Helen Barrett",
      "userId": "03986832566319395232"
     },
     "user_tz": -60
    },
    "id": "K_HJoeSRBQht"
   },
   "outputs": [],
   "source": [
    "all_df.to_csv('./Euromillions_all.csv', index=True)"
   ]
  },
  {
   "cell_type": "code",
   "execution_count": 62,
   "metadata": {
    "executionInfo": {
     "elapsed": 68,
     "status": "ok",
     "timestamp": 1717708941252,
     "user": {
      "displayName": "Helen Barrett",
      "userId": "03986832566319395232"
     },
     "user_tz": -60
    },
    "id": "bRXD4JIIiM1Z"
   },
   "outputs": [],
   "source": [
    "###########################Charts############################################"
   ]
  },
  {
   "cell_type": "code",
   "execution_count": 63,
   "metadata": {
    "executionInfo": {
     "elapsed": 67,
     "status": "ok",
     "timestamp": 1717708941252,
     "user": {
      "displayName": "Helen Barrett",
      "userId": "03986832566319395232"
     },
     "user_tz": -60
    },
    "id": "M3wjtdgYiM5x"
   },
   "outputs": [],
   "source": [
    "import matplotlib.pyplot as plt"
   ]
  },
  {
   "cell_type": "code",
   "execution_count": 64,
   "metadata": {
    "executionInfo": {
     "elapsed": 67,
     "status": "ok",
     "timestamp": 1717708941252,
     "user": {
      "displayName": "Helen Barrett",
      "userId": "03986832566319395232"
     },
     "user_tz": -60
    },
    "id": "0EOeX7O4iM-B"
   },
   "outputs": [],
   "source": [
    "def plot_dictionary_bar(dictionary, x, title):\n",
    "  keys = dictionary.keys()\n",
    "  values = dictionary.values()\n",
    "  plt.bar(keys, values)\n",
    "  plt.xlabel(x)\n",
    "  plt.ylabel('Occurrence')\n",
    "  plt.title(title)\n",
    "\n",
    "  plt.show()"
   ]
  },
  {
   "cell_type": "code",
   "execution_count": 65,
   "metadata": {
    "executionInfo": {
     "elapsed": 622,
     "status": "ok",
     "timestamp": 1717708941807,
     "user": {
      "displayName": "Helen Barrett",
      "userId": "03986832566319395232"
     },
     "user_tz": -60
    },
    "id": "3dHWLm6AimIU"
   },
   "outputs": [],
   "source": [
    "def plot_dictionary_bar_y(dictionary, x, y, title):\n",
    "  keys = dictionary.keys()\n",
    "  values = dictionary.values()\n",
    "  plt.bar(keys, values)\n",
    "  plt.xlabel(x)\n",
    "  plt.ylabel(y)\n",
    "  plt.title(title)\n",
    "  plt.show()"
   ]
  },
  {
   "cell_type": "code",
   "execution_count": 66,
   "metadata": {
    "colab": {
     "base_uri": "https://localhost:8080/"
    },
    "executionInfo": {
     "elapsed": 70,
     "status": "ok",
     "timestamp": 1717708941808,
     "user": {
      "displayName": "Helen Barrett",
      "userId": "03986832566319395232"
     },
     "user_tz": -60
    },
    "id": "N89t_Siqj1pw",
    "outputId": "c80588f6-d72c-49a7-dc01-8b350911cb71"
   },
   "outputs": [
    {
     "data": {
      "text/plain": [
       "Counter({4: 19, 1: 6, 3: 20, 2: 11, 5: 3, 0: 2})"
      ]
     },
     "execution_count": 66,
     "metadata": {},
     "output_type": "execute_result"
    }
   ],
   "source": [
    "counterLastTen = collections.Counter(comparedTen)\n",
    "counterLastTen"
   ]
  },
  {
   "cell_type": "code",
   "execution_count": null,
   "metadata": {
    "executionInfo": {
     "elapsed": 57,
     "status": "ok",
     "timestamp": 1717708941808,
     "user": {
      "displayName": "Helen Barrett",
      "userId": "03986832566319395232"
     },
     "user_tz": -60
    },
    "id": "Ut_jWRL9lcG5"
   },
   "outputs": [],
   "source": []
  },
  {
   "cell_type": "code",
   "execution_count": 67,
   "metadata": {
    "colab": {
     "base_uri": "https://localhost:8080/",
     "height": 472
    },
    "executionInfo": {
     "elapsed": 56,
     "status": "ok",
     "timestamp": 1717708941808,
     "user": {
      "displayName": "Helen Barrett",
      "userId": "03986832566319395232"
     },
     "user_tz": -60
    },
    "id": "LFfeLYfziNBc",
    "outputId": "57ce4eda-94a5-4d82-fc69-fe8a3bbe6e18"
   },
   "outputs": [
    {
     "data": {
      "image/png": "[encoded data removed]",
      "text/plain": [
       "<Figure size 640x480 with 1 Axes>"
      ]
     },
     "metadata": {},
     "output_type": "display_data"
    }
   ],
   "source": [
    "plot_dictionary_bar(counterStars, \"Star Ball\", \"Star Ball Chart\")"
   ]
  },
  {
   "cell_type": "code",
   "execution_count": 68,
   "metadata": {
    "colab": {
     "base_uri": "https://localhost:8080/",
     "height": 1000
    },
    "executionInfo": {
     "elapsed": 54,
     "status": "ok",
     "timestamp": 1717708941808,
     "user": {
      "displayName": "Helen Barrett",
      "userId": "03986832566319395232"
     },
     "user_tz": -60
    },
    "id": "1dLswQycBQkr",
    "outputId": "2946e609-8158-4445-b072-e6244b004f2c"
   },
   "outputs": [
    {
     "data": {
      "text/html": [
       "<div>\n",
       "<style scoped>\n",
       "    .dataframe tbody tr th:only-of-type {\n",
       "        vertical-align: middle;\n",
       "    }\n",
       "\n",
       "    .dataframe tbody tr th {\n",
       "        vertical-align: top;\n",
       "    }\n",
       "\n",
       "    .dataframe thead th {\n",
       "        text-align: right;\n",
       "    }\n",
       "</style>\n",
       "<table border=\"1\" class=\"dataframe\">\n",
       "  <thead>\n",
       "    <tr style=\"text-align: right;\">\n",
       "      <th></th>\n",
       "      <th>Ball 1</th>\n",
       "      <th>Ball 2</th>\n",
       "      <th>Ball 3</th>\n",
       "      <th>Ball 4</th>\n",
       "      <th>Ball 5</th>\n",
       "      <th>Star 1</th>\n",
       "      <th>Star 2</th>\n",
       "      <th>10Main</th>\n",
       "      <th>10Star</th>\n",
       "      <th>7Star</th>\n",
       "      <th>OddM</th>\n",
       "      <th>EvenM</th>\n",
       "      <th>OddS</th>\n",
       "      <th>EvenS</th>\n",
       "      <th>zeros</th>\n",
       "      <th>ones</th>\n",
       "      <th>twos</th>\n",
       "      <th>threes</th>\n",
       "      <th>fours</th>\n",
       "    </tr>\n",
       "    <tr>\n",
       "      <th>DrawDate</th>\n",
       "      <th></th>\n",
       "      <th></th>\n",
       "      <th></th>\n",
       "      <th></th>\n",
       "      <th></th>\n",
       "      <th></th>\n",
       "      <th></th>\n",
       "      <th></th>\n",
       "      <th></th>\n",
       "      <th></th>\n",
       "      <th></th>\n",
       "      <th></th>\n",
       "      <th></th>\n",
       "      <th></th>\n",
       "      <th></th>\n",
       "      <th></th>\n",
       "      <th></th>\n",
       "      <th></th>\n",
       "      <th></th>\n",
       "    </tr>\n",
       "  </thead>\n",
       "  <tbody>\n",
       "    <tr>\n",
       "      <th>2024-06-14</th>\n",
       "      <td>2</td>\n",
       "      <td>13</td>\n",
       "      <td>16</td>\n",
       "      <td>24</td>\n",
       "      <td>32</td>\n",
       "      <td>1</td>\n",
       "      <td>7</td>\n",
       "      <td>4</td>\n",
       "      <td>2</td>\n",
       "      <td>2</td>\n",
       "      <td>1</td>\n",
       "      <td>4</td>\n",
       "      <td>2</td>\n",
       "      <td>0</td>\n",
       "      <td>1</td>\n",
       "      <td>2</td>\n",
       "      <td>1</td>\n",
       "      <td>1</td>\n",
       "      <td>0</td>\n",
       "    </tr>\n",
       "    <tr>\n",
       "      <th>2024-06-11</th>\n",
       "      <td>7</td>\n",
       "      <td>15</td>\n",
       "      <td>34</td>\n",
       "      <td>45</td>\n",
       "      <td>48</td>\n",
       "      <td>7</td>\n",
       "      <td>9</td>\n",
       "      <td>4</td>\n",
       "      <td>2</td>\n",
       "      <td>2</td>\n",
       "      <td>3</td>\n",
       "      <td>2</td>\n",
       "      <td>2</td>\n",
       "      <td>0</td>\n",
       "      <td>1</td>\n",
       "      <td>1</td>\n",
       "      <td>0</td>\n",
       "      <td>1</td>\n",
       "      <td>2</td>\n",
       "    </tr>\n",
       "    <tr>\n",
       "      <th>2024-06-07</th>\n",
       "      <td>15</td>\n",
       "      <td>16</td>\n",
       "      <td>26</td>\n",
       "      <td>30</td>\n",
       "      <td>37</td>\n",
       "      <td>5</td>\n",
       "      <td>8</td>\n",
       "      <td>1</td>\n",
       "      <td>1</td>\n",
       "      <td>1</td>\n",
       "      <td>2</td>\n",
       "      <td>3</td>\n",
       "      <td>1</td>\n",
       "      <td>1</td>\n",
       "      <td>0</td>\n",
       "      <td>2</td>\n",
       "      <td>1</td>\n",
       "      <td>2</td>\n",
       "      <td>0</td>\n",
       "    </tr>\n",
       "    <tr>\n",
       "      <th>2024-06-04</th>\n",
       "      <td>6</td>\n",
       "      <td>7</td>\n",
       "      <td>9</td>\n",
       "      <td>14</td>\n",
       "      <td>43</td>\n",
       "      <td>3</td>\n",
       "      <td>4</td>\n",
       "      <td>4</td>\n",
       "      <td>2</td>\n",
       "      <td>1</td>\n",
       "      <td>3</td>\n",
       "      <td>2</td>\n",
       "      <td>1</td>\n",
       "      <td>1</td>\n",
       "      <td>3</td>\n",
       "      <td>1</td>\n",
       "      <td>0</td>\n",
       "      <td>0</td>\n",
       "      <td>1</td>\n",
       "    </tr>\n",
       "    <tr>\n",
       "      <th>2024-05-31</th>\n",
       "      <td>4</td>\n",
       "      <td>7</td>\n",
       "      <td>16</td>\n",
       "      <td>33</td>\n",
       "      <td>34</td>\n",
       "      <td>7</td>\n",
       "      <td>8</td>\n",
       "      <td>3</td>\n",
       "      <td>1</td>\n",
       "      <td>1</td>\n",
       "      <td>2</td>\n",
       "      <td>3</td>\n",
       "      <td>1</td>\n",
       "      <td>1</td>\n",
       "      <td>2</td>\n",
       "      <td>1</td>\n",
       "      <td>0</td>\n",
       "      <td>2</td>\n",
       "      <td>0</td>\n",
       "    </tr>\n",
       "    <tr>\n",
       "      <th>...</th>\n",
       "      <td>...</td>\n",
       "      <td>...</td>\n",
       "      <td>...</td>\n",
       "      <td>...</td>\n",
       "      <td>...</td>\n",
       "      <td>...</td>\n",
       "      <td>...</td>\n",
       "      <td>...</td>\n",
       "      <td>...</td>\n",
       "      <td>...</td>\n",
       "      <td>...</td>\n",
       "      <td>...</td>\n",
       "      <td>...</td>\n",
       "      <td>...</td>\n",
       "      <td>...</td>\n",
       "      <td>...</td>\n",
       "      <td>...</td>\n",
       "      <td>...</td>\n",
       "      <td>...</td>\n",
       "    </tr>\n",
       "    <tr>\n",
       "      <th>2023-12-01</th>\n",
       "      <td>4</td>\n",
       "      <td>10</td>\n",
       "      <td>14</td>\n",
       "      <td>38</td>\n",
       "      <td>50</td>\n",
       "      <td>9</td>\n",
       "      <td>12</td>\n",
       "      <td>1</td>\n",
       "      <td>0</td>\n",
       "      <td>0</td>\n",
       "      <td>0</td>\n",
       "      <td>5</td>\n",
       "      <td>1</td>\n",
       "      <td>1</td>\n",
       "      <td>1</td>\n",
       "      <td>2</td>\n",
       "      <td>0</td>\n",
       "      <td>1</td>\n",
       "      <td>0</td>\n",
       "    </tr>\n",
       "    <tr>\n",
       "      <th>2023-11-28</th>\n",
       "      <td>12</td>\n",
       "      <td>16</td>\n",
       "      <td>27</td>\n",
       "      <td>33</td>\n",
       "      <td>44</td>\n",
       "      <td>7</td>\n",
       "      <td>8</td>\n",
       "      <td>0</td>\n",
       "      <td>1</td>\n",
       "      <td>1</td>\n",
       "      <td>2</td>\n",
       "      <td>3</td>\n",
       "      <td>1</td>\n",
       "      <td>1</td>\n",
       "      <td>0</td>\n",
       "      <td>2</td>\n",
       "      <td>1</td>\n",
       "      <td>1</td>\n",
       "      <td>1</td>\n",
       "    </tr>\n",
       "    <tr>\n",
       "      <th>2023-11-24</th>\n",
       "      <td>15</td>\n",
       "      <td>20</td>\n",
       "      <td>29</td>\n",
       "      <td>39</td>\n",
       "      <td>48</td>\n",
       "      <td>1</td>\n",
       "      <td>7</td>\n",
       "      <td>1</td>\n",
       "      <td>1</td>\n",
       "      <td>1</td>\n",
       "      <td>3</td>\n",
       "      <td>2</td>\n",
       "      <td>2</td>\n",
       "      <td>0</td>\n",
       "      <td>0</td>\n",
       "      <td>1</td>\n",
       "      <td>2</td>\n",
       "      <td>1</td>\n",
       "      <td>1</td>\n",
       "    </tr>\n",
       "    <tr>\n",
       "      <th>2023-11-21</th>\n",
       "      <td>19</td>\n",
       "      <td>29</td>\n",
       "      <td>34</td>\n",
       "      <td>46</td>\n",
       "      <td>47</td>\n",
       "      <td>2</td>\n",
       "      <td>3</td>\n",
       "      <td>1</td>\n",
       "      <td>1</td>\n",
       "      <td>1</td>\n",
       "      <td>3</td>\n",
       "      <td>2</td>\n",
       "      <td>1</td>\n",
       "      <td>1</td>\n",
       "      <td>0</td>\n",
       "      <td>1</td>\n",
       "      <td>1</td>\n",
       "      <td>1</td>\n",
       "      <td>2</td>\n",
       "    </tr>\n",
       "    <tr>\n",
       "      <th>2023-11-17</th>\n",
       "      <td>2</td>\n",
       "      <td>24</td>\n",
       "      <td>26</td>\n",
       "      <td>46</td>\n",
       "      <td>50</td>\n",
       "      <td>2</td>\n",
       "      <td>7</td>\n",
       "      <td>0</td>\n",
       "      <td>0</td>\n",
       "      <td>0</td>\n",
       "      <td>0</td>\n",
       "      <td>5</td>\n",
       "      <td>1</td>\n",
       "      <td>1</td>\n",
       "      <td>1</td>\n",
       "      <td>0</td>\n",
       "      <td>2</td>\n",
       "      <td>0</td>\n",
       "      <td>1</td>\n",
       "    </tr>\n",
       "  </tbody>\n",
       "</table>\n",
       "<p>61 rows × 19 columns</p>\n",
       "</div>"
      ],
      "text/plain": [
       "            Ball 1  Ball 2  Ball 3  Ball 4  Ball 5  Star 1  Star 2  10Main  \\\n",
       "DrawDate                                                                     \n",
       "2024-06-14       2      13      16      24      32       1       7       4   \n",
       "2024-06-11       7      15      34      45      48       7       9       4   \n",
       "2024-06-07      15      16      26      30      37       5       8       1   \n",
       "2024-06-04       6       7       9      14      43       3       4       4   \n",
       "2024-05-31       4       7      16      33      34       7       8       3   \n",
       "...            ...     ...     ...     ...     ...     ...     ...     ...   \n",
       "2023-12-01       4      10      14      38      50       9      12       1   \n",
       "2023-11-28      12      16      27      33      44       7       8       0   \n",
       "2023-11-24      15      20      29      39      48       1       7       1   \n",
       "2023-11-21      19      29      34      46      47       2       3       1   \n",
       "2023-11-17       2      24      26      46      50       2       7       0   \n",
       "\n",
       "            10Star  7Star  OddM  EvenM  OddS  EvenS  zeros  ones  twos  \\\n",
       "DrawDate                                                                 \n",
       "2024-06-14       2      2     1      4     2      0      1     2     1   \n",
       "2024-06-11       2      2     3      2     2      0      1     1     0   \n",
       "2024-06-07       1      1     2      3     1      1      0     2     1   \n",
       "2024-06-04       2      1     3      2     1      1      3     1     0   \n",
       "2024-05-31       1      1     2      3     1      1      2     1     0   \n",
       "...            ...    ...   ...    ...   ...    ...    ...   ...   ...   \n",
       "2023-12-01       0      0     0      5     1      1      1     2     0   \n",
       "2023-11-28       1      1     2      3     1      1      0     2     1   \n",
       "2023-11-24       1      1     3      2     2      0      0     1     2   \n",
       "2023-11-21       1      1     3      2     1      1      0     1     1   \n",
       "2023-11-17       0      0     0      5     1      1      1     0     2   \n",
       "\n",
       "            threes  fours  \n",
       "DrawDate                   \n",
       "2024-06-14       1      0  \n",
       "2024-06-11       1      2  \n",
       "2024-06-07       2      0  \n",
       "2024-06-04       0      1  \n",
       "2024-05-31       2      0  \n",
       "...            ...    ...  \n",
       "2023-12-01       1      0  \n",
       "2023-11-28       1      1  \n",
       "2023-11-24       1      1  \n",
       "2023-11-21       1      2  \n",
       "2023-11-17       0      1  \n",
       "\n",
       "[61 rows x 19 columns]"
      ]
     },
     "execution_count": 68,
     "metadata": {},
     "output_type": "execute_result"
    }
   ],
   "source": [
    "all_df"
   ]
  },
  {
   "cell_type": "code",
   "execution_count": 69,
   "metadata": {
    "colab": {
     "base_uri": "https://localhost:8080/"
    },
    "executionInfo": {
     "elapsed": 51,
     "status": "ok",
     "timestamp": 1717708941809,
     "user": {
      "displayName": "Helen Barrett",
      "userId": "03986832566319395232"
     },
     "user_tz": -60
    },
    "id": "_0but26tfWOf",
    "outputId": "b09f14a0-4b21-4eed-b07b-d5a4109c31ff"
   },
   "outputs": [
    {
     "data": {
      "text/plain": [
       "{1: [4, 6, 8, 11, 12, 17, 22, 24, 26, 28, 30, 31, 33, 36, 37, 43, 45, 46, 50],\n",
       " 2: [2, 9, 13, 14, 15, 32, 35, 41, 48],\n",
       " 3: [7, 18, 34],\n",
       " 4: [16]}"
      ]
     },
     "execution_count": 69,
     "metadata": {},
     "output_type": "execute_result"
    }
   ],
   "source": [
    "viewDictLastTen"
   ]
  },
  {
   "cell_type": "code",
   "execution_count": 70,
   "metadata": {
    "colab": {
     "base_uri": "https://localhost:8080/"
    },
    "executionInfo": {
     "elapsed": 43,
     "status": "ok",
     "timestamp": 1717708941809,
     "user": {
      "displayName": "Helen Barrett",
      "userId": "03986832566319395232"
     },
     "user_tz": -60
    },
    "id": "xk4GnmG6Z6ve",
    "outputId": "3a2ed261-81a4-4341-acc9-d3ce7f930f44"
   },
   "outputs": [
    {
     "data": {
      "text/plain": [
       "{1: [5, 25],\n",
       " 2: [1, 21],\n",
       " 3: [3, 22, 38, 43],\n",
       " 4: [11, 33, 40, 47],\n",
       " 5: [15, 29, 31, 41, 42],\n",
       " 6: [6, 8, 9, 10, 12, 17, 26, 28, 32, 36],\n",
       " 7: [4, 14, 19, 24, 27, 30, 34, 35, 37, 39, 44, 49, 50],\n",
       " 8: [7, 23, 45],\n",
       " 9: [46],\n",
       " 10: [16, 18, 20, 48],\n",
       " 11: [2, 13]}"
      ]
     },
     "execution_count": 70,
     "metadata": {},
     "output_type": "execute_result"
    }
   ],
   "source": [
    "viewDictAll"
   ]
  },
  {
   "cell_type": "code",
   "execution_count": 71,
   "metadata": {
    "colab": {
     "base_uri": "https://localhost:8080/"
    },
    "executionInfo": {
     "elapsed": 36,
     "status": "ok",
     "timestamp": 1717708941809,
     "user": {
      "displayName": "Helen Barrett",
      "userId": "03986832566319395232"
     },
     "user_tz": -60
    },
    "id": "G3ZmrYaufVoi",
    "outputId": "7ee89cff-5efd-46d6-e47b-76d22827d9a1"
   },
   "outputs": [
    {
     "data": {
      "text/plain": [
       "{1: [4, 5, 6, 10], 2: [3, 8], 3: [1, 9], 4: [0], 5: [0], 6: [7]}"
      ]
     },
     "execution_count": 71,
     "metadata": {},
     "output_type": "execute_result"
    }
   ],
   "source": [
    "viewDictStarLastTen"
   ]
  },
  {
   "cell_type": "code",
   "execution_count": 72,
   "metadata": {
    "colab": {
     "base_uri": "https://localhost:8080/"
    },
    "executionInfo": {
     "elapsed": 31,
     "status": "ok",
     "timestamp": 1717708941810,
     "user": {
      "displayName": "Helen Barrett",
      "userId": "03986832566319395232"
     },
     "user_tz": -60
    },
    "id": "WPohR0JtZ8ou",
    "outputId": "67bc0a3c-45e8-4974-85fe-c8a7b168c806"
   },
   "outputs": [
    {
     "data": {
      "text/plain": [
       "{1: [0],\n",
       " 2: [0],\n",
       " 3: [0],\n",
       " 4: [11],\n",
       " 5: [0],\n",
       " 6: [6],\n",
       " 7: [10],\n",
       " 8: [2],\n",
       " 9: [0],\n",
       " 10: [8],\n",
       " 11: [1, 4, 5],\n",
       " 12: [3],\n",
       " 13: [7],\n",
       " 14: [12],\n",
       " 15: [9]}"
      ]
     },
     "execution_count": 72,
     "metadata": {},
     "output_type": "execute_result"
    }
   ],
   "source": [
    "starsDictAll"
   ]
  },
  {
   "cell_type": "code",
   "execution_count": 73,
   "metadata": {
    "colab": {
     "base_uri": "https://localhost:8080/",
     "height": 472
    },
    "executionInfo": {
     "elapsed": 26,
     "status": "ok",
     "timestamp": 1717708941810,
     "user": {
      "displayName": "Helen Barrett",
      "userId": "03986832566319395232"
     },
     "user_tz": -60
    },
    "id": "WT8CSs3qj10a",
    "outputId": "a8da225c-bf41-40f4-a994-d0077d8fc9f7"
   },
   "outputs": [
    {
     "data": {
      "image/png": "[encoded data removed]",
      "text/plain": [
       "<Figure size 640x480 with 1 Axes>"
      ]
     },
     "metadata": {},
     "output_type": "display_data"
    }
   ],
   "source": [
    "plot_dictionary_bar(counterLastTen, \"Number of Balls\", \" Occurrences of main balls in last 10 weeks\")"
   ]
  },
  {
   "cell_type": "code",
   "execution_count": 74,
   "metadata": {
    "colab": {
     "base_uri": "https://localhost:8080/",
     "height": 472
    },
    "executionInfo": {
     "elapsed": 784,
     "status": "ok",
     "timestamp": 1717710905032,
     "user": {
      "displayName": "Helen Barrett",
      "userId": "03986832566319395232"
     },
     "user_tz": -60
    },
    "id": "MNgp3ffNom4H",
    "outputId": "60ab7c2e-7f67-4f1d-cddf-ed5e47ee13d2"
   },
   "outputs": [
    {
     "data": {
      "image/png": "[encoded data removed]",
      "text/plain": [
       "<Figure size 640x480 with 1 Axes>"
      ]
     },
     "metadata": {},
     "output_type": "display_data"
    }
   ],
   "source": [
    "# evenTenCounter\n",
    "# evenCounter\n",
    "# evenStarTenCounter\n",
    "# evenTenCounter\n",
    "plot_dictionary_bar_y(evenCounter, \"Number of Balls that were even\", \"Number of times\", \"Occurence of even main balls\")"
   ]
  },
  {
   "cell_type": "code",
   "execution_count": 75,
   "metadata": {
    "colab": {
     "base_uri": "https://localhost:8080/",
     "height": 472
    },
    "executionInfo": {
     "elapsed": 52,
     "status": "ok",
     "timestamp": 1717708942276,
     "user": {
      "displayName": "Helen Barrett",
      "userId": "03986832566319395232"
     },
     "user_tz": -60
    },
    "id": "eJJ2P5fMr-fl",
    "outputId": "655b5749-a539-450a-c2a7-9d1b037526b2"
   },
   "outputs": [
    {
     "data": {
      "image/png": "[encoded data removed]",
      "text/plain": [
       "<Figure size 640x480 with 1 Axes>"
      ]
     },
     "metadata": {},
     "output_type": "display_data"
    }
   ],
   "source": [
    "#plot_dictionary_bar(oddCounter, \"Number of Balls that were odd\", \"Occurence of odd balls\")\n",
    "plot_dictionary_bar(evenStarCounter, \"Number of Balls that were even\", \"Occurence of even star balls\")\n"
   ]
  },
  {
   "cell_type": "code",
   "execution_count": 76,
   "metadata": {
    "colab": {
     "base_uri": "https://localhost:8080/",
     "height": 472
    },
    "executionInfo": {
     "elapsed": 52,
     "status": "ok",
     "timestamp": 1717708942278,
     "user": {
      "displayName": "Helen Barrett",
      "userId": "03986832566319395232"
     },
     "user_tz": -60
    },
    "id": "GmrVpLyVBrtb",
    "outputId": "6cebaa31-7c03-442d-9fc8-7cab76e451a0"
   },
   "outputs": [
    {
     "data": {
      "image/png": "[encoded data removed]",
      "text/plain": [
       "<Figure size 640x480 with 1 Axes>"
      ]
     },
     "metadata": {},
     "output_type": "display_data"
    }
   ],
   "source": [
    "plot_dictionary_bar(lastSeenDict, \"Ball\", \"Number of draws since ball last seen\")"
   ]
  },
  {
   "cell_type": "code",
   "execution_count": 77,
   "metadata": {
    "colab": {
     "base_uri": "https://localhost:8080/",
     "height": 472
    },
    "executionInfo": {
     "elapsed": 546,
     "status": "ok",
     "timestamp": 1717708942775,
     "user": {
      "displayName": "Helen Barrett",
      "userId": "03986832566319395232"
     },
     "user_tz": -60
    },
    "id": "GJxbKTu-cWy4",
    "outputId": "de921cd6-b396-4489-dbcc-757c428c93de"
   },
   "outputs": [
    {
     "data": {
      "image/png": "[encoded data removed]",
      "text/plain": [
       "<Figure size 640x480 with 1 Axes>"
      ]
     },
     "metadata": {},
     "output_type": "display_data"
    }
   ],
   "source": [
    "plot_dictionary_bar_y(lastSeenStarDict, \"Ball\", \"No. Draws\", \"Number of draws since star ball last seen\")"
   ]
  },
  {
   "cell_type": "code",
   "execution_count": 78,
   "metadata": {
    "colab": {
     "base_uri": "https://localhost:8080/",
     "height": 472
    },
    "executionInfo": {
     "elapsed": 28,
     "status": "ok",
     "timestamp": 1717708942775,
     "user": {
      "displayName": "Helen Barrett",
      "userId": "03986832566319395232"
     },
     "user_tz": -60
    },
    "id": "PQOdcqQwVAOu",
    "outputId": "6711690e-37d5-4fe4-da93-0e3c23d6105b"
   },
   "outputs": [
    {
     "data": {
      "image/png": "[encoded data removed]",
      "text/plain": [
       "<Figure size 640x480 with 1 Axes>"
      ]
     },
     "metadata": {},
     "output_type": "display_data"
    }
   ],
   "source": [
    "plot_dictionary_bar_y(mostTimeBetweenDict, \"Ball\", \"No. Draws\", \"Maximum draws between star being drawn\")"
   ]
  },
  {
   "cell_type": "code",
   "execution_count": 79,
   "metadata": {
    "colab": {
     "base_uri": "https://localhost:8080/"
    },
    "executionInfo": {
     "elapsed": 351,
     "status": "ok",
     "timestamp": 1717711716048,
     "user": {
      "displayName": "Helen Barrett",
      "userId": "03986832566319395232"
     },
     "user_tz": -60
    },
    "id": "87mdvoxzi1KG",
    "outputId": "670f2d6b-451c-4774-d9ee-325ba105599b"
   },
   "outputs": [
    {
     "data": {
      "text/plain": [
       "[[2, 13, 16, 24, 32],\n",
       " [7, 15, 34, 45, 48],\n",
       " [15, 16, 26, 30, 37],\n",
       " [6, 7, 9, 14, 43],\n",
       " [4, 7, 16, 33, 34],\n",
       " [16, 18, 35, 36, 41],\n",
       " [9, 12, 18, 22, 50],\n",
       " [11, 13, 14, 34, 48],\n",
       " [18, 31, 32, 41, 46],\n",
       " [2, 8, 17, 28, 35],\n",
       " [13, 28, 29, 44, 48],\n",
       " [35, 36, 41, 42, 45],\n",
       " [6, 9, 10, 30, 49],\n",
       " [13, 22, 24, 33, 47],\n",
       " [2, 20, 39, 40, 47],\n",
       " [6, 9, 11, 32, 49],\n",
       " [10, 20, 40, 44, 46],\n",
       " [22, 29, 31, 39, 46],\n",
       " [2, 3, 12, 16, 45],\n",
       " [19, 23, 26, 27, 46],\n",
       " [13, 18, 26, 35, 37],\n",
       " [1, 23, 31, 36, 48],\n",
       " [16, 17, 35, 36, 49],\n",
       " [2, 13, 14, 26, 29],\n",
       " [8, 11, 23, 32, 44],\n",
       " [7, 16, 18, 20, 32],\n",
       " [1, 4, 31, 34, 40],\n",
       " [13, 19, 30, 38, 46],\n",
       " [8, 11, 12, 16, 44],\n",
       " [2, 15, 17, 23, 36],\n",
       " [4, 7, 19, 20, 34],\n",
       " [3, 4, 9, 12, 20],\n",
       " [24, 27, 28, 30, 49],\n",
       " [23, 31, 37, 42, 48],\n",
       " [8, 13, 14, 24, 26],\n",
       " [13, 17, 18, 20, 46],\n",
       " [23, 24, 35, 37, 45],\n",
       " [2, 7, 21, 28, 45],\n",
       " [13, 20, 23, 27, 42],\n",
       " [5, 10, 19, 27, 30],\n",
       " [8, 19, 32, 41, 42],\n",
       " [14, 23, 39, 48, 50],\n",
       " [27, 28, 44, 48, 50],\n",
       " [10, 18, 21, 33, 45],\n",
       " [16, 17, 18, 45, 49],\n",
       " [2, 9, 12, 39, 40],\n",
       " [4, 7, 18, 39, 50],\n",
       " [7, 15, 18, 46, 49],\n",
       " [2, 3, 19, 36, 37],\n",
       " [8, 27, 30, 35, 47],\n",
       " [6, 14, 34, 44, 49],\n",
       " [10, 20, 41, 43, 45],\n",
       " [2, 13, 37, 38, 48],\n",
       " [6, 28, 37, 39, 43],\n",
       " [17, 30, 42, 48, 50],\n",
       " [4, 6, 20, 24, 25],\n",
       " [4, 10, 14, 38, 50],\n",
       " [12, 16, 27, 33, 44],\n",
       " [15, 20, 29, 39, 48],\n",
       " [19, 29, 34, 46, 47],\n",
       " [2, 24, 26, 46, 50]]"
      ]
     },
     "execution_count": 79,
     "metadata": {},
     "output_type": "execute_result"
    }
   ],
   "source": [
    "numbers"
   ]
  }
 ],
 "metadata": {
  "colab": {
   "authorship_tag": "ABX9TyMpTAhtFOo1bD2jRvXZX7qv",
   "provenance": []
  },
  "kernelspec": {
   "display_name": "Python 3 (ipykernel)",
   "language": "python",
   "name": "python3"
  },
  "language_info": {
   "codemirror_mode": {
    "name": "ipython",
    "version": 3
   },
   "file_extension": ".py",
   "mimetype": "text/x-python",
   "name": "python",
   "nbconvert_exporter": "python",
   "pygments_lexer": "ipython3",
   "version": "3.10.12"
  }
 },
 "nbformat": 4,
 "nbformat_minor": 1
}
