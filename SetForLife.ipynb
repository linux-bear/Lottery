{
  "nbformat": 4,
  "nbformat_minor": 0,
  "metadata": {
    "colab": {
      "provenance": []
    },
    "kernelspec": {
      "name": "python3",
      "display_name": "Python 3"
    },
    "language_info": {
      "name": "python"
    }
  },
  "cells": [
    {
      "cell_type": "code",
      "execution_count": null,
      "metadata": {
        "id": "JGkjvhJH57Cb"
      },
      "outputs": [],
      "source": [
        "import pandas as pd\n"
      ]
    },
    {
      "cell_type": "code",
      "source": [
        "ls drive/MyDrive/Colab\\ Notebooks"
      ],
      "metadata": {
        "colab": {
          "base_uri": "https://localhost:8080/"
        },
        "id": "GwUi8nNnUWFO",
        "outputId": "58405006-aacc-45fe-ff67-ac98c1a8a59f"
      },
      "execution_count": null,
      "outputs": [
        {
          "output_type": "stream",
          "name": "stdout",
          "text": [
            " BOS_November06_2022.csv            \u001b[0m\u001b[01;34mPythonCourse24\u001b[0m/\n",
            "'Copy of Welcome To Colaboratory'   setForLife.csv\n",
            " Finances22.ipynb                   set-for-life-draw-history-4Mar24.csv\n",
            "'finances Nov 22.gsheet'            SetForLife.ipynb\n",
            " NewburyFloodDataFlowOnly.csv       SFL_AI.ipynb\n",
            " NewburyFloodData.ipynb\n"
          ]
        }
      ]
    },
    {
      "cell_type": "code",
      "source": [
        "ls"
      ],
      "metadata": {
        "colab": {
          "base_uri": "https://localhost:8080/"
        },
        "id": "vKSzNxtJWZVi",
        "outputId": "f3cc5de8-a1ae-4400-eb90-ccb304a96583"
      },
      "execution_count": null,
      "outputs": [
        {
          "output_type": "stream",
          "name": "stdout",
          "text": [
            "\u001b[0m\u001b[01;34mdrive\u001b[0m/  \u001b[01;34msample_data\u001b[0m/\n"
          ]
        }
      ]
    },
    {
      "cell_type": "code",
      "source": [
        "sfl_df = pd.read_csv(\"./drive/MyDrive/Colab Notebooks/setForLife.csv\")"
      ],
      "metadata": {
        "id": "ZjPUDCIX69hI"
      },
      "execution_count": null,
      "outputs": []
    },
    {
      "cell_type": "code",
      "source": [
        "#print(sfl_df)"
      ],
      "metadata": {
        "id": "eYqw3qEj7K2t"
      },
      "execution_count": null,
      "outputs": []
    },
    {
      "cell_type": "code",
      "source": [
        "sfl_df = sfl_df.drop(columns = [\"Ball Set\", \"Machine\", \"DrawNumber\"])"
      ],
      "metadata": {
        "id": "tjv7u1-RUl-s"
      },
      "execution_count": null,
      "outputs": []
    },
    {
      "cell_type": "code",
      "source": [
        "#sfl_df = sfl_df[[\"DrawDate\", \"Ball 1\", \"Ball 2\", \"Ball 3\", \"Ball 4\", \"Ball 5\", \"Life Ball\"]]"
      ],
      "metadata": {
        "id": "_Q9eaVR37ST1"
      },
      "execution_count": null,
      "outputs": []
    },
    {
      "cell_type": "code",
      "source": [
        "sfl_df.head()"
      ],
      "metadata": {
        "colab": {
          "base_uri": "https://localhost:8080/",
          "height": 206
        },
        "id": "JpVMp3E6TOXt",
        "outputId": "55af69fc-862f-4a7e-9053-d24d19d91be9"
      },
      "execution_count": null,
      "outputs": [
        {
          "output_type": "execute_result",
          "data": {
            "text/plain": [
              "      DrawDate  Ball 1  Ball 2  Ball 3  Ball 4  Ball 5  Life Ball\n",
              "0  18-Apr-2024      18      35       6      26      41          5\n",
              "1  15-Apr-2024       1      21      27       3      22         10\n",
              "2  11-Apr-2024      11      13      19      42      27          8\n",
              "3  08-Apr-2024      36      43       3       5       6          1\n",
              "4  04-Apr-2024      17      41       2      16       9          3"
            ],
            "text/html": [
              "\n",
              "  <div id=\"df-b64a7220-b285-408d-9c06-928e68735577\" class=\"colab-df-container\">\n",
              "    <div>\n",
              "<style scoped>\n",
              "    .dataframe tbody tr th:only-of-type {\n",
              "        vertical-align: middle;\n",
              "    }\n",
              "\n",
              "    .dataframe tbody tr th {\n",
              "        vertical-align: top;\n",
              "    }\n",
              "\n",
              "    .dataframe thead th {\n",
              "        text-align: right;\n",
              "    }\n",
              "</style>\n",
              "<table border=\"1\" class=\"dataframe\">\n",
              "  <thead>\n",
              "    <tr style=\"text-align: right;\">\n",
              "      <th></th>\n",
              "      <th>DrawDate</th>\n",
              "      <th>Ball 1</th>\n",
              "      <th>Ball 2</th>\n",
              "      <th>Ball 3</th>\n",
              "      <th>Ball 4</th>\n",
              "      <th>Ball 5</th>\n",
              "      <th>Life Ball</th>\n",
              "    </tr>\n",
              "  </thead>\n",
              "  <tbody>\n",
              "    <tr>\n",
              "      <th>0</th>\n",
              "      <td>18-Apr-2024</td>\n",
              "      <td>18</td>\n",
              "      <td>35</td>\n",
              "      <td>6</td>\n",
              "      <td>26</td>\n",
              "      <td>41</td>\n",
              "      <td>5</td>\n",
              "    </tr>\n",
              "    <tr>\n",
              "      <th>1</th>\n",
              "      <td>15-Apr-2024</td>\n",
              "      <td>1</td>\n",
              "      <td>21</td>\n",
              "      <td>27</td>\n",
              "      <td>3</td>\n",
              "      <td>22</td>\n",
              "      <td>10</td>\n",
              "    </tr>\n",
              "    <tr>\n",
              "      <th>2</th>\n",
              "      <td>11-Apr-2024</td>\n",
              "      <td>11</td>\n",
              "      <td>13</td>\n",
              "      <td>19</td>\n",
              "      <td>42</td>\n",
              "      <td>27</td>\n",
              "      <td>8</td>\n",
              "    </tr>\n",
              "    <tr>\n",
              "      <th>3</th>\n",
              "      <td>08-Apr-2024</td>\n",
              "      <td>36</td>\n",
              "      <td>43</td>\n",
              "      <td>3</td>\n",
              "      <td>5</td>\n",
              "      <td>6</td>\n",
              "      <td>1</td>\n",
              "    </tr>\n",
              "    <tr>\n",
              "      <th>4</th>\n",
              "      <td>04-Apr-2024</td>\n",
              "      <td>17</td>\n",
              "      <td>41</td>\n",
              "      <td>2</td>\n",
              "      <td>16</td>\n",
              "      <td>9</td>\n",
              "      <td>3</td>\n",
              "    </tr>\n",
              "  </tbody>\n",
              "</table>\n",
              "</div>\n",
              "    <div class=\"colab-df-buttons\">\n",
              "\n",
              "  <div class=\"colab-df-container\">\n",
              "    <button class=\"colab-df-convert\" onclick=\"convertToInteractive('df-b64a7220-b285-408d-9c06-928e68735577')\"\n",
              "            title=\"Convert this dataframe to an interactive table.\"\n",
              "            style=\"display:none;\">\n",
              "\n",
              "  <svg xmlns=\"http://www.w3.org/2000/svg\" height=\"24px\" viewBox=\"0 -960 960 960\">\n",
              "    <path d=\"M120-120v-720h720v720H120Zm60-500h600v-160H180v160Zm220 220h160v-160H400v160Zm0 220h160v-160H400v160ZM180-400h160v-160H180v160Zm440 0h160v-160H620v160ZM180-180h160v-160H180v160Zm440 0h160v-160H620v160Z\"/>\n",
              "  </svg>\n",
              "    </button>\n",
              "\n",
              "  <style>\n",
              "    .colab-df-container {\n",
              "      display:flex;\n",
              "      gap: 12px;\n",
              "    }\n",
              "\n",
              "    .colab-df-convert {\n",
              "      background-color: #E8F0FE;\n",
              "      border: none;\n",
              "      border-radius: 50%;\n",
              "      cursor: pointer;\n",
              "      display: none;\n",
              "      fill: #1967D2;\n",
              "      height: 32px;\n",
              "      padding: 0 0 0 0;\n",
              "      width: 32px;\n",
              "    }\n",
              "\n",
              "    .colab-df-convert:hover {\n",
              "      background-color: #E2EBFA;\n",
              "      box-shadow: 0px 1px 2px rgba(60, 64, 67, 0.3), 0px 1px 3px 1px rgba(60, 64, 67, 0.15);\n",
              "      fill: #174EA6;\n",
              "    }\n",
              "\n",
              "    .colab-df-buttons div {\n",
              "      margin-bottom: 4px;\n",
              "    }\n",
              "\n",
              "    [theme=dark] .colab-df-convert {\n",
              "      background-color: #3B4455;\n",
              "      fill: #D2E3FC;\n",
              "    }\n",
              "\n",
              "    [theme=dark] .colab-df-convert:hover {\n",
              "      background-color: #434B5C;\n",
              "      box-shadow: 0px 1px 3px 1px rgba(0, 0, 0, 0.15);\n",
              "      filter: drop-shadow(0px 1px 2px rgba(0, 0, 0, 0.3));\n",
              "      fill: #FFFFFF;\n",
              "    }\n",
              "  </style>\n",
              "\n",
              "    <script>\n",
              "      const buttonEl =\n",
              "        document.querySelector('#df-b64a7220-b285-408d-9c06-928e68735577 button.colab-df-convert');\n",
              "      buttonEl.style.display =\n",
              "        google.colab.kernel.accessAllowed ? 'block' : 'none';\n",
              "\n",
              "      async function convertToInteractive(key) {\n",
              "        const element = document.querySelector('#df-b64a7220-b285-408d-9c06-928e68735577');\n",
              "        const dataTable =\n",
              "          await google.colab.kernel.invokeFunction('convertToInteractive',\n",
              "                                                    [key], {});\n",
              "        if (!dataTable) return;\n",
              "\n",
              "        const docLinkHtml = 'Like what you see? Visit the ' +\n",
              "          '<a target=\"_blank\" href=https://colab.research.google.com/notebooks/data_table.ipynb>data table notebook</a>'\n",
              "          + ' to learn more about interactive tables.';\n",
              "        element.innerHTML = '';\n",
              "        dataTable['output_type'] = 'display_data';\n",
              "        await google.colab.output.renderOutput(dataTable, element);\n",
              "        const docLink = document.createElement('div');\n",
              "        docLink.innerHTML = docLinkHtml;\n",
              "        element.appendChild(docLink);\n",
              "      }\n",
              "    </script>\n",
              "  </div>\n",
              "\n",
              "\n",
              "<div id=\"df-c03d8c40-bb4e-4360-8bcf-6382602b20d5\">\n",
              "  <button class=\"colab-df-quickchart\" onclick=\"quickchart('df-c03d8c40-bb4e-4360-8bcf-6382602b20d5')\"\n",
              "            title=\"Suggest charts\"\n",
              "            style=\"display:none;\">\n",
              "\n",
              "<svg xmlns=\"http://www.w3.org/2000/svg\" height=\"24px\"viewBox=\"0 0 24 24\"\n",
              "     width=\"24px\">\n",
              "    <g>\n",
              "        <path d=\"M19 3H5c-1.1 0-2 .9-2 2v14c0 1.1.9 2 2 2h14c1.1 0 2-.9 2-2V5c0-1.1-.9-2-2-2zM9 17H7v-7h2v7zm4 0h-2V7h2v10zm4 0h-2v-4h2v4z\"/>\n",
              "    </g>\n",
              "</svg>\n",
              "  </button>\n",
              "\n",
              "<style>\n",
              "  .colab-df-quickchart {\n",
              "      --bg-color: #E8F0FE;\n",
              "      --fill-color: #1967D2;\n",
              "      --hover-bg-color: #E2EBFA;\n",
              "      --hover-fill-color: #174EA6;\n",
              "      --disabled-fill-color: #AAA;\n",
              "      --disabled-bg-color: #DDD;\n",
              "  }\n",
              "\n",
              "  [theme=dark] .colab-df-quickchart {\n",
              "      --bg-color: #3B4455;\n",
              "      --fill-color: #D2E3FC;\n",
              "      --hover-bg-color: #434B5C;\n",
              "      --hover-fill-color: #FFFFFF;\n",
              "      --disabled-bg-color: #3B4455;\n",
              "      --disabled-fill-color: #666;\n",
              "  }\n",
              "\n",
              "  .colab-df-quickchart {\n",
              "    background-color: var(--bg-color);\n",
              "    border: none;\n",
              "    border-radius: 50%;\n",
              "    cursor: pointer;\n",
              "    display: none;\n",
              "    fill: var(--fill-color);\n",
              "    height: 32px;\n",
              "    padding: 0;\n",
              "    width: 32px;\n",
              "  }\n",
              "\n",
              "  .colab-df-quickchart:hover {\n",
              "    background-color: var(--hover-bg-color);\n",
              "    box-shadow: 0 1px 2px rgba(60, 64, 67, 0.3), 0 1px 3px 1px rgba(60, 64, 67, 0.15);\n",
              "    fill: var(--button-hover-fill-color);\n",
              "  }\n",
              "\n",
              "  .colab-df-quickchart-complete:disabled,\n",
              "  .colab-df-quickchart-complete:disabled:hover {\n",
              "    background-color: var(--disabled-bg-color);\n",
              "    fill: var(--disabled-fill-color);\n",
              "    box-shadow: none;\n",
              "  }\n",
              "\n",
              "  .colab-df-spinner {\n",
              "    border: 2px solid var(--fill-color);\n",
              "    border-color: transparent;\n",
              "    border-bottom-color: var(--fill-color);\n",
              "    animation:\n",
              "      spin 1s steps(1) infinite;\n",
              "  }\n",
              "\n",
              "  @keyframes spin {\n",
              "    0% {\n",
              "      border-color: transparent;\n",
              "      border-bottom-color: var(--fill-color);\n",
              "      border-left-color: var(--fill-color);\n",
              "    }\n",
              "    20% {\n",
              "      border-color: transparent;\n",
              "      border-left-color: var(--fill-color);\n",
              "      border-top-color: var(--fill-color);\n",
              "    }\n",
              "    30% {\n",
              "      border-color: transparent;\n",
              "      border-left-color: var(--fill-color);\n",
              "      border-top-color: var(--fill-color);\n",
              "      border-right-color: var(--fill-color);\n",
              "    }\n",
              "    40% {\n",
              "      border-color: transparent;\n",
              "      border-right-color: var(--fill-color);\n",
              "      border-top-color: var(--fill-color);\n",
              "    }\n",
              "    60% {\n",
              "      border-color: transparent;\n",
              "      border-right-color: var(--fill-color);\n",
              "    }\n",
              "    80% {\n",
              "      border-color: transparent;\n",
              "      border-right-color: var(--fill-color);\n",
              "      border-bottom-color: var(--fill-color);\n",
              "    }\n",
              "    90% {\n",
              "      border-color: transparent;\n",
              "      border-bottom-color: var(--fill-color);\n",
              "    }\n",
              "  }\n",
              "</style>\n",
              "\n",
              "  <script>\n",
              "    async function quickchart(key) {\n",
              "      const quickchartButtonEl =\n",
              "        document.querySelector('#' + key + ' button');\n",
              "      quickchartButtonEl.disabled = true;  // To prevent multiple clicks.\n",
              "      quickchartButtonEl.classList.add('colab-df-spinner');\n",
              "      try {\n",
              "        const charts = await google.colab.kernel.invokeFunction(\n",
              "            'suggestCharts', [key], {});\n",
              "      } catch (error) {\n",
              "        console.error('Error during call to suggestCharts:', error);\n",
              "      }\n",
              "      quickchartButtonEl.classList.remove('colab-df-spinner');\n",
              "      quickchartButtonEl.classList.add('colab-df-quickchart-complete');\n",
              "    }\n",
              "    (() => {\n",
              "      let quickchartButtonEl =\n",
              "        document.querySelector('#df-c03d8c40-bb4e-4360-8bcf-6382602b20d5 button');\n",
              "      quickchartButtonEl.style.display =\n",
              "        google.colab.kernel.accessAllowed ? 'block' : 'none';\n",
              "    })();\n",
              "  </script>\n",
              "</div>\n",
              "    </div>\n",
              "  </div>\n"
            ],
            "application/vnd.google.colaboratory.intrinsic+json": {
              "type": "dataframe",
              "variable_name": "sfl_df",
              "summary": "{\n  \"name\": \"sfl_df\",\n  \"rows\": 65,\n  \"fields\": [\n    {\n      \"column\": \"DrawDate\",\n      \"properties\": {\n        \"dtype\": \"object\",\n        \"num_unique_values\": 65,\n        \"samples\": [\n          \"16-Oct-2023\",\n          \"21-Sep-2023\",\n          \"18-Apr-2024\"\n        ],\n        \"semantic_type\": \"\",\n        \"description\": \"\"\n      }\n    },\n    {\n      \"column\": \"Ball 1\",\n      \"properties\": {\n        \"dtype\": \"number\",\n        \"std\": 13,\n        \"min\": 1,\n        \"max\": 46,\n        \"num_unique_values\": 37,\n        \"samples\": [\n          27,\n          28,\n          17\n        ],\n        \"semantic_type\": \"\",\n        \"description\": \"\"\n      }\n    },\n    {\n      \"column\": \"Ball 2\",\n      \"properties\": {\n        \"dtype\": \"number\",\n        \"std\": 13,\n        \"min\": 3,\n        \"max\": 46,\n        \"num_unique_values\": 34,\n        \"samples\": [\n          36,\n          7,\n          46\n        ],\n        \"semantic_type\": \"\",\n        \"description\": \"\"\n      }\n    },\n    {\n      \"column\": \"Ball 3\",\n      \"properties\": {\n        \"dtype\": \"number\",\n        \"std\": 15,\n        \"min\": 1,\n        \"max\": 47,\n        \"num_unique_values\": 34,\n        \"samples\": [\n          46,\n          44,\n          9\n        ],\n        \"semantic_type\": \"\",\n        \"description\": \"\"\n      }\n    },\n    {\n      \"column\": \"Ball 4\",\n      \"properties\": {\n        \"dtype\": \"number\",\n        \"std\": 13,\n        \"min\": 2,\n        \"max\": 47,\n        \"num_unique_values\": 35,\n        \"samples\": [\n          13,\n          45,\n          47\n        ],\n        \"semantic_type\": \"\",\n        \"description\": \"\"\n      }\n    },\n    {\n      \"column\": \"Ball 5\",\n      \"properties\": {\n        \"dtype\": \"number\",\n        \"std\": 13,\n        \"min\": 1,\n        \"max\": 47,\n        \"num_unique_values\": 34,\n        \"samples\": [\n          12,\n          40,\n          11\n        ],\n        \"semantic_type\": \"\",\n        \"description\": \"\"\n      }\n    },\n    {\n      \"column\": \"Life Ball\",\n      \"properties\": {\n        \"dtype\": \"number\",\n        \"std\": 2,\n        \"min\": 1,\n        \"max\": 10,\n        \"num_unique_values\": 10,\n        \"samples\": [\n          6,\n          10,\n          2\n        ],\n        \"semantic_type\": \"\",\n        \"description\": \"\"\n      }\n    }\n  ]\n}"
            }
          },
          "metadata": {},
          "execution_count": 10
        }
      ]
    },
    {
      "cell_type": "code",
      "source": [
        "sfl_df[\"DrawDate\"] = pd.to_datetime(sfl_df[\"DrawDate\"])"
      ],
      "metadata": {
        "id": "IrNHL3DKZmD0"
      },
      "execution_count": null,
      "outputs": []
    },
    {
      "cell_type": "code",
      "source": [
        "sfl_df.set_index('DrawDate',inplace=True)"
      ],
      "metadata": {
        "id": "m1tq4yp2Zwhr"
      },
      "execution_count": null,
      "outputs": []
    },
    {
      "cell_type": "code",
      "source": [
        "sfl_df.head()"
      ],
      "metadata": {
        "colab": {
          "base_uri": "https://localhost:8080/",
          "height": 238
        },
        "id": "JY8q8d_1Z32j",
        "outputId": "57b7944d-cf92-475b-d84b-d1da7ba26840"
      },
      "execution_count": null,
      "outputs": [
        {
          "output_type": "execute_result",
          "data": {
            "text/plain": [
              "            Ball 1  Ball 2  Ball 3  Ball 4  Ball 5  Life Ball\n",
              "DrawDate                                                     \n",
              "2024-04-18      18      35       6      26      41          5\n",
              "2024-04-15       1      21      27       3      22         10\n",
              "2024-04-11      11      13      19      42      27          8\n",
              "2024-04-08      36      43       3       5       6          1\n",
              "2024-04-04      17      41       2      16       9          3"
            ],
            "text/html": [
              "\n",
              "  <div id=\"df-18c96fb3-bbb7-481c-a6c1-9c5102659f58\" class=\"colab-df-container\">\n",
              "    <div>\n",
              "<style scoped>\n",
              "    .dataframe tbody tr th:only-of-type {\n",
              "        vertical-align: middle;\n",
              "    }\n",
              "\n",
              "    .dataframe tbody tr th {\n",
              "        vertical-align: top;\n",
              "    }\n",
              "\n",
              "    .dataframe thead th {\n",
              "        text-align: right;\n",
              "    }\n",
              "</style>\n",
              "<table border=\"1\" class=\"dataframe\">\n",
              "  <thead>\n",
              "    <tr style=\"text-align: right;\">\n",
              "      <th></th>\n",
              "      <th>Ball 1</th>\n",
              "      <th>Ball 2</th>\n",
              "      <th>Ball 3</th>\n",
              "      <th>Ball 4</th>\n",
              "      <th>Ball 5</th>\n",
              "      <th>Life Ball</th>\n",
              "    </tr>\n",
              "    <tr>\n",
              "      <th>DrawDate</th>\n",
              "      <th></th>\n",
              "      <th></th>\n",
              "      <th></th>\n",
              "      <th></th>\n",
              "      <th></th>\n",
              "      <th></th>\n",
              "    </tr>\n",
              "  </thead>\n",
              "  <tbody>\n",
              "    <tr>\n",
              "      <th>2024-04-18</th>\n",
              "      <td>18</td>\n",
              "      <td>35</td>\n",
              "      <td>6</td>\n",
              "      <td>26</td>\n",
              "      <td>41</td>\n",
              "      <td>5</td>\n",
              "    </tr>\n",
              "    <tr>\n",
              "      <th>2024-04-15</th>\n",
              "      <td>1</td>\n",
              "      <td>21</td>\n",
              "      <td>27</td>\n",
              "      <td>3</td>\n",
              "      <td>22</td>\n",
              "      <td>10</td>\n",
              "    </tr>\n",
              "    <tr>\n",
              "      <th>2024-04-11</th>\n",
              "      <td>11</td>\n",
              "      <td>13</td>\n",
              "      <td>19</td>\n",
              "      <td>42</td>\n",
              "      <td>27</td>\n",
              "      <td>8</td>\n",
              "    </tr>\n",
              "    <tr>\n",
              "      <th>2024-04-08</th>\n",
              "      <td>36</td>\n",
              "      <td>43</td>\n",
              "      <td>3</td>\n",
              "      <td>5</td>\n",
              "      <td>6</td>\n",
              "      <td>1</td>\n",
              "    </tr>\n",
              "    <tr>\n",
              "      <th>2024-04-04</th>\n",
              "      <td>17</td>\n",
              "      <td>41</td>\n",
              "      <td>2</td>\n",
              "      <td>16</td>\n",
              "      <td>9</td>\n",
              "      <td>3</td>\n",
              "    </tr>\n",
              "  </tbody>\n",
              "</table>\n",
              "</div>\n",
              "    <div class=\"colab-df-buttons\">\n",
              "\n",
              "  <div class=\"colab-df-container\">\n",
              "    <button class=\"colab-df-convert\" onclick=\"convertToInteractive('df-18c96fb3-bbb7-481c-a6c1-9c5102659f58')\"\n",
              "            title=\"Convert this dataframe to an interactive table.\"\n",
              "            style=\"display:none;\">\n",
              "\n",
              "  <svg xmlns=\"http://www.w3.org/2000/svg\" height=\"24px\" viewBox=\"0 -960 960 960\">\n",
              "    <path d=\"M120-120v-720h720v720H120Zm60-500h600v-160H180v160Zm220 220h160v-160H400v160Zm0 220h160v-160H400v160ZM180-400h160v-160H180v160Zm440 0h160v-160H620v160ZM180-180h160v-160H180v160Zm440 0h160v-160H620v160Z\"/>\n",
              "  </svg>\n",
              "    </button>\n",
              "\n",
              "  <style>\n",
              "    .colab-df-container {\n",
              "      display:flex;\n",
              "      gap: 12px;\n",
              "    }\n",
              "\n",
              "    .colab-df-convert {\n",
              "      background-color: #E8F0FE;\n",
              "      border: none;\n",
              "      border-radius: 50%;\n",
              "      cursor: pointer;\n",
              "      display: none;\n",
              "      fill: #1967D2;\n",
              "      height: 32px;\n",
              "      padding: 0 0 0 0;\n",
              "      width: 32px;\n",
              "    }\n",
              "\n",
              "    .colab-df-convert:hover {\n",
              "      background-color: #E2EBFA;\n",
              "      box-shadow: 0px 1px 2px rgba(60, 64, 67, 0.3), 0px 1px 3px 1px rgba(60, 64, 67, 0.15);\n",
              "      fill: #174EA6;\n",
              "    }\n",
              "\n",
              "    .colab-df-buttons div {\n",
              "      margin-bottom: 4px;\n",
              "    }\n",
              "\n",
              "    [theme=dark] .colab-df-convert {\n",
              "      background-color: #3B4455;\n",
              "      fill: #D2E3FC;\n",
              "    }\n",
              "\n",
              "    [theme=dark] .colab-df-convert:hover {\n",
              "      background-color: #434B5C;\n",
              "      box-shadow: 0px 1px 3px 1px rgba(0, 0, 0, 0.15);\n",
              "      filter: drop-shadow(0px 1px 2px rgba(0, 0, 0, 0.3));\n",
              "      fill: #FFFFFF;\n",
              "    }\n",
              "  </style>\n",
              "\n",
              "    <script>\n",
              "      const buttonEl =\n",
              "        document.querySelector('#df-18c96fb3-bbb7-481c-a6c1-9c5102659f58 button.colab-df-convert');\n",
              "      buttonEl.style.display =\n",
              "        google.colab.kernel.accessAllowed ? 'block' : 'none';\n",
              "\n",
              "      async function convertToInteractive(key) {\n",
              "        const element = document.querySelector('#df-18c96fb3-bbb7-481c-a6c1-9c5102659f58');\n",
              "        const dataTable =\n",
              "          await google.colab.kernel.invokeFunction('convertToInteractive',\n",
              "                                                    [key], {});\n",
              "        if (!dataTable) return;\n",
              "\n",
              "        const docLinkHtml = 'Like what you see? Visit the ' +\n",
              "          '<a target=\"_blank\" href=https://colab.research.google.com/notebooks/data_table.ipynb>data table notebook</a>'\n",
              "          + ' to learn more about interactive tables.';\n",
              "        element.innerHTML = '';\n",
              "        dataTable['output_type'] = 'display_data';\n",
              "        await google.colab.output.renderOutput(dataTable, element);\n",
              "        const docLink = document.createElement('div');\n",
              "        docLink.innerHTML = docLinkHtml;\n",
              "        element.appendChild(docLink);\n",
              "      }\n",
              "    </script>\n",
              "  </div>\n",
              "\n",
              "\n",
              "<div id=\"df-77eef613-d885-4d07-9eda-4d99898d6617\">\n",
              "  <button class=\"colab-df-quickchart\" onclick=\"quickchart('df-77eef613-d885-4d07-9eda-4d99898d6617')\"\n",
              "            title=\"Suggest charts\"\n",
              "            style=\"display:none;\">\n",
              "\n",
              "<svg xmlns=\"http://www.w3.org/2000/svg\" height=\"24px\"viewBox=\"0 0 24 24\"\n",
              "     width=\"24px\">\n",
              "    <g>\n",
              "        <path d=\"M19 3H5c-1.1 0-2 .9-2 2v14c0 1.1.9 2 2 2h14c1.1 0 2-.9 2-2V5c0-1.1-.9-2-2-2zM9 17H7v-7h2v7zm4 0h-2V7h2v10zm4 0h-2v-4h2v4z\"/>\n",
              "    </g>\n",
              "</svg>\n",
              "  </button>\n",
              "\n",
              "<style>\n",
              "  .colab-df-quickchart {\n",
              "      --bg-color: #E8F0FE;\n",
              "      --fill-color: #1967D2;\n",
              "      --hover-bg-color: #E2EBFA;\n",
              "      --hover-fill-color: #174EA6;\n",
              "      --disabled-fill-color: #AAA;\n",
              "      --disabled-bg-color: #DDD;\n",
              "  }\n",
              "\n",
              "  [theme=dark] .colab-df-quickchart {\n",
              "      --bg-color: #3B4455;\n",
              "      --fill-color: #D2E3FC;\n",
              "      --hover-bg-color: #434B5C;\n",
              "      --hover-fill-color: #FFFFFF;\n",
              "      --disabled-bg-color: #3B4455;\n",
              "      --disabled-fill-color: #666;\n",
              "  }\n",
              "\n",
              "  .colab-df-quickchart {\n",
              "    background-color: var(--bg-color);\n",
              "    border: none;\n",
              "    border-radius: 50%;\n",
              "    cursor: pointer;\n",
              "    display: none;\n",
              "    fill: var(--fill-color);\n",
              "    height: 32px;\n",
              "    padding: 0;\n",
              "    width: 32px;\n",
              "  }\n",
              "\n",
              "  .colab-df-quickchart:hover {\n",
              "    background-color: var(--hover-bg-color);\n",
              "    box-shadow: 0 1px 2px rgba(60, 64, 67, 0.3), 0 1px 3px 1px rgba(60, 64, 67, 0.15);\n",
              "    fill: var(--button-hover-fill-color);\n",
              "  }\n",
              "\n",
              "  .colab-df-quickchart-complete:disabled,\n",
              "  .colab-df-quickchart-complete:disabled:hover {\n",
              "    background-color: var(--disabled-bg-color);\n",
              "    fill: var(--disabled-fill-color);\n",
              "    box-shadow: none;\n",
              "  }\n",
              "\n",
              "  .colab-df-spinner {\n",
              "    border: 2px solid var(--fill-color);\n",
              "    border-color: transparent;\n",
              "    border-bottom-color: var(--fill-color);\n",
              "    animation:\n",
              "      spin 1s steps(1) infinite;\n",
              "  }\n",
              "\n",
              "  @keyframes spin {\n",
              "    0% {\n",
              "      border-color: transparent;\n",
              "      border-bottom-color: var(--fill-color);\n",
              "      border-left-color: var(--fill-color);\n",
              "    }\n",
              "    20% {\n",
              "      border-color: transparent;\n",
              "      border-left-color: var(--fill-color);\n",
              "      border-top-color: var(--fill-color);\n",
              "    }\n",
              "    30% {\n",
              "      border-color: transparent;\n",
              "      border-left-color: var(--fill-color);\n",
              "      border-top-color: var(--fill-color);\n",
              "      border-right-color: var(--fill-color);\n",
              "    }\n",
              "    40% {\n",
              "      border-color: transparent;\n",
              "      border-right-color: var(--fill-color);\n",
              "      border-top-color: var(--fill-color);\n",
              "    }\n",
              "    60% {\n",
              "      border-color: transparent;\n",
              "      border-right-color: var(--fill-color);\n",
              "    }\n",
              "    80% {\n",
              "      border-color: transparent;\n",
              "      border-right-color: var(--fill-color);\n",
              "      border-bottom-color: var(--fill-color);\n",
              "    }\n",
              "    90% {\n",
              "      border-color: transparent;\n",
              "      border-bottom-color: var(--fill-color);\n",
              "    }\n",
              "  }\n",
              "</style>\n",
              "\n",
              "  <script>\n",
              "    async function quickchart(key) {\n",
              "      const quickchartButtonEl =\n",
              "        document.querySelector('#' + key + ' button');\n",
              "      quickchartButtonEl.disabled = true;  // To prevent multiple clicks.\n",
              "      quickchartButtonEl.classList.add('colab-df-spinner');\n",
              "      try {\n",
              "        const charts = await google.colab.kernel.invokeFunction(\n",
              "            'suggestCharts', [key], {});\n",
              "      } catch (error) {\n",
              "        console.error('Error during call to suggestCharts:', error);\n",
              "      }\n",
              "      quickchartButtonEl.classList.remove('colab-df-spinner');\n",
              "      quickchartButtonEl.classList.add('colab-df-quickchart-complete');\n",
              "    }\n",
              "    (() => {\n",
              "      let quickchartButtonEl =\n",
              "        document.querySelector('#df-77eef613-d885-4d07-9eda-4d99898d6617 button');\n",
              "      quickchartButtonEl.style.display =\n",
              "        google.colab.kernel.accessAllowed ? 'block' : 'none';\n",
              "    })();\n",
              "  </script>\n",
              "</div>\n",
              "    </div>\n",
              "  </div>\n"
            ],
            "application/vnd.google.colaboratory.intrinsic+json": {
              "type": "dataframe",
              "variable_name": "sfl_df",
              "summary": "{\n  \"name\": \"sfl_df\",\n  \"rows\": 65,\n  \"fields\": [\n    {\n      \"column\": \"DrawDate\",\n      \"properties\": {\n        \"dtype\": \"date\",\n        \"min\": \"2023-09-07 00:00:00\",\n        \"max\": \"2024-04-18 00:00:00\",\n        \"num_unique_values\": 65,\n        \"samples\": [\n          \"2023-10-16 00:00:00\",\n          \"2023-09-21 00:00:00\",\n          \"2024-04-18 00:00:00\"\n        ],\n        \"semantic_type\": \"\",\n        \"description\": \"\"\n      }\n    },\n    {\n      \"column\": \"Ball 1\",\n      \"properties\": {\n        \"dtype\": \"number\",\n        \"std\": 13,\n        \"min\": 1,\n        \"max\": 46,\n        \"num_unique_values\": 37,\n        \"samples\": [\n          27,\n          28,\n          17\n        ],\n        \"semantic_type\": \"\",\n        \"description\": \"\"\n      }\n    },\n    {\n      \"column\": \"Ball 2\",\n      \"properties\": {\n        \"dtype\": \"number\",\n        \"std\": 13,\n        \"min\": 3,\n        \"max\": 46,\n        \"num_unique_values\": 34,\n        \"samples\": [\n          36,\n          7,\n          46\n        ],\n        \"semantic_type\": \"\",\n        \"description\": \"\"\n      }\n    },\n    {\n      \"column\": \"Ball 3\",\n      \"properties\": {\n        \"dtype\": \"number\",\n        \"std\": 15,\n        \"min\": 1,\n        \"max\": 47,\n        \"num_unique_values\": 34,\n        \"samples\": [\n          46,\n          44,\n          9\n        ],\n        \"semantic_type\": \"\",\n        \"description\": \"\"\n      }\n    },\n    {\n      \"column\": \"Ball 4\",\n      \"properties\": {\n        \"dtype\": \"number\",\n        \"std\": 13,\n        \"min\": 2,\n        \"max\": 47,\n        \"num_unique_values\": 35,\n        \"samples\": [\n          13,\n          45,\n          47\n        ],\n        \"semantic_type\": \"\",\n        \"description\": \"\"\n      }\n    },\n    {\n      \"column\": \"Ball 5\",\n      \"properties\": {\n        \"dtype\": \"number\",\n        \"std\": 13,\n        \"min\": 1,\n        \"max\": 47,\n        \"num_unique_values\": 34,\n        \"samples\": [\n          12,\n          40,\n          11\n        ],\n        \"semantic_type\": \"\",\n        \"description\": \"\"\n      }\n    },\n    {\n      \"column\": \"Life Ball\",\n      \"properties\": {\n        \"dtype\": \"number\",\n        \"std\": 2,\n        \"min\": 1,\n        \"max\": 10,\n        \"num_unique_values\": 10,\n        \"samples\": [\n          6,\n          10,\n          2\n        ],\n        \"semantic_type\": \"\",\n        \"description\": \"\"\n      }\n    }\n  ]\n}"
            }
          },
          "metadata": {},
          "execution_count": 13
        }
      ]
    },
    {
      "cell_type": "code",
      "source": [
        "print(sfl_df.iloc[0][0])\n"
      ],
      "metadata": {
        "id": "QupEHIxp8T17",
        "colab": {
          "base_uri": "https://localhost:8080/"
        },
        "outputId": "635c0e8e-8759-488c-f6e9-ecf71bd01e26"
      },
      "execution_count": null,
      "outputs": [
        {
          "output_type": "stream",
          "name": "stdout",
          "text": [
            "18\n"
          ]
        }
      ]
    },
    {
      "cell_type": "code",
      "source": [
        "def createLongList(df):\n",
        "  #numbers is an array of arrays, each week a new array\n",
        "  numbers = []\n",
        "  #longlist has all the numbers in a row, to make the chart\n",
        "  longList = []\n",
        "  #i and j give the coordinates of the dataframe, going from the second from the left, hence j 1,6\n",
        "  for i in range(len(df)):\n",
        "    #print(i)\n",
        "    tempList = []\n",
        "    for j in range(0,5):\n",
        "      #print(i)\n",
        "      #print(j)\n",
        "      num = df.iloc[i][j]\n",
        "      tempList.append(num)\n",
        "      longList.append(num)\n",
        "    tempList.sort()\n",
        "    #templist is now an array of that weeks numbers, sorted\n",
        "    numbers.append(tempList)\n",
        "  return numbers, longList\n",
        "\n",
        "\n"
      ],
      "metadata": {
        "id": "75XEg6EQ-Mak"
      },
      "execution_count": null,
      "outputs": []
    },
    {
      "cell_type": "code",
      "source": [
        "numbers, longList = createLongList(sfl_df)"
      ],
      "metadata": {
        "id": "pFhTVb1yIIfR"
      },
      "execution_count": null,
      "outputs": []
    },
    {
      "cell_type": "code",
      "source": [
        "def createLifeBalls(df):\n",
        "  lifeBalls = []\n",
        "\n",
        "  for i in range(len(df)):\n",
        "    tempList = []\n",
        "\n",
        "    for j in range(5,6):\n",
        "      lifeBalls.append(df.iloc[i][j])\n",
        "  return lifeBalls\n"
      ],
      "metadata": {
        "id": "NspcdXdaCTuq"
      },
      "execution_count": null,
      "outputs": []
    },
    {
      "cell_type": "code",
      "source": [
        "lifeBalls = createLifeBalls(sfl_df)"
      ],
      "metadata": {
        "id": "dlQRUmA4JRG4"
      },
      "execution_count": null,
      "outputs": []
    },
    {
      "cell_type": "code",
      "source": [
        "#numbers"
      ],
      "metadata": {
        "id": "kg9PPV-P_S3k"
      },
      "execution_count": null,
      "outputs": []
    },
    {
      "cell_type": "code",
      "source": [
        "#lifeBalls"
      ],
      "metadata": {
        "id": "5zocwk5QA6ba"
      },
      "execution_count": null,
      "outputs": []
    },
    {
      "cell_type": "code",
      "source": [
        "#num_df = pd.DataFrame(numbers, columns = [\"B1\", \"B2\", \"B3\", \"B4\", \"B5\"] )\n",
        "#num_df.head()\n",
        "#what's this about???? I can't remember why I did it."
      ],
      "metadata": {
        "id": "zrmU8RJBCXyv"
      },
      "execution_count": null,
      "outputs": []
    },
    {
      "cell_type": "code",
      "source": [
        "lengLL = len(longList)\n",
        "lengLL"
      ],
      "metadata": {
        "colab": {
          "base_uri": "https://localhost:8080/"
        },
        "id": "8OqjCWlYD4l3",
        "outputId": "d77b0bf7-0d78-4d64-b97c-221161d11777"
      },
      "execution_count": null,
      "outputs": [
        {
          "output_type": "execute_result",
          "data": {
            "text/plain": [
              "325"
            ]
          },
          "metadata": {},
          "execution_count": 70
        }
      ]
    },
    {
      "cell_type": "code",
      "source": [
        "import collections"
      ],
      "metadata": {
        "id": "r3fcjQHXF-7v"
      },
      "execution_count": null,
      "outputs": []
    },
    {
      "cell_type": "code",
      "source": [
        "#This counts how many of each number there are in longList\n",
        "counter = collections.Counter(longList)\n",
        "sortedDict = dict(sorted(counter.items())) #again, not necessary!\n",
        "\n",
        "lifeBallsSorted = lifeBalls.copy()\n",
        "lifeBallsSorted.sort()\n",
        "counterLife = collections.Counter(lifeBallsSorted)\n",
        "lifeDict = dict(sorted(counterLife.items())) #it seems to already be sorted but just in case!"
      ],
      "metadata": {
        "id": "Z0V_Ie2rFEmn"
      },
      "execution_count": null,
      "outputs": []
    },
    {
      "cell_type": "code",
      "source": [
        "lifeDict"
      ],
      "metadata": {
        "colab": {
          "base_uri": "https://localhost:8080/"
        },
        "id": "bBPDltQoWGPK",
        "outputId": "a14f0af2-da71-45f2-85b7-1b9823459f3d"
      },
      "execution_count": null,
      "outputs": [
        {
          "output_type": "execute_result",
          "data": {
            "text/plain": [
              "{1: 10, 2: 6, 3: 4, 4: 7, 5: 9, 6: 7, 7: 3, 8: 5, 9: 9, 10: 5}"
            ]
          },
          "metadata": {},
          "execution_count": 94
        }
      ]
    },
    {
      "cell_type": "code",
      "source": [
        "####Matplot"
      ],
      "metadata": {
        "id": "ZORf6VDFWgts"
      },
      "execution_count": null,
      "outputs": []
    },
    {
      "cell_type": "code",
      "source": [
        "import matplotlib.pyplot as plt"
      ],
      "metadata": {
        "id": "9io7XL55WVxs"
      },
      "execution_count": null,
      "outputs": []
    },
    {
      "cell_type": "code",
      "source": [
        "def plot_dictionary_bar(dictionary, x, title):\n",
        "  keys = dictionary.keys()\n",
        "  values = dictionary.values()\n",
        "  plt.bar(keys, values)\n",
        "  plt.xlabel(x)\n",
        "  plt.ylabel('Occurrence')\n",
        "  plt.title(title)\n",
        "\n",
        "  plt.show()"
      ],
      "metadata": {
        "id": "G3Lb8LgpWjo8"
      },
      "execution_count": null,
      "outputs": []
    },
    {
      "cell_type": "code",
      "source": [
        "plot_dictionary_bar(counterLife, \"Life Ball\", \"Life Ball Chart\")"
      ],
      "metadata": {
        "colab": {
          "base_uri": "https://localhost:8080/",
          "height": 472
        },
        "id": "mxNzOeDvWw8K",
        "outputId": "f71befd0-9a12-4ac7-dfcd-f91f10a3563a"
      },
      "execution_count": null,
      "outputs": [
        {
          "output_type": "display_data",
          "data": {
            "text/plain": [
              "<Figure size 640x480 with 1 Axes>"
            ],
            "image/png": "[encoded data removed]"
          },
          "metadata": {}
        }
      ]
    },
    {
      "cell_type": "code",
      "source": [
        "plot_dictionary_bar(counter, \"Ball\", \"Main Balls' Chart\")"
      ],
      "metadata": {
        "colab": {
          "base_uri": "https://localhost:8080/",
          "height": 472
        },
        "id": "tvmJdJWeXESd",
        "outputId": "715b444b-8f16-42e3-a915-766099c79f67"
      },
      "execution_count": null,
      "outputs": [
        {
          "output_type": "display_data",
          "data": {
            "text/plain": [
              "<Figure size 640x480 with 1 Axes>"
            ],
            "image/png": "[encoded data removed]"
          },
          "metadata": {}
        }
      ]
    },
    {
      "cell_type": "code",
      "source": [
        "#numbers"
      ],
      "metadata": {
        "id": "cEuedi7wilDO"
      },
      "execution_count": null,
      "outputs": []
    },
    {
      "cell_type": "code",
      "source": [
        "counterBalls = collections.Counter(longList)\n",
        "#counterBalls"
      ],
      "metadata": {
        "id": "QbpovWy6lHgH"
      },
      "execution_count": null,
      "outputs": []
    },
    {
      "cell_type": "code",
      "source": [
        "#create array of values existing in the dict just to view\n",
        "oSet = set(())\n",
        "for key in counterBalls:\n",
        "  for x in range (1, (numMax+1)):\n",
        "    if counterBalls[key] == x:\n",
        "      oSet.add(x)\n",
        "print(oSet)"
      ],
      "metadata": {
        "colab": {
          "base_uri": "https://localhost:8080/"
        },
        "id": "OC8OyI97GJYC",
        "outputId": "c44b01f5-53eb-4965-f29e-151f0c8a23ac"
      },
      "execution_count": null,
      "outputs": [
        {
          "output_type": "stream",
          "name": "stdout",
          "text": [
            "{1, 2, 3, 4, 5, 6, 7, 8, 9, 10, 11, 12, 13, 18}\n"
          ]
        }
      ]
    },
    {
      "cell_type": "code",
      "source": [
        "def findMax(myDict):\n",
        "  #find max value in dict\n",
        "  numMax = 0\n",
        "  for key in myDict:\n",
        "    if myDict[key] > numMax:\n",
        "      numMax = myDict[key]\n",
        "  return numMax\n"
      ],
      "metadata": {
        "id": "UhU7wRZxHiZN"
      },
      "execution_count": null,
      "outputs": []
    },
    {
      "cell_type": "code",
      "source": [
        "#so now iterate through sortedNumMax list and if counterBalls[sortedNumMax] matches\n",
        "#counterBalls[key], add it to the array. Then when finished, add array to array of arrays\n",
        "\n",
        "\n",
        "def viewFrequency(myDict):\n",
        "  occArr = []\n",
        "  numMax = findMax(myDict)\n",
        "  for x in range(1, (numMax+1)):\n",
        "    #print(f\"oSet: {x}\")\n",
        "    tempArr = []\n",
        "    for key in myDict:\n",
        "      if myDict[key] == x:\n",
        "        tempArr.append(key)\n",
        "        #print(key)\n",
        "    if not tempArr:\n",
        "      #if tempArr is empty, add a 0 as filler, or it ends up leaving it out\n",
        "      tempArr.append(0)\n",
        "    tempArr.sort()\n",
        "    occArr.append(tempArr)\n",
        "  return occArr, numMax\n",
        "\n",
        "\n"
      ],
      "metadata": {
        "id": "v1aWggWyJGSR"
      },
      "execution_count": null,
      "outputs": []
    },
    {
      "cell_type": "code",
      "source": [
        "occArr, numMax = viewFrequency(counterBalls)\n",
        "print(occArr)"
      ],
      "metadata": {
        "colab": {
          "base_uri": "https://localhost:8080/"
        },
        "id": "t2ko_O_cEJoJ",
        "outputId": "680859ad-2162-46a1-a12c-be52dac7d2ee"
      },
      "execution_count": null,
      "outputs": [
        {
          "output_type": "stream",
          "name": "stdout",
          "text": [
            "[[31], [32], [8, 25, 33], [17, 22, 24, 45], [1, 10, 16, 20, 28, 34, 37, 39, 47], [2, 9], [5, 7, 15, 27, 29, 30, 38, 42, 43], [4, 13, 18, 21, 36, 40], [14, 23, 26, 44, 46], [3, 6, 19], [12], [41], [35], [0], [0], [0], [0], [11]]\n"
          ]
        }
      ]
    },
    {
      "cell_type": "code",
      "source": [
        "##finally, create the viewer by adding each array to it's corresponding occurence\n",
        "def createViewer(arrOcc, nMax):\n",
        "  viewDictAll = {}\n",
        "  for x in range(1, (nMax + 1)):\n",
        "    viewDictAll[x] = arrOcc[x-1]\n",
        "  return viewDictAll\n"
      ],
      "metadata": {
        "id": "ySXSnfh71IX6"
      },
      "execution_count": null,
      "outputs": []
    },
    {
      "cell_type": "code",
      "source": [
        "viewDictAll = createViewer(occArr, numMax)"
      ],
      "metadata": {
        "id": "pqfP7UFnGekZ"
      },
      "execution_count": null,
      "outputs": []
    },
    {
      "cell_type": "code",
      "source": [
        "numbers_ten, longList_ten = createLongList(sfl_ten_df)"
      ],
      "metadata": {
        "id": "a3bdtANxHrGu"
      },
      "execution_count": null,
      "outputs": []
    },
    {
      "cell_type": "code",
      "source": [
        "lifeBalls_ten = createLifeBalls(sfl_ten_df)"
      ],
      "metadata": {
        "id": "A4bvdZs1Jdsa"
      },
      "execution_count": null,
      "outputs": []
    },
    {
      "cell_type": "code",
      "source": [
        "#This counts how many of each number there are in longList\n",
        "counter_ten = collections.Counter(longList_ten)\n",
        "\n",
        "lifeBallsSorted_ten = lifeBalls_ten.copy()\n",
        "lifeBallsSorted_ten.sort()\n",
        "counterLife_ten = collections.Counter(lifeBallsSorted_ten)"
      ],
      "metadata": {
        "id": "vSFQMOQKK165"
      },
      "execution_count": null,
      "outputs": []
    },
    {
      "cell_type": "code",
      "source": [
        "tenArr, max_ten = viewFrequency(counter_ten)"
      ],
      "metadata": {
        "id": "wG31XiyYLltw"
      },
      "execution_count": null,
      "outputs": []
    },
    {
      "cell_type": "code",
      "source": [
        "viewDictLast10 = createViewer(tenArr, max_ten)"
      ],
      "metadata": {
        "id": "x6UfW1NAGB8-"
      },
      "execution_count": null,
      "outputs": []
    },
    {
      "cell_type": "code",
      "source": [
        "viewDictLast10"
      ],
      "metadata": {
        "colab": {
          "base_uri": "https://localhost:8080/"
        },
        "id": "-Umsfw_bLsSY",
        "outputId": "f75ab2d3-9cfb-48d9-b1f0-a6c70bdaf85e"
      },
      "execution_count": null,
      "outputs": [
        {
          "output_type": "execute_result",
          "data": {
            "text/plain": [
              "{1: [1, 4, 9, 10, 13, 14, 16, 17, 21, 22, 23, 24, 30, 36, 38, 40, 42, 44],\n",
              " 2: [2, 5, 6, 18, 27, 43],\n",
              " 3: [3, 26, 35, 41],\n",
              " 4: [11, 19]}"
            ]
          },
          "metadata": {},
          "execution_count": 111
        }
      ]
    },
    {
      "cell_type": "code",
      "source": [
        "viewDictAll"
      ],
      "metadata": {
        "colab": {
          "base_uri": "https://localhost:8080/"
        },
        "id": "ZLKWwKYD2TdX",
        "outputId": "16008717-6ba9-4a5b-a098-f752a3b3f47f"
      },
      "execution_count": null,
      "outputs": [
        {
          "output_type": "execute_result",
          "data": {
            "text/plain": [
              "{1: [31],\n",
              " 2: [32],\n",
              " 3: [8, 25, 33],\n",
              " 4: [17, 22, 24, 45],\n",
              " 5: [1, 10, 16, 20, 28, 34, 37, 39, 47],\n",
              " 6: [2, 9],\n",
              " 7: [5, 7, 15, 27, 29, 30, 38, 42, 43],\n",
              " 8: [4, 13, 18, 21, 36, 40],\n",
              " 9: [14, 23, 26, 44, 46],\n",
              " 10: [3, 6, 19],\n",
              " 11: [12],\n",
              " 12: [41],\n",
              " 13: [35],\n",
              " 14: [0],\n",
              " 15: [0],\n",
              " 16: [0],\n",
              " 17: [0],\n",
              " 18: [11]}"
            ]
          },
          "metadata": {},
          "execution_count": 108
        }
      ]
    },
    {
      "cell_type": "code",
      "source": [
        "numbers"
      ],
      "metadata": {
        "colab": {
          "base_uri": "https://localhost:8080/"
        },
        "id": "24yvzWoB2VOV",
        "outputId": "d92da885-cc0b-449f-d4c3-b511d6bed2c8"
      },
      "execution_count": null,
      "outputs": [
        {
          "output_type": "execute_result",
          "data": {
            "text/plain": [
              "[[6, 18, 26, 35, 41],\n",
              " [1, 3, 21, 22, 27],\n",
              " [11, 13, 19, 27, 42],\n",
              " [3, 5, 6, 36, 43],\n",
              " [2, 9, 16, 17, 41],\n",
              " [19, 30, 35, 40, 44],\n",
              " [5, 10, 19, 26, 41],\n",
              " [11, 23, 24, 26, 35],\n",
              " [3, 4, 11, 14, 18],\n",
              " [2, 11, 19, 38, 43],\n",
              " [4, 11, 22, 25, 34],\n",
              " [12, 21, 30, 35, 44],\n",
              " [11, 29, 32, 34, 42],\n",
              " [7, 15, 25, 30, 38],\n",
              " [4, 6, 28, 29, 45],\n",
              " [3, 10, 21, 24, 39],\n",
              " [16, 17, 19, 23, 38],\n",
              " [7, 11, 12, 36, 46],\n",
              " [5, 11, 25, 30, 42],\n",
              " [6, 20, 27, 29, 36],\n",
              " [13, 19, 26, 37, 43],\n",
              " [3, 4, 8, 10, 28],\n",
              " [3, 7, 11, 23, 29],\n",
              " [7, 29, 35, 40, 46],\n",
              " [7, 20, 23, 36, 44],\n",
              " [6, 23, 26, 27, 34],\n",
              " [9, 15, 22, 40, 44],\n",
              " [4, 14, 21, 35, 36],\n",
              " [15, 16, 23, 35, 42],\n",
              " [19, 31, 37, 39, 40],\n",
              " [12, 14, 26, 39, 46],\n",
              " [1, 20, 26, 36, 38],\n",
              " [13, 14, 35, 36, 41],\n",
              " [2, 15, 21, 41, 47],\n",
              " [4, 8, 17, 18, 21],\n",
              " [1, 13, 18, 32, 47],\n",
              " [12, 13, 16, 21, 44],\n",
              " [12, 14, 20, 28, 41],\n",
              " [2, 3, 37, 39, 45],\n",
              " [4, 11, 16, 46, 47],\n",
              " [5, 40, 42, 43, 46],\n",
              " [10, 12, 35, 37, 47],\n",
              " [10, 14, 19, 35, 41],\n",
              " [6, 9, 11, 22, 46],\n",
              " [12, 18, 30, 40, 41],\n",
              " [3, 11, 33, 38, 45],\n",
              " [9, 11, 27, 36, 47],\n",
              " [2, 5, 11, 15, 27],\n",
              " [12, 20, 41, 42, 46],\n",
              " [6, 12, 13, 18, 19],\n",
              " [2, 11, 23, 43, 46],\n",
              " [11, 30, 34, 35, 38],\n",
              " [12, 14, 38, 41, 44],\n",
              " [13, 30, 33, 35, 43],\n",
              " [9, 19, 41, 44, 46],\n",
              " [6, 11, 29, 40, 44],\n",
              " [5, 6, 18, 39, 45],\n",
              " [1, 7, 14, 15, 26],\n",
              " [18, 23, 28, 29, 37],\n",
              " [6, 12, 13, 15, 41],\n",
              " [7, 17, 23, 24, 40],\n",
              " [1, 3, 11, 28, 43],\n",
              " [8, 27, 33, 34, 44],\n",
              " [4, 5, 14, 24, 35],\n",
              " [3, 9, 21, 26, 42]]"
            ]
          },
          "metadata": {},
          "execution_count": 44
        }
      ]
    },
    {
      "cell_type": "code",
      "source": [
        "lifeBalls"
      ],
      "metadata": {
        "colab": {
          "base_uri": "https://localhost:8080/"
        },
        "id": "KjERlbzvWmtR",
        "outputId": "20f922a0-6410-44bb-e5bd-50014a88e587"
      },
      "execution_count": null,
      "outputs": [
        {
          "output_type": "execute_result",
          "data": {
            "text/plain": [
              "[5,\n",
              " 10,\n",
              " 8,\n",
              " 1,\n",
              " 3,\n",
              " 2,\n",
              " 4,\n",
              " 2,\n",
              " 7,\n",
              " 6,\n",
              " 6,\n",
              " 9,\n",
              " 9,\n",
              " 9,\n",
              " 4,\n",
              " 2,\n",
              " 5,\n",
              " 9,\n",
              " 6,\n",
              " 8,\n",
              " 5,\n",
              " 1,\n",
              " 7,\n",
              " 8,\n",
              " 4,\n",
              " 2,\n",
              " 5,\n",
              " 5,\n",
              " 1,\n",
              " 4,\n",
              " 4,\n",
              " 6,\n",
              " 9,\n",
              " 2,\n",
              " 6,\n",
              " 1,\n",
              " 10,\n",
              " 9,\n",
              " 1,\n",
              " 1,\n",
              " 4,\n",
              " 1,\n",
              " 1,\n",
              " 5,\n",
              " 8,\n",
              " 10,\n",
              " 9,\n",
              " 10,\n",
              " 8,\n",
              " 7,\n",
              " 10,\n",
              " 1,\n",
              " 5,\n",
              " 6,\n",
              " 4,\n",
              " 5,\n",
              " 3,\n",
              " 2,\n",
              " 3,\n",
              " 9,\n",
              " 1,\n",
              " 9,\n",
              " 5,\n",
              " 3,\n",
              " 6]"
            ]
          },
          "metadata": {},
          "execution_count": 45
        }
      ]
    },
    {
      "cell_type": "code",
      "source": [
        "march14 = [13, 17, 31, 41, 46]\n",
        "march22 = [4, 15, 21, 27, 38]\n",
        "lifeMarch21 = 6\n",
        "\n",
        "lifeApril18 = 4\n",
        "april18 = [6, 14, 30, 36, 41]\n",
        "april21 = [12, 19, 30, 36, 43]\n",
        "lifeApril21 = 4"
      ],
      "metadata": {
        "id": "KIx0HQ4_Y-de"
      },
      "execution_count": null,
      "outputs": []
    },
    {
      "cell_type": "code",
      "source": [
        "sfl_ten_df = sfl_df.head(10)\n",
        "sfl_ten_df.tail()"
      ],
      "metadata": {
        "id": "XKLFjct8Xvf5",
        "colab": {
          "base_uri": "https://localhost:8080/",
          "height": 238
        },
        "outputId": "fcbb3c42-9f69-4645-86bd-f51f56258c3c"
      },
      "execution_count": null,
      "outputs": [
        {
          "output_type": "execute_result",
          "data": {
            "text/plain": [
              "            Ball 1  Ball 2  Ball 3  Ball 4  Ball 5  Life Ball\n",
              "DrawDate                                                     \n",
              "2024-04-01      35      44      40      30      19          2\n",
              "2024-03-28       5      19      41      10      26          4\n",
              "2024-03-25      23      11      24      26      35          2\n",
              "2024-03-21      18      14       4      11       3          7\n",
              "2024-03-18      19      11       2      38      43          6"
            ],
            "text/html": [
              "\n",
              "  <div id=\"df-1fce8c1d-8916-479d-a534-e6da3ef636f9\" class=\"colab-df-container\">\n",
              "    <div>\n",
              "<style scoped>\n",
              "    .dataframe tbody tr th:only-of-type {\n",
              "        vertical-align: middle;\n",
              "    }\n",
              "\n",
              "    .dataframe tbody tr th {\n",
              "        vertical-align: top;\n",
              "    }\n",
              "\n",
              "    .dataframe thead th {\n",
              "        text-align: right;\n",
              "    }\n",
              "</style>\n",
              "<table border=\"1\" class=\"dataframe\">\n",
              "  <thead>\n",
              "    <tr style=\"text-align: right;\">\n",
              "      <th></th>\n",
              "      <th>Ball 1</th>\n",
              "      <th>Ball 2</th>\n",
              "      <th>Ball 3</th>\n",
              "      <th>Ball 4</th>\n",
              "      <th>Ball 5</th>\n",
              "      <th>Life Ball</th>\n",
              "    </tr>\n",
              "    <tr>\n",
              "      <th>DrawDate</th>\n",
              "      <th></th>\n",
              "      <th></th>\n",
              "      <th></th>\n",
              "      <th></th>\n",
              "      <th></th>\n",
              "      <th></th>\n",
              "    </tr>\n",
              "  </thead>\n",
              "  <tbody>\n",
              "    <tr>\n",
              "      <th>2024-04-01</th>\n",
              "      <td>35</td>\n",
              "      <td>44</td>\n",
              "      <td>40</td>\n",
              "      <td>30</td>\n",
              "      <td>19</td>\n",
              "      <td>2</td>\n",
              "    </tr>\n",
              "    <tr>\n",
              "      <th>2024-03-28</th>\n",
              "      <td>5</td>\n",
              "      <td>19</td>\n",
              "      <td>41</td>\n",
              "      <td>10</td>\n",
              "      <td>26</td>\n",
              "      <td>4</td>\n",
              "    </tr>\n",
              "    <tr>\n",
              "      <th>2024-03-25</th>\n",
              "      <td>23</td>\n",
              "      <td>11</td>\n",
              "      <td>24</td>\n",
              "      <td>26</td>\n",
              "      <td>35</td>\n",
              "      <td>2</td>\n",
              "    </tr>\n",
              "    <tr>\n",
              "      <th>2024-03-21</th>\n",
              "      <td>18</td>\n",
              "      <td>14</td>\n",
              "      <td>4</td>\n",
              "      <td>11</td>\n",
              "      <td>3</td>\n",
              "      <td>7</td>\n",
              "    </tr>\n",
              "    <tr>\n",
              "      <th>2024-03-18</th>\n",
              "      <td>19</td>\n",
              "      <td>11</td>\n",
              "      <td>2</td>\n",
              "      <td>38</td>\n",
              "      <td>43</td>\n",
              "      <td>6</td>\n",
              "    </tr>\n",
              "  </tbody>\n",
              "</table>\n",
              "</div>\n",
              "    <div class=\"colab-df-buttons\">\n",
              "\n",
              "  <div class=\"colab-df-container\">\n",
              "    <button class=\"colab-df-convert\" onclick=\"convertToInteractive('df-1fce8c1d-8916-479d-a534-e6da3ef636f9')\"\n",
              "            title=\"Convert this dataframe to an interactive table.\"\n",
              "            style=\"display:none;\">\n",
              "\n",
              "  <svg xmlns=\"http://www.w3.org/2000/svg\" height=\"24px\" viewBox=\"0 -960 960 960\">\n",
              "    <path d=\"M120-120v-720h720v720H120Zm60-500h600v-160H180v160Zm220 220h160v-160H400v160Zm0 220h160v-160H400v160ZM180-400h160v-160H180v160Zm440 0h160v-160H620v160ZM180-180h160v-160H180v160Zm440 0h160v-160H620v160Z\"/>\n",
              "  </svg>\n",
              "    </button>\n",
              "\n",
              "  <style>\n",
              "    .colab-df-container {\n",
              "      display:flex;\n",
              "      gap: 12px;\n",
              "    }\n",
              "\n",
              "    .colab-df-convert {\n",
              "      background-color: #E8F0FE;\n",
              "      border: none;\n",
              "      border-radius: 50%;\n",
              "      cursor: pointer;\n",
              "      display: none;\n",
              "      fill: #1967D2;\n",
              "      height: 32px;\n",
              "      padding: 0 0 0 0;\n",
              "      width: 32px;\n",
              "    }\n",
              "\n",
              "    .colab-df-convert:hover {\n",
              "      background-color: #E2EBFA;\n",
              "      box-shadow: 0px 1px 2px rgba(60, 64, 67, 0.3), 0px 1px 3px 1px rgba(60, 64, 67, 0.15);\n",
              "      fill: #174EA6;\n",
              "    }\n",
              "\n",
              "    .colab-df-buttons div {\n",
              "      margin-bottom: 4px;\n",
              "    }\n",
              "\n",
              "    [theme=dark] .colab-df-convert {\n",
              "      background-color: #3B4455;\n",
              "      fill: #D2E3FC;\n",
              "    }\n",
              "\n",
              "    [theme=dark] .colab-df-convert:hover {\n",
              "      background-color: #434B5C;\n",
              "      box-shadow: 0px 1px 3px 1px rgba(0, 0, 0, 0.15);\n",
              "      filter: drop-shadow(0px 1px 2px rgba(0, 0, 0, 0.3));\n",
              "      fill: #FFFFFF;\n",
              "    }\n",
              "  </style>\n",
              "\n",
              "    <script>\n",
              "      const buttonEl =\n",
              "        document.querySelector('#df-1fce8c1d-8916-479d-a534-e6da3ef636f9 button.colab-df-convert');\n",
              "      buttonEl.style.display =\n",
              "        google.colab.kernel.accessAllowed ? 'block' : 'none';\n",
              "\n",
              "      async function convertToInteractive(key) {\n",
              "        const element = document.querySelector('#df-1fce8c1d-8916-479d-a534-e6da3ef636f9');\n",
              "        const dataTable =\n",
              "          await google.colab.kernel.invokeFunction('convertToInteractive',\n",
              "                                                    [key], {});\n",
              "        if (!dataTable) return;\n",
              "\n",
              "        const docLinkHtml = 'Like what you see? Visit the ' +\n",
              "          '<a target=\"_blank\" href=https://colab.research.google.com/notebooks/data_table.ipynb>data table notebook</a>'\n",
              "          + ' to learn more about interactive tables.';\n",
              "        element.innerHTML = '';\n",
              "        dataTable['output_type'] = 'display_data';\n",
              "        await google.colab.output.renderOutput(dataTable, element);\n",
              "        const docLink = document.createElement('div');\n",
              "        docLink.innerHTML = docLinkHtml;\n",
              "        element.appendChild(docLink);\n",
              "      }\n",
              "    </script>\n",
              "  </div>\n",
              "\n",
              "\n",
              "<div id=\"df-ed9a6216-781a-4b6d-bad6-9aeaeab1c247\">\n",
              "  <button class=\"colab-df-quickchart\" onclick=\"quickchart('df-ed9a6216-781a-4b6d-bad6-9aeaeab1c247')\"\n",
              "            title=\"Suggest charts\"\n",
              "            style=\"display:none;\">\n",
              "\n",
              "<svg xmlns=\"http://www.w3.org/2000/svg\" height=\"24px\"viewBox=\"0 0 24 24\"\n",
              "     width=\"24px\">\n",
              "    <g>\n",
              "        <path d=\"M19 3H5c-1.1 0-2 .9-2 2v14c0 1.1.9 2 2 2h14c1.1 0 2-.9 2-2V5c0-1.1-.9-2-2-2zM9 17H7v-7h2v7zm4 0h-2V7h2v10zm4 0h-2v-4h2v4z\"/>\n",
              "    </g>\n",
              "</svg>\n",
              "  </button>\n",
              "\n",
              "<style>\n",
              "  .colab-df-quickchart {\n",
              "      --bg-color: #E8F0FE;\n",
              "      --fill-color: #1967D2;\n",
              "      --hover-bg-color: #E2EBFA;\n",
              "      --hover-fill-color: #174EA6;\n",
              "      --disabled-fill-color: #AAA;\n",
              "      --disabled-bg-color: #DDD;\n",
              "  }\n",
              "\n",
              "  [theme=dark] .colab-df-quickchart {\n",
              "      --bg-color: #3B4455;\n",
              "      --fill-color: #D2E3FC;\n",
              "      --hover-bg-color: #434B5C;\n",
              "      --hover-fill-color: #FFFFFF;\n",
              "      --disabled-bg-color: #3B4455;\n",
              "      --disabled-fill-color: #666;\n",
              "  }\n",
              "\n",
              "  .colab-df-quickchart {\n",
              "    background-color: var(--bg-color);\n",
              "    border: none;\n",
              "    border-radius: 50%;\n",
              "    cursor: pointer;\n",
              "    display: none;\n",
              "    fill: var(--fill-color);\n",
              "    height: 32px;\n",
              "    padding: 0;\n",
              "    width: 32px;\n",
              "  }\n",
              "\n",
              "  .colab-df-quickchart:hover {\n",
              "    background-color: var(--hover-bg-color);\n",
              "    box-shadow: 0 1px 2px rgba(60, 64, 67, 0.3), 0 1px 3px 1px rgba(60, 64, 67, 0.15);\n",
              "    fill: var(--button-hover-fill-color);\n",
              "  }\n",
              "\n",
              "  .colab-df-quickchart-complete:disabled,\n",
              "  .colab-df-quickchart-complete:disabled:hover {\n",
              "    background-color: var(--disabled-bg-color);\n",
              "    fill: var(--disabled-fill-color);\n",
              "    box-shadow: none;\n",
              "  }\n",
              "\n",
              "  .colab-df-spinner {\n",
              "    border: 2px solid var(--fill-color);\n",
              "    border-color: transparent;\n",
              "    border-bottom-color: var(--fill-color);\n",
              "    animation:\n",
              "      spin 1s steps(1) infinite;\n",
              "  }\n",
              "\n",
              "  @keyframes spin {\n",
              "    0% {\n",
              "      border-color: transparent;\n",
              "      border-bottom-color: var(--fill-color);\n",
              "      border-left-color: var(--fill-color);\n",
              "    }\n",
              "    20% {\n",
              "      border-color: transparent;\n",
              "      border-left-color: var(--fill-color);\n",
              "      border-top-color: var(--fill-color);\n",
              "    }\n",
              "    30% {\n",
              "      border-color: transparent;\n",
              "      border-left-color: var(--fill-color);\n",
              "      border-top-color: var(--fill-color);\n",
              "      border-right-color: var(--fill-color);\n",
              "    }\n",
              "    40% {\n",
              "      border-color: transparent;\n",
              "      border-right-color: var(--fill-color);\n",
              "      border-top-color: var(--fill-color);\n",
              "    }\n",
              "    60% {\n",
              "      border-color: transparent;\n",
              "      border-right-color: var(--fill-color);\n",
              "    }\n",
              "    80% {\n",
              "      border-color: transparent;\n",
              "      border-right-color: var(--fill-color);\n",
              "      border-bottom-color: var(--fill-color);\n",
              "    }\n",
              "    90% {\n",
              "      border-color: transparent;\n",
              "      border-bottom-color: var(--fill-color);\n",
              "    }\n",
              "  }\n",
              "</style>\n",
              "\n",
              "  <script>\n",
              "    async function quickchart(key) {\n",
              "      const quickchartButtonEl =\n",
              "        document.querySelector('#' + key + ' button');\n",
              "      quickchartButtonEl.disabled = true;  // To prevent multiple clicks.\n",
              "      quickchartButtonEl.classList.add('colab-df-spinner');\n",
              "      try {\n",
              "        const charts = await google.colab.kernel.invokeFunction(\n",
              "            'suggestCharts', [key], {});\n",
              "      } catch (error) {\n",
              "        console.error('Error during call to suggestCharts:', error);\n",
              "      }\n",
              "      quickchartButtonEl.classList.remove('colab-df-spinner');\n",
              "      quickchartButtonEl.classList.add('colab-df-quickchart-complete');\n",
              "    }\n",
              "    (() => {\n",
              "      let quickchartButtonEl =\n",
              "        document.querySelector('#df-ed9a6216-781a-4b6d-bad6-9aeaeab1c247 button');\n",
              "      quickchartButtonEl.style.display =\n",
              "        google.colab.kernel.accessAllowed ? 'block' : 'none';\n",
              "    })();\n",
              "  </script>\n",
              "</div>\n",
              "    </div>\n",
              "  </div>\n"
            ],
            "application/vnd.google.colaboratory.intrinsic+json": {
              "type": "dataframe",
              "summary": "{\n  \"name\": \"sfl_ten_df\",\n  \"rows\": 5,\n  \"fields\": [\n    {\n      \"column\": \"DrawDate\",\n      \"properties\": {\n        \"dtype\": \"date\",\n        \"min\": \"2024-03-18 00:00:00\",\n        \"max\": \"2024-04-01 00:00:00\",\n        \"num_unique_values\": 5,\n        \"samples\": [\n          \"2024-03-28 00:00:00\",\n          \"2024-03-18 00:00:00\",\n          \"2024-03-25 00:00:00\"\n        ],\n        \"semantic_type\": \"\",\n        \"description\": \"\"\n      }\n    },\n    {\n      \"column\": \"Ball 1\",\n      \"properties\": {\n        \"dtype\": \"number\",\n        \"std\": 10,\n        \"min\": 5,\n        \"max\": 35,\n        \"num_unique_values\": 5,\n        \"samples\": [\n          5,\n          19,\n          23\n        ],\n        \"semantic_type\": \"\",\n        \"description\": \"\"\n      }\n    },\n    {\n      \"column\": \"Ball 2\",\n      \"properties\": {\n        \"dtype\": \"number\",\n        \"std\": 13,\n        \"min\": 11,\n        \"max\": 44,\n        \"num_unique_values\": 4,\n        \"samples\": [\n          19,\n          14,\n          44\n        ],\n        \"semantic_type\": \"\",\n        \"description\": \"\"\n      }\n    },\n    {\n      \"column\": \"Ball 3\",\n      \"properties\": {\n        \"dtype\": \"number\",\n        \"std\": 18,\n        \"min\": 2,\n        \"max\": 41,\n        \"num_unique_values\": 5,\n        \"samples\": [\n          41,\n          2,\n          24\n        ],\n        \"semantic_type\": \"\",\n        \"description\": \"\"\n      }\n    },\n    {\n      \"column\": \"Ball 4\",\n      \"properties\": {\n        \"dtype\": \"number\",\n        \"std\": 12,\n        \"min\": 10,\n        \"max\": 38,\n        \"num_unique_values\": 5,\n        \"samples\": [\n          10,\n          38,\n          26\n        ],\n        \"semantic_type\": \"\",\n        \"description\": \"\"\n      }\n    },\n    {\n      \"column\": \"Ball 5\",\n      \"properties\": {\n        \"dtype\": \"number\",\n        \"std\": 15,\n        \"min\": 3,\n        \"max\": 43,\n        \"num_unique_values\": 5,\n        \"samples\": [\n          26,\n          43,\n          35\n        ],\n        \"semantic_type\": \"\",\n        \"description\": \"\"\n      }\n    },\n    {\n      \"column\": \"Life Ball\",\n      \"properties\": {\n        \"dtype\": \"number\",\n        \"std\": 2,\n        \"min\": 2,\n        \"max\": 7,\n        \"num_unique_values\": 4,\n        \"samples\": [\n          4,\n          6,\n          2\n        ],\n        \"semantic_type\": \"\",\n        \"description\": \"\"\n      }\n    }\n  ]\n}"
            }
          },
          "metadata": {},
          "execution_count": 99
        }
      ]
    },
    {
      "cell_type": "code",
      "source": [
        "#calculate odds!!!!\n",
        "#    n!\n",
        "#   -----\n",
        "#    n! (n - r)!\n",
        "\n",
        "#where n = total number of balls and r = balls drawn\n",
        "#so it's 47! / 5! * (47 - 5)\n",
        "# 47! / 5! * 42!\n",
        "\n",
        "#but this only calcalates getting the 5 numbers, not the"
      ],
      "metadata": {
        "id": "kZKDYziTLuND"
      },
      "execution_count": null,
      "outputs": []
    },
    {
      "cell_type": "code",
      "source": [
        "def findFactorial(number):\n",
        "  factorial = number\n",
        "  num = (number - 1)\n",
        "  while num > 0:\n",
        "    factorial = num * factorial\n",
        "    num -= 1\n",
        "  return factorial\n"
      ],
      "metadata": {
        "id": "_4K54OEeP1Nc"
      },
      "execution_count": null,
      "outputs": []
    },
    {
      "cell_type": "code",
      "source": [
        "fact47 = findFactorial(47)\n",
        "fact5 = findFactorial(5)\n",
        "fact42 = findFactorial(42)\n",
        "fiveBallsOdds = fact47 / (fact5 * fact42)\n",
        "fiveBallsOdds"
      ],
      "metadata": {
        "colab": {
          "base_uri": "https://localhost:8080/"
        },
        "id": "LRW_2fz7P771",
        "outputId": "e8facd0f-1b08-4f24-c8b1-fffbf976b7c9"
      },
      "execution_count": null,
      "outputs": [
        {
          "output_type": "execute_result",
          "data": {
            "text/plain": [
              "1533939.0"
            ]
          },
          "metadata": {},
          "execution_count": 132
        }
      ]
    },
    {
      "cell_type": "code",
      "source": [],
      "metadata": {
        "id": "QlHrzeLvQt3M"
      },
      "execution_count": null,
      "outputs": []
    }
  ]
}