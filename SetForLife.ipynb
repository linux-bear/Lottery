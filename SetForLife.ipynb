{
  "nbformat": 4,
  "nbformat_minor": 0,
  "metadata": {
    "colab": {
      "provenance": []
    },
    "kernelspec": {
      "name": "python3",
      "display_name": "Python 3"
    },
    "language_info": {
      "name": "python"
    }
  },
  "cells": [
    {
      "cell_type": "code",
      "execution_count": 210,
      "metadata": {
        "id": "JGkjvhJH57Cb"
      },
      "outputs": [],
      "source": [
        "import pandas as pd\n"
      ]
    },
    {
      "cell_type": "code",
      "source": [
        "ls drive/MyDrive/Colab\\ Notebooks"
      ],
      "metadata": {
        "colab": {
          "base_uri": "https://localhost:8080/"
        },
        "id": "GwUi8nNnUWFO",
        "outputId": "fd178ed5-7348-4633-d6ec-41e869a1abf9"
      },
      "execution_count": 211,
      "outputs": [
        {
          "output_type": "stream",
          "name": "stdout",
          "text": [
            " BOS_November06_2022.csv            NewburyFloodData.ipynb\n",
            "'Copy of Welcome To Colaboratory'   setForLife.csv\n",
            " Finances22.ipynb                   set-for-life-draw-history-4Mar24.csv\n",
            "'finances Nov 22.gsheet'            SetForLife.ipynb\n",
            " NewburyFloodDataFlowOnly.csv\n"
          ]
        }
      ]
    },
    {
      "cell_type": "code",
      "source": [
        "ls"
      ],
      "metadata": {
        "colab": {
          "base_uri": "https://localhost:8080/"
        },
        "id": "vKSzNxtJWZVi",
        "outputId": "cc97b260-75ec-42f2-a377-9bf4b44b5702"
      },
      "execution_count": 212,
      "outputs": [
        {
          "output_type": "stream",
          "name": "stdout",
          "text": [
            "\u001b[0m\u001b[01;34mdrive\u001b[0m/  \u001b[01;34msample_data\u001b[0m/\n"
          ]
        }
      ]
    },
    {
      "cell_type": "code",
      "source": [
        "sfl_df = pd.read_csv(\"./drive/MyDrive/Colab Notebooks/setForLife.csv\")"
      ],
      "metadata": {
        "id": "ZjPUDCIX69hI"
      },
      "execution_count": 213,
      "outputs": []
    },
    {
      "cell_type": "code",
      "source": [
        "#print(sfl_df)"
      ],
      "metadata": {
        "id": "eYqw3qEj7K2t"
      },
      "execution_count": 214,
      "outputs": []
    },
    {
      "cell_type": "code",
      "source": [
        "sfl_edit_df = sfl_df[[\"DrawDate\", \"Ball 1\", \"Ball 2\", \"Ball 3\", \"Ball 4\", \"Ball 5\", \"Life Ball\"]]"
      ],
      "metadata": {
        "id": "_Q9eaVR37ST1"
      },
      "execution_count": 215,
      "outputs": []
    },
    {
      "cell_type": "code",
      "source": [
        "sfl_edit_df.head()"
      ],
      "metadata": {
        "colab": {
          "base_uri": "https://localhost:8080/",
          "height": 206
        },
        "id": "JpVMp3E6TOXt",
        "outputId": "8670f483-7f7f-4eaf-aba2-5217cea82286"
      },
      "execution_count": 216,
      "outputs": [
        {
          "output_type": "execute_result",
          "data": {
            "text/plain": [
              "      DrawDate  Ball 1  Ball 2  Ball 3  Ball 4  Ball 5  Life Ball\n",
              "0  21-Mar-2024      18      14       4      11       3          7\n",
              "1  18-Mar-2024      19      11       2      38      43          6\n",
              "2  14-Mar-2024       4      11      34      22      25          6\n",
              "3  11-Mar-2024      44      30      12      35      21          9\n",
              "4  07-Mar-2024      34      42      11      32      29          9"
            ],
            "text/html": [
              "\n",
              "  <div id=\"df-24482843-6333-44d4-9d44-8bf29a7a452e\" class=\"colab-df-container\">\n",
              "    <div>\n",
              "<style scoped>\n",
              "    .dataframe tbody tr th:only-of-type {\n",
              "        vertical-align: middle;\n",
              "    }\n",
              "\n",
              "    .dataframe tbody tr th {\n",
              "        vertical-align: top;\n",
              "    }\n",
              "\n",
              "    .dataframe thead th {\n",
              "        text-align: right;\n",
              "    }\n",
              "</style>\n",
              "<table border=\"1\" class=\"dataframe\">\n",
              "  <thead>\n",
              "    <tr style=\"text-align: right;\">\n",
              "      <th></th>\n",
              "      <th>DrawDate</th>\n",
              "      <th>Ball 1</th>\n",
              "      <th>Ball 2</th>\n",
              "      <th>Ball 3</th>\n",
              "      <th>Ball 4</th>\n",
              "      <th>Ball 5</th>\n",
              "      <th>Life Ball</th>\n",
              "    </tr>\n",
              "  </thead>\n",
              "  <tbody>\n",
              "    <tr>\n",
              "      <th>0</th>\n",
              "      <td>21-Mar-2024</td>\n",
              "      <td>18</td>\n",
              "      <td>14</td>\n",
              "      <td>4</td>\n",
              "      <td>11</td>\n",
              "      <td>3</td>\n",
              "      <td>7</td>\n",
              "    </tr>\n",
              "    <tr>\n",
              "      <th>1</th>\n",
              "      <td>18-Mar-2024</td>\n",
              "      <td>19</td>\n",
              "      <td>11</td>\n",
              "      <td>2</td>\n",
              "      <td>38</td>\n",
              "      <td>43</td>\n",
              "      <td>6</td>\n",
              "    </tr>\n",
              "    <tr>\n",
              "      <th>2</th>\n",
              "      <td>14-Mar-2024</td>\n",
              "      <td>4</td>\n",
              "      <td>11</td>\n",
              "      <td>34</td>\n",
              "      <td>22</td>\n",
              "      <td>25</td>\n",
              "      <td>6</td>\n",
              "    </tr>\n",
              "    <tr>\n",
              "      <th>3</th>\n",
              "      <td>11-Mar-2024</td>\n",
              "      <td>44</td>\n",
              "      <td>30</td>\n",
              "      <td>12</td>\n",
              "      <td>35</td>\n",
              "      <td>21</td>\n",
              "      <td>9</td>\n",
              "    </tr>\n",
              "    <tr>\n",
              "      <th>4</th>\n",
              "      <td>07-Mar-2024</td>\n",
              "      <td>34</td>\n",
              "      <td>42</td>\n",
              "      <td>11</td>\n",
              "      <td>32</td>\n",
              "      <td>29</td>\n",
              "      <td>9</td>\n",
              "    </tr>\n",
              "  </tbody>\n",
              "</table>\n",
              "</div>\n",
              "    <div class=\"colab-df-buttons\">\n",
              "\n",
              "  <div class=\"colab-df-container\">\n",
              "    <button class=\"colab-df-convert\" onclick=\"convertToInteractive('df-24482843-6333-44d4-9d44-8bf29a7a452e')\"\n",
              "            title=\"Convert this dataframe to an interactive table.\"\n",
              "            style=\"display:none;\">\n",
              "\n",
              "  <svg xmlns=\"http://www.w3.org/2000/svg\" height=\"24px\" viewBox=\"0 -960 960 960\">\n",
              "    <path d=\"M120-120v-720h720v720H120Zm60-500h600v-160H180v160Zm220 220h160v-160H400v160Zm0 220h160v-160H400v160ZM180-400h160v-160H180v160Zm440 0h160v-160H620v160ZM180-180h160v-160H180v160Zm440 0h160v-160H620v160Z\"/>\n",
              "  </svg>\n",
              "    </button>\n",
              "\n",
              "  <style>\n",
              "    .colab-df-container {\n",
              "      display:flex;\n",
              "      gap: 12px;\n",
              "    }\n",
              "\n",
              "    .colab-df-convert {\n",
              "      background-color: #E8F0FE;\n",
              "      border: none;\n",
              "      border-radius: 50%;\n",
              "      cursor: pointer;\n",
              "      display: none;\n",
              "      fill: #1967D2;\n",
              "      height: 32px;\n",
              "      padding: 0 0 0 0;\n",
              "      width: 32px;\n",
              "    }\n",
              "\n",
              "    .colab-df-convert:hover {\n",
              "      background-color: #E2EBFA;\n",
              "      box-shadow: 0px 1px 2px rgba(60, 64, 67, 0.3), 0px 1px 3px 1px rgba(60, 64, 67, 0.15);\n",
              "      fill: #174EA6;\n",
              "    }\n",
              "\n",
              "    .colab-df-buttons div {\n",
              "      margin-bottom: 4px;\n",
              "    }\n",
              "\n",
              "    [theme=dark] .colab-df-convert {\n",
              "      background-color: #3B4455;\n",
              "      fill: #D2E3FC;\n",
              "    }\n",
              "\n",
              "    [theme=dark] .colab-df-convert:hover {\n",
              "      background-color: #434B5C;\n",
              "      box-shadow: 0px 1px 3px 1px rgba(0, 0, 0, 0.15);\n",
              "      filter: drop-shadow(0px 1px 2px rgba(0, 0, 0, 0.3));\n",
              "      fill: #FFFFFF;\n",
              "    }\n",
              "  </style>\n",
              "\n",
              "    <script>\n",
              "      const buttonEl =\n",
              "        document.querySelector('#df-24482843-6333-44d4-9d44-8bf29a7a452e button.colab-df-convert');\n",
              "      buttonEl.style.display =\n",
              "        google.colab.kernel.accessAllowed ? 'block' : 'none';\n",
              "\n",
              "      async function convertToInteractive(key) {\n",
              "        const element = document.querySelector('#df-24482843-6333-44d4-9d44-8bf29a7a452e');\n",
              "        const dataTable =\n",
              "          await google.colab.kernel.invokeFunction('convertToInteractive',\n",
              "                                                    [key], {});\n",
              "        if (!dataTable) return;\n",
              "\n",
              "        const docLinkHtml = 'Like what you see? Visit the ' +\n",
              "          '<a target=\"_blank\" href=https://colab.research.google.com/notebooks/data_table.ipynb>data table notebook</a>'\n",
              "          + ' to learn more about interactive tables.';\n",
              "        element.innerHTML = '';\n",
              "        dataTable['output_type'] = 'display_data';\n",
              "        await google.colab.output.renderOutput(dataTable, element);\n",
              "        const docLink = document.createElement('div');\n",
              "        docLink.innerHTML = docLinkHtml;\n",
              "        element.appendChild(docLink);\n",
              "      }\n",
              "    </script>\n",
              "  </div>\n",
              "\n",
              "\n",
              "<div id=\"df-3939cdc2-5f52-41a1-8be7-c0127538d0f4\">\n",
              "  <button class=\"colab-df-quickchart\" onclick=\"quickchart('df-3939cdc2-5f52-41a1-8be7-c0127538d0f4')\"\n",
              "            title=\"Suggest charts\"\n",
              "            style=\"display:none;\">\n",
              "\n",
              "<svg xmlns=\"http://www.w3.org/2000/svg\" height=\"24px\"viewBox=\"0 0 24 24\"\n",
              "     width=\"24px\">\n",
              "    <g>\n",
              "        <path d=\"M19 3H5c-1.1 0-2 .9-2 2v14c0 1.1.9 2 2 2h14c1.1 0 2-.9 2-2V5c0-1.1-.9-2-2-2zM9 17H7v-7h2v7zm4 0h-2V7h2v10zm4 0h-2v-4h2v4z\"/>\n",
              "    </g>\n",
              "</svg>\n",
              "  </button>\n",
              "\n",
              "<style>\n",
              "  .colab-df-quickchart {\n",
              "      --bg-color: #E8F0FE;\n",
              "      --fill-color: #1967D2;\n",
              "      --hover-bg-color: #E2EBFA;\n",
              "      --hover-fill-color: #174EA6;\n",
              "      --disabled-fill-color: #AAA;\n",
              "      --disabled-bg-color: #DDD;\n",
              "  }\n",
              "\n",
              "  [theme=dark] .colab-df-quickchart {\n",
              "      --bg-color: #3B4455;\n",
              "      --fill-color: #D2E3FC;\n",
              "      --hover-bg-color: #434B5C;\n",
              "      --hover-fill-color: #FFFFFF;\n",
              "      --disabled-bg-color: #3B4455;\n",
              "      --disabled-fill-color: #666;\n",
              "  }\n",
              "\n",
              "  .colab-df-quickchart {\n",
              "    background-color: var(--bg-color);\n",
              "    border: none;\n",
              "    border-radius: 50%;\n",
              "    cursor: pointer;\n",
              "    display: none;\n",
              "    fill: var(--fill-color);\n",
              "    height: 32px;\n",
              "    padding: 0;\n",
              "    width: 32px;\n",
              "  }\n",
              "\n",
              "  .colab-df-quickchart:hover {\n",
              "    background-color: var(--hover-bg-color);\n",
              "    box-shadow: 0 1px 2px rgba(60, 64, 67, 0.3), 0 1px 3px 1px rgba(60, 64, 67, 0.15);\n",
              "    fill: var(--button-hover-fill-color);\n",
              "  }\n",
              "\n",
              "  .colab-df-quickchart-complete:disabled,\n",
              "  .colab-df-quickchart-complete:disabled:hover {\n",
              "    background-color: var(--disabled-bg-color);\n",
              "    fill: var(--disabled-fill-color);\n",
              "    box-shadow: none;\n",
              "  }\n",
              "\n",
              "  .colab-df-spinner {\n",
              "    border: 2px solid var(--fill-color);\n",
              "    border-color: transparent;\n",
              "    border-bottom-color: var(--fill-color);\n",
              "    animation:\n",
              "      spin 1s steps(1) infinite;\n",
              "  }\n",
              "\n",
              "  @keyframes spin {\n",
              "    0% {\n",
              "      border-color: transparent;\n",
              "      border-bottom-color: var(--fill-color);\n",
              "      border-left-color: var(--fill-color);\n",
              "    }\n",
              "    20% {\n",
              "      border-color: transparent;\n",
              "      border-left-color: var(--fill-color);\n",
              "      border-top-color: var(--fill-color);\n",
              "    }\n",
              "    30% {\n",
              "      border-color: transparent;\n",
              "      border-left-color: var(--fill-color);\n",
              "      border-top-color: var(--fill-color);\n",
              "      border-right-color: var(--fill-color);\n",
              "    }\n",
              "    40% {\n",
              "      border-color: transparent;\n",
              "      border-right-color: var(--fill-color);\n",
              "      border-top-color: var(--fill-color);\n",
              "    }\n",
              "    60% {\n",
              "      border-color: transparent;\n",
              "      border-right-color: var(--fill-color);\n",
              "    }\n",
              "    80% {\n",
              "      border-color: transparent;\n",
              "      border-right-color: var(--fill-color);\n",
              "      border-bottom-color: var(--fill-color);\n",
              "    }\n",
              "    90% {\n",
              "      border-color: transparent;\n",
              "      border-bottom-color: var(--fill-color);\n",
              "    }\n",
              "  }\n",
              "</style>\n",
              "\n",
              "  <script>\n",
              "    async function quickchart(key) {\n",
              "      const quickchartButtonEl =\n",
              "        document.querySelector('#' + key + ' button');\n",
              "      quickchartButtonEl.disabled = true;  // To prevent multiple clicks.\n",
              "      quickchartButtonEl.classList.add('colab-df-spinner');\n",
              "      try {\n",
              "        const charts = await google.colab.kernel.invokeFunction(\n",
              "            'suggestCharts', [key], {});\n",
              "      } catch (error) {\n",
              "        console.error('Error during call to suggestCharts:', error);\n",
              "      }\n",
              "      quickchartButtonEl.classList.remove('colab-df-spinner');\n",
              "      quickchartButtonEl.classList.add('colab-df-quickchart-complete');\n",
              "    }\n",
              "    (() => {\n",
              "      let quickchartButtonEl =\n",
              "        document.querySelector('#df-3939cdc2-5f52-41a1-8be7-c0127538d0f4 button');\n",
              "      quickchartButtonEl.style.display =\n",
              "        google.colab.kernel.accessAllowed ? 'block' : 'none';\n",
              "    })();\n",
              "  </script>\n",
              "</div>\n",
              "    </div>\n",
              "  </div>\n"
            ],
            "application/vnd.google.colaboratory.intrinsic+json": {
              "type": "dataframe",
              "variable_name": "sfl_edit_df",
              "summary": "{\n  \"name\": \"sfl_edit_df\",\n  \"rows\": 57,\n  \"fields\": [\n    {\n      \"column\": \"DrawDate\",\n      \"properties\": {\n        \"dtype\": \"object\",\n        \"num_unique_values\": 57,\n        \"samples\": [\n          \"21-Mar-2024\",\n          \"04-Mar-2024\",\n          \"07-Dec-2023\"\n        ],\n        \"semantic_type\": \"\",\n        \"description\": \"\"\n      }\n    },\n    {\n      \"column\": \"Ball 1\",\n      \"properties\": {\n        \"dtype\": \"number\",\n        \"std\": 13,\n        \"min\": 1,\n        \"max\": 46,\n        \"num_unique_values\": 35,\n        \"samples\": [\n          6,\n          10,\n          3\n        ],\n        \"semantic_type\": \"\",\n        \"description\": \"\"\n      }\n    },\n    {\n      \"column\": \"Ball 2\",\n      \"properties\": {\n        \"dtype\": \"number\",\n        \"std\": 13,\n        \"min\": 3,\n        \"max\": 46,\n        \"num_unique_values\": 32,\n        \"samples\": [\n          39,\n          15,\n          40\n        ],\n        \"semantic_type\": \"\",\n        \"description\": \"\"\n      }\n    },\n    {\n      \"column\": \"Ball 3\",\n      \"properties\": {\n        \"dtype\": \"number\",\n        \"std\": 15,\n        \"min\": 1,\n        \"max\": 47,\n        \"num_unique_values\": 33,\n        \"samples\": [\n          1,\n          27,\n          38\n        ],\n        \"semantic_type\": \"\",\n        \"description\": \"\"\n      }\n    },\n    {\n      \"column\": \"Ball 4\",\n      \"properties\": {\n        \"dtype\": \"number\",\n        \"std\": 13,\n        \"min\": 2,\n        \"max\": 47,\n        \"num_unique_values\": 31,\n        \"samples\": [\n          15,\n          9,\n          2\n        ],\n        \"semantic_type\": \"\",\n        \"description\": \"\"\n      }\n    },\n    {\n      \"column\": \"Ball 5\",\n      \"properties\": {\n        \"dtype\": \"number\",\n        \"std\": 14,\n        \"min\": 1,\n        \"max\": 47,\n        \"num_unique_values\": 32,\n        \"samples\": [\n          33,\n          36,\n          11\n        ],\n        \"semantic_type\": \"\",\n        \"description\": \"\"\n      }\n    },\n    {\n      \"column\": \"Life Ball\",\n      \"properties\": {\n        \"dtype\": \"number\",\n        \"std\": 2,\n        \"min\": 1,\n        \"max\": 10,\n        \"num_unique_values\": 10,\n        \"samples\": [\n          10,\n          6,\n          5\n        ],\n        \"semantic_type\": \"\",\n        \"description\": \"\"\n      }\n    }\n  ]\n}"
            }
          },
          "metadata": {},
          "execution_count": 216
        }
      ]
    },
    {
      "cell_type": "code",
      "source": [
        "sfl_edit_df.head()"
      ],
      "metadata": {
        "colab": {
          "base_uri": "https://localhost:8080/",
          "height": 206
        },
        "id": "7irQnjES8SJe",
        "outputId": "d32ebe01-38c7-4771-8941-8e32e04245b6"
      },
      "execution_count": 217,
      "outputs": [
        {
          "output_type": "execute_result",
          "data": {
            "text/plain": [
              "      DrawDate  Ball 1  Ball 2  Ball 3  Ball 4  Ball 5  Life Ball\n",
              "0  21-Mar-2024      18      14       4      11       3          7\n",
              "1  18-Mar-2024      19      11       2      38      43          6\n",
              "2  14-Mar-2024       4      11      34      22      25          6\n",
              "3  11-Mar-2024      44      30      12      35      21          9\n",
              "4  07-Mar-2024      34      42      11      32      29          9"
            ],
            "text/html": [
              "\n",
              "  <div id=\"df-3dfdbea5-7688-4453-b6b6-d4a8424ed404\" class=\"colab-df-container\">\n",
              "    <div>\n",
              "<style scoped>\n",
              "    .dataframe tbody tr th:only-of-type {\n",
              "        vertical-align: middle;\n",
              "    }\n",
              "\n",
              "    .dataframe tbody tr th {\n",
              "        vertical-align: top;\n",
              "    }\n",
              "\n",
              "    .dataframe thead th {\n",
              "        text-align: right;\n",
              "    }\n",
              "</style>\n",
              "<table border=\"1\" class=\"dataframe\">\n",
              "  <thead>\n",
              "    <tr style=\"text-align: right;\">\n",
              "      <th></th>\n",
              "      <th>DrawDate</th>\n",
              "      <th>Ball 1</th>\n",
              "      <th>Ball 2</th>\n",
              "      <th>Ball 3</th>\n",
              "      <th>Ball 4</th>\n",
              "      <th>Ball 5</th>\n",
              "      <th>Life Ball</th>\n",
              "    </tr>\n",
              "  </thead>\n",
              "  <tbody>\n",
              "    <tr>\n",
              "      <th>0</th>\n",
              "      <td>21-Mar-2024</td>\n",
              "      <td>18</td>\n",
              "      <td>14</td>\n",
              "      <td>4</td>\n",
              "      <td>11</td>\n",
              "      <td>3</td>\n",
              "      <td>7</td>\n",
              "    </tr>\n",
              "    <tr>\n",
              "      <th>1</th>\n",
              "      <td>18-Mar-2024</td>\n",
              "      <td>19</td>\n",
              "      <td>11</td>\n",
              "      <td>2</td>\n",
              "      <td>38</td>\n",
              "      <td>43</td>\n",
              "      <td>6</td>\n",
              "    </tr>\n",
              "    <tr>\n",
              "      <th>2</th>\n",
              "      <td>14-Mar-2024</td>\n",
              "      <td>4</td>\n",
              "      <td>11</td>\n",
              "      <td>34</td>\n",
              "      <td>22</td>\n",
              "      <td>25</td>\n",
              "      <td>6</td>\n",
              "    </tr>\n",
              "    <tr>\n",
              "      <th>3</th>\n",
              "      <td>11-Mar-2024</td>\n",
              "      <td>44</td>\n",
              "      <td>30</td>\n",
              "      <td>12</td>\n",
              "      <td>35</td>\n",
              "      <td>21</td>\n",
              "      <td>9</td>\n",
              "    </tr>\n",
              "    <tr>\n",
              "      <th>4</th>\n",
              "      <td>07-Mar-2024</td>\n",
              "      <td>34</td>\n",
              "      <td>42</td>\n",
              "      <td>11</td>\n",
              "      <td>32</td>\n",
              "      <td>29</td>\n",
              "      <td>9</td>\n",
              "    </tr>\n",
              "  </tbody>\n",
              "</table>\n",
              "</div>\n",
              "    <div class=\"colab-df-buttons\">\n",
              "\n",
              "  <div class=\"colab-df-container\">\n",
              "    <button class=\"colab-df-convert\" onclick=\"convertToInteractive('df-3dfdbea5-7688-4453-b6b6-d4a8424ed404')\"\n",
              "            title=\"Convert this dataframe to an interactive table.\"\n",
              "            style=\"display:none;\">\n",
              "\n",
              "  <svg xmlns=\"http://www.w3.org/2000/svg\" height=\"24px\" viewBox=\"0 -960 960 960\">\n",
              "    <path d=\"M120-120v-720h720v720H120Zm60-500h600v-160H180v160Zm220 220h160v-160H400v160Zm0 220h160v-160H400v160ZM180-400h160v-160H180v160Zm440 0h160v-160H620v160ZM180-180h160v-160H180v160Zm440 0h160v-160H620v160Z\"/>\n",
              "  </svg>\n",
              "    </button>\n",
              "\n",
              "  <style>\n",
              "    .colab-df-container {\n",
              "      display:flex;\n",
              "      gap: 12px;\n",
              "    }\n",
              "\n",
              "    .colab-df-convert {\n",
              "      background-color: #E8F0FE;\n",
              "      border: none;\n",
              "      border-radius: 50%;\n",
              "      cursor: pointer;\n",
              "      display: none;\n",
              "      fill: #1967D2;\n",
              "      height: 32px;\n",
              "      padding: 0 0 0 0;\n",
              "      width: 32px;\n",
              "    }\n",
              "\n",
              "    .colab-df-convert:hover {\n",
              "      background-color: #E2EBFA;\n",
              "      box-shadow: 0px 1px 2px rgba(60, 64, 67, 0.3), 0px 1px 3px 1px rgba(60, 64, 67, 0.15);\n",
              "      fill: #174EA6;\n",
              "    }\n",
              "\n",
              "    .colab-df-buttons div {\n",
              "      margin-bottom: 4px;\n",
              "    }\n",
              "\n",
              "    [theme=dark] .colab-df-convert {\n",
              "      background-color: #3B4455;\n",
              "      fill: #D2E3FC;\n",
              "    }\n",
              "\n",
              "    [theme=dark] .colab-df-convert:hover {\n",
              "      background-color: #434B5C;\n",
              "      box-shadow: 0px 1px 3px 1px rgba(0, 0, 0, 0.15);\n",
              "      filter: drop-shadow(0px 1px 2px rgba(0, 0, 0, 0.3));\n",
              "      fill: #FFFFFF;\n",
              "    }\n",
              "  </style>\n",
              "\n",
              "    <script>\n",
              "      const buttonEl =\n",
              "        document.querySelector('#df-3dfdbea5-7688-4453-b6b6-d4a8424ed404 button.colab-df-convert');\n",
              "      buttonEl.style.display =\n",
              "        google.colab.kernel.accessAllowed ? 'block' : 'none';\n",
              "\n",
              "      async function convertToInteractive(key) {\n",
              "        const element = document.querySelector('#df-3dfdbea5-7688-4453-b6b6-d4a8424ed404');\n",
              "        const dataTable =\n",
              "          await google.colab.kernel.invokeFunction('convertToInteractive',\n",
              "                                                    [key], {});\n",
              "        if (!dataTable) return;\n",
              "\n",
              "        const docLinkHtml = 'Like what you see? Visit the ' +\n",
              "          '<a target=\"_blank\" href=https://colab.research.google.com/notebooks/data_table.ipynb>data table notebook</a>'\n",
              "          + ' to learn more about interactive tables.';\n",
              "        element.innerHTML = '';\n",
              "        dataTable['output_type'] = 'display_data';\n",
              "        await google.colab.output.renderOutput(dataTable, element);\n",
              "        const docLink = document.createElement('div');\n",
              "        docLink.innerHTML = docLinkHtml;\n",
              "        element.appendChild(docLink);\n",
              "      }\n",
              "    </script>\n",
              "  </div>\n",
              "\n",
              "\n",
              "<div id=\"df-9c3eca07-0699-4154-a22b-b4efa62f9db4\">\n",
              "  <button class=\"colab-df-quickchart\" onclick=\"quickchart('df-9c3eca07-0699-4154-a22b-b4efa62f9db4')\"\n",
              "            title=\"Suggest charts\"\n",
              "            style=\"display:none;\">\n",
              "\n",
              "<svg xmlns=\"http://www.w3.org/2000/svg\" height=\"24px\"viewBox=\"0 0 24 24\"\n",
              "     width=\"24px\">\n",
              "    <g>\n",
              "        <path d=\"M19 3H5c-1.1 0-2 .9-2 2v14c0 1.1.9 2 2 2h14c1.1 0 2-.9 2-2V5c0-1.1-.9-2-2-2zM9 17H7v-7h2v7zm4 0h-2V7h2v10zm4 0h-2v-4h2v4z\"/>\n",
              "    </g>\n",
              "</svg>\n",
              "  </button>\n",
              "\n",
              "<style>\n",
              "  .colab-df-quickchart {\n",
              "      --bg-color: #E8F0FE;\n",
              "      --fill-color: #1967D2;\n",
              "      --hover-bg-color: #E2EBFA;\n",
              "      --hover-fill-color: #174EA6;\n",
              "      --disabled-fill-color: #AAA;\n",
              "      --disabled-bg-color: #DDD;\n",
              "  }\n",
              "\n",
              "  [theme=dark] .colab-df-quickchart {\n",
              "      --bg-color: #3B4455;\n",
              "      --fill-color: #D2E3FC;\n",
              "      --hover-bg-color: #434B5C;\n",
              "      --hover-fill-color: #FFFFFF;\n",
              "      --disabled-bg-color: #3B4455;\n",
              "      --disabled-fill-color: #666;\n",
              "  }\n",
              "\n",
              "  .colab-df-quickchart {\n",
              "    background-color: var(--bg-color);\n",
              "    border: none;\n",
              "    border-radius: 50%;\n",
              "    cursor: pointer;\n",
              "    display: none;\n",
              "    fill: var(--fill-color);\n",
              "    height: 32px;\n",
              "    padding: 0;\n",
              "    width: 32px;\n",
              "  }\n",
              "\n",
              "  .colab-df-quickchart:hover {\n",
              "    background-color: var(--hover-bg-color);\n",
              "    box-shadow: 0 1px 2px rgba(60, 64, 67, 0.3), 0 1px 3px 1px rgba(60, 64, 67, 0.15);\n",
              "    fill: var(--button-hover-fill-color);\n",
              "  }\n",
              "\n",
              "  .colab-df-quickchart-complete:disabled,\n",
              "  .colab-df-quickchart-complete:disabled:hover {\n",
              "    background-color: var(--disabled-bg-color);\n",
              "    fill: var(--disabled-fill-color);\n",
              "    box-shadow: none;\n",
              "  }\n",
              "\n",
              "  .colab-df-spinner {\n",
              "    border: 2px solid var(--fill-color);\n",
              "    border-color: transparent;\n",
              "    border-bottom-color: var(--fill-color);\n",
              "    animation:\n",
              "      spin 1s steps(1) infinite;\n",
              "  }\n",
              "\n",
              "  @keyframes spin {\n",
              "    0% {\n",
              "      border-color: transparent;\n",
              "      border-bottom-color: var(--fill-color);\n",
              "      border-left-color: var(--fill-color);\n",
              "    }\n",
              "    20% {\n",
              "      border-color: transparent;\n",
              "      border-left-color: var(--fill-color);\n",
              "      border-top-color: var(--fill-color);\n",
              "    }\n",
              "    30% {\n",
              "      border-color: transparent;\n",
              "      border-left-color: var(--fill-color);\n",
              "      border-top-color: var(--fill-color);\n",
              "      border-right-color: var(--fill-color);\n",
              "    }\n",
              "    40% {\n",
              "      border-color: transparent;\n",
              "      border-right-color: var(--fill-color);\n",
              "      border-top-color: var(--fill-color);\n",
              "    }\n",
              "    60% {\n",
              "      border-color: transparent;\n",
              "      border-right-color: var(--fill-color);\n",
              "    }\n",
              "    80% {\n",
              "      border-color: transparent;\n",
              "      border-right-color: var(--fill-color);\n",
              "      border-bottom-color: var(--fill-color);\n",
              "    }\n",
              "    90% {\n",
              "      border-color: transparent;\n",
              "      border-bottom-color: var(--fill-color);\n",
              "    }\n",
              "  }\n",
              "</style>\n",
              "\n",
              "  <script>\n",
              "    async function quickchart(key) {\n",
              "      const quickchartButtonEl =\n",
              "        document.querySelector('#' + key + ' button');\n",
              "      quickchartButtonEl.disabled = true;  // To prevent multiple clicks.\n",
              "      quickchartButtonEl.classList.add('colab-df-spinner');\n",
              "      try {\n",
              "        const charts = await google.colab.kernel.invokeFunction(\n",
              "            'suggestCharts', [key], {});\n",
              "      } catch (error) {\n",
              "        console.error('Error during call to suggestCharts:', error);\n",
              "      }\n",
              "      quickchartButtonEl.classList.remove('colab-df-spinner');\n",
              "      quickchartButtonEl.classList.add('colab-df-quickchart-complete');\n",
              "    }\n",
              "    (() => {\n",
              "      let quickchartButtonEl =\n",
              "        document.querySelector('#df-9c3eca07-0699-4154-a22b-b4efa62f9db4 button');\n",
              "      quickchartButtonEl.style.display =\n",
              "        google.colab.kernel.accessAllowed ? 'block' : 'none';\n",
              "    })();\n",
              "  </script>\n",
              "</div>\n",
              "    </div>\n",
              "  </div>\n"
            ],
            "application/vnd.google.colaboratory.intrinsic+json": {
              "type": "dataframe",
              "variable_name": "sfl_edit_df",
              "summary": "{\n  \"name\": \"sfl_edit_df\",\n  \"rows\": 57,\n  \"fields\": [\n    {\n      \"column\": \"DrawDate\",\n      \"properties\": {\n        \"dtype\": \"object\",\n        \"num_unique_values\": 57,\n        \"samples\": [\n          \"21-Mar-2024\",\n          \"04-Mar-2024\",\n          \"07-Dec-2023\"\n        ],\n        \"semantic_type\": \"\",\n        \"description\": \"\"\n      }\n    },\n    {\n      \"column\": \"Ball 1\",\n      \"properties\": {\n        \"dtype\": \"number\",\n        \"std\": 13,\n        \"min\": 1,\n        \"max\": 46,\n        \"num_unique_values\": 35,\n        \"samples\": [\n          6,\n          10,\n          3\n        ],\n        \"semantic_type\": \"\",\n        \"description\": \"\"\n      }\n    },\n    {\n      \"column\": \"Ball 2\",\n      \"properties\": {\n        \"dtype\": \"number\",\n        \"std\": 13,\n        \"min\": 3,\n        \"max\": 46,\n        \"num_unique_values\": 32,\n        \"samples\": [\n          39,\n          15,\n          40\n        ],\n        \"semantic_type\": \"\",\n        \"description\": \"\"\n      }\n    },\n    {\n      \"column\": \"Ball 3\",\n      \"properties\": {\n        \"dtype\": \"number\",\n        \"std\": 15,\n        \"min\": 1,\n        \"max\": 47,\n        \"num_unique_values\": 33,\n        \"samples\": [\n          1,\n          27,\n          38\n        ],\n        \"semantic_type\": \"\",\n        \"description\": \"\"\n      }\n    },\n    {\n      \"column\": \"Ball 4\",\n      \"properties\": {\n        \"dtype\": \"number\",\n        \"std\": 13,\n        \"min\": 2,\n        \"max\": 47,\n        \"num_unique_values\": 31,\n        \"samples\": [\n          15,\n          9,\n          2\n        ],\n        \"semantic_type\": \"\",\n        \"description\": \"\"\n      }\n    },\n    {\n      \"column\": \"Ball 5\",\n      \"properties\": {\n        \"dtype\": \"number\",\n        \"std\": 14,\n        \"min\": 1,\n        \"max\": 47,\n        \"num_unique_values\": 32,\n        \"samples\": [\n          33,\n          36,\n          11\n        ],\n        \"semantic_type\": \"\",\n        \"description\": \"\"\n      }\n    },\n    {\n      \"column\": \"Life Ball\",\n      \"properties\": {\n        \"dtype\": \"number\",\n        \"std\": 2,\n        \"min\": 1,\n        \"max\": 10,\n        \"num_unique_values\": 10,\n        \"samples\": [\n          10,\n          6,\n          5\n        ],\n        \"semantic_type\": \"\",\n        \"description\": \"\"\n      }\n    }\n  ]\n}"
            }
          },
          "metadata": {},
          "execution_count": 217
        }
      ]
    },
    {
      "cell_type": "code",
      "source": [
        "print(sfl_edit_df.iloc[0][1])\n"
      ],
      "metadata": {
        "id": "QupEHIxp8T17",
        "colab": {
          "base_uri": "https://localhost:8080/"
        },
        "outputId": "79b51ab7-170b-4600-e125-1c705ac62f9d"
      },
      "execution_count": 218,
      "outputs": [
        {
          "output_type": "stream",
          "name": "stdout",
          "text": [
            "18\n"
          ]
        }
      ]
    },
    {
      "cell_type": "code",
      "source": [
        "#numbers is an array of arrays, each week a new array\n",
        "numbers = []\n",
        "#longlist has all the numbers in a row, to make the chart\n",
        "longList = []\n",
        "#i and j give the coordinates of the dataframe, going from the second from the left, hence j 1,6\n",
        "for i in range(len(sfl_edit_df)):\n",
        "  #print(i)\n",
        "  tempList = []\n",
        "  for j in range(1,6):\n",
        "    #print(i)\n",
        "    #print(j)\n",
        "    num = sfl_edit_df.iloc[i][j]\n",
        "    tempList.append(num)\n",
        "    longList.append(num)\n",
        "  tempList.sort()\n",
        "  #templist is now an array of that weeks numbers, sorted\n",
        "  numbers.append(tempList)\n",
        "\n",
        "\n"
      ],
      "metadata": {
        "id": "75XEg6EQ-Mak"
      },
      "execution_count": 219,
      "outputs": []
    },
    {
      "cell_type": "code",
      "source": [
        "lifeBalls = []\n",
        "\n",
        "for i in range(len(sfl_edit_df)):\n",
        "  tempList = []\n",
        "  for j in range(6,7):\n",
        "    lifeBalls.append(sfl_edit_df.iloc[i][j])\n"
      ],
      "metadata": {
        "id": "NspcdXdaCTuq"
      },
      "execution_count": 220,
      "outputs": []
    },
    {
      "cell_type": "code",
      "source": [
        "numbers"
      ],
      "metadata": {
        "id": "kg9PPV-P_S3k",
        "colab": {
          "base_uri": "https://localhost:8080/"
        },
        "outputId": "01e289e7-74b7-4ae9-b947-600af6723133"
      },
      "execution_count": 221,
      "outputs": [
        {
          "output_type": "execute_result",
          "data": {
            "text/plain": [
              "[[3, 4, 11, 14, 18],\n",
              " [2, 11, 19, 38, 43],\n",
              " [4, 11, 22, 25, 34],\n",
              " [12, 21, 30, 35, 44],\n",
              " [11, 29, 32, 34, 42],\n",
              " [7, 15, 25, 30, 38],\n",
              " [4, 6, 28, 29, 45],\n",
              " [3, 10, 21, 24, 39],\n",
              " [16, 17, 19, 23, 38],\n",
              " [7, 11, 12, 36, 46],\n",
              " [5, 11, 25, 30, 42],\n",
              " [6, 20, 27, 29, 36],\n",
              " [13, 19, 26, 37, 43],\n",
              " [3, 4, 8, 10, 28],\n",
              " [3, 7, 11, 23, 29],\n",
              " [7, 29, 35, 40, 46],\n",
              " [7, 20, 23, 36, 44],\n",
              " [6, 23, 26, 27, 34],\n",
              " [9, 15, 22, 40, 44],\n",
              " [4, 14, 21, 35, 36],\n",
              " [15, 16, 23, 35, 42],\n",
              " [19, 31, 37, 39, 40],\n",
              " [12, 14, 26, 39, 46],\n",
              " [1, 20, 26, 36, 38],\n",
              " [13, 14, 35, 36, 41],\n",
              " [2, 15, 21, 41, 47],\n",
              " [4, 8, 17, 18, 21],\n",
              " [1, 13, 18, 32, 47],\n",
              " [12, 13, 16, 21, 44],\n",
              " [12, 14, 20, 28, 41],\n",
              " [2, 3, 37, 39, 45],\n",
              " [4, 11, 16, 46, 47],\n",
              " [5, 40, 42, 43, 46],\n",
              " [10, 12, 35, 37, 47],\n",
              " [10, 14, 19, 35, 41],\n",
              " [6, 9, 11, 22, 46],\n",
              " [12, 18, 30, 40, 41],\n",
              " [3, 11, 33, 38, 45],\n",
              " [9, 11, 27, 36, 47],\n",
              " [2, 5, 11, 15, 27],\n",
              " [12, 20, 41, 42, 46],\n",
              " [6, 12, 13, 18, 19],\n",
              " [2, 11, 23, 43, 46],\n",
              " [11, 30, 34, 35, 38],\n",
              " [12, 14, 38, 41, 44],\n",
              " [13, 30, 33, 35, 43],\n",
              " [9, 19, 41, 44, 46],\n",
              " [6, 11, 29, 40, 44],\n",
              " [5, 6, 18, 39, 45],\n",
              " [1, 7, 14, 15, 26],\n",
              " [18, 23, 28, 29, 37],\n",
              " [6, 12, 13, 15, 41],\n",
              " [7, 17, 23, 24, 40],\n",
              " [1, 3, 11, 28, 43],\n",
              " [8, 27, 33, 34, 44],\n",
              " [4, 5, 14, 24, 35],\n",
              " [3, 9, 21, 26, 42]]"
            ]
          },
          "metadata": {},
          "execution_count": 221
        }
      ]
    },
    {
      "cell_type": "code",
      "source": [
        "lifeBalls"
      ],
      "metadata": {
        "colab": {
          "base_uri": "https://localhost:8080/"
        },
        "id": "5zocwk5QA6ba",
        "outputId": "46ccfd23-a74a-46d5-d65e-9e0086e8b489"
      },
      "execution_count": 222,
      "outputs": [
        {
          "output_type": "execute_result",
          "data": {
            "text/plain": [
              "[7,\n",
              " 6,\n",
              " 6,\n",
              " 9,\n",
              " 9,\n",
              " 9,\n",
              " 4,\n",
              " 2,\n",
              " 5,\n",
              " 9,\n",
              " 6,\n",
              " 8,\n",
              " 5,\n",
              " 1,\n",
              " 7,\n",
              " 8,\n",
              " 4,\n",
              " 2,\n",
              " 5,\n",
              " 5,\n",
              " 1,\n",
              " 4,\n",
              " 4,\n",
              " 6,\n",
              " 9,\n",
              " 2,\n",
              " 6,\n",
              " 1,\n",
              " 10,\n",
              " 9,\n",
              " 1,\n",
              " 1,\n",
              " 4,\n",
              " 1,\n",
              " 1,\n",
              " 5,\n",
              " 8,\n",
              " 10,\n",
              " 9,\n",
              " 10,\n",
              " 8,\n",
              " 7,\n",
              " 10,\n",
              " 1,\n",
              " 5,\n",
              " 6,\n",
              " 4,\n",
              " 5,\n",
              " 3,\n",
              " 2,\n",
              " 3,\n",
              " 9,\n",
              " 1,\n",
              " 9,\n",
              " 5,\n",
              " 3,\n",
              " 6]"
            ]
          },
          "metadata": {},
          "execution_count": 222
        }
      ]
    },
    {
      "cell_type": "code",
      "source": [
        "num_df = pd.DataFrame(numbers, columns = [\"B1\", \"B2\", \"B3\", \"B4\", \"B5\"] )\n",
        "num_df.head()"
      ],
      "metadata": {
        "colab": {
          "base_uri": "https://localhost:8080/",
          "height": 206
        },
        "id": "zrmU8RJBCXyv",
        "outputId": "3008a5d9-d470-4a08-b639-64e4b36ff637"
      },
      "execution_count": 223,
      "outputs": [
        {
          "output_type": "execute_result",
          "data": {
            "text/plain": [
              "   B1  B2  B3  B4  B5\n",
              "0   3   4  11  14  18\n",
              "1   2  11  19  38  43\n",
              "2   4  11  22  25  34\n",
              "3  12  21  30  35  44\n",
              "4  11  29  32  34  42"
            ],
            "text/html": [
              "\n",
              "  <div id=\"df-0b68886a-e6cf-4d6e-bf85-03e97a10e10a\" class=\"colab-df-container\">\n",
              "    <div>\n",
              "<style scoped>\n",
              "    .dataframe tbody tr th:only-of-type {\n",
              "        vertical-align: middle;\n",
              "    }\n",
              "\n",
              "    .dataframe tbody tr th {\n",
              "        vertical-align: top;\n",
              "    }\n",
              "\n",
              "    .dataframe thead th {\n",
              "        text-align: right;\n",
              "    }\n",
              "</style>\n",
              "<table border=\"1\" class=\"dataframe\">\n",
              "  <thead>\n",
              "    <tr style=\"text-align: right;\">\n",
              "      <th></th>\n",
              "      <th>B1</th>\n",
              "      <th>B2</th>\n",
              "      <th>B3</th>\n",
              "      <th>B4</th>\n",
              "      <th>B5</th>\n",
              "    </tr>\n",
              "  </thead>\n",
              "  <tbody>\n",
              "    <tr>\n",
              "      <th>0</th>\n",
              "      <td>3</td>\n",
              "      <td>4</td>\n",
              "      <td>11</td>\n",
              "      <td>14</td>\n",
              "      <td>18</td>\n",
              "    </tr>\n",
              "    <tr>\n",
              "      <th>1</th>\n",
              "      <td>2</td>\n",
              "      <td>11</td>\n",
              "      <td>19</td>\n",
              "      <td>38</td>\n",
              "      <td>43</td>\n",
              "    </tr>\n",
              "    <tr>\n",
              "      <th>2</th>\n",
              "      <td>4</td>\n",
              "      <td>11</td>\n",
              "      <td>22</td>\n",
              "      <td>25</td>\n",
              "      <td>34</td>\n",
              "    </tr>\n",
              "    <tr>\n",
              "      <th>3</th>\n",
              "      <td>12</td>\n",
              "      <td>21</td>\n",
              "      <td>30</td>\n",
              "      <td>35</td>\n",
              "      <td>44</td>\n",
              "    </tr>\n",
              "    <tr>\n",
              "      <th>4</th>\n",
              "      <td>11</td>\n",
              "      <td>29</td>\n",
              "      <td>32</td>\n",
              "      <td>34</td>\n",
              "      <td>42</td>\n",
              "    </tr>\n",
              "  </tbody>\n",
              "</table>\n",
              "</div>\n",
              "    <div class=\"colab-df-buttons\">\n",
              "\n",
              "  <div class=\"colab-df-container\">\n",
              "    <button class=\"colab-df-convert\" onclick=\"convertToInteractive('df-0b68886a-e6cf-4d6e-bf85-03e97a10e10a')\"\n",
              "            title=\"Convert this dataframe to an interactive table.\"\n",
              "            style=\"display:none;\">\n",
              "\n",
              "  <svg xmlns=\"http://www.w3.org/2000/svg\" height=\"24px\" viewBox=\"0 -960 960 960\">\n",
              "    <path d=\"M120-120v-720h720v720H120Zm60-500h600v-160H180v160Zm220 220h160v-160H400v160Zm0 220h160v-160H400v160ZM180-400h160v-160H180v160Zm440 0h160v-160H620v160ZM180-180h160v-160H180v160Zm440 0h160v-160H620v160Z\"/>\n",
              "  </svg>\n",
              "    </button>\n",
              "\n",
              "  <style>\n",
              "    .colab-df-container {\n",
              "      display:flex;\n",
              "      gap: 12px;\n",
              "    }\n",
              "\n",
              "    .colab-df-convert {\n",
              "      background-color: #E8F0FE;\n",
              "      border: none;\n",
              "      border-radius: 50%;\n",
              "      cursor: pointer;\n",
              "      display: none;\n",
              "      fill: #1967D2;\n",
              "      height: 32px;\n",
              "      padding: 0 0 0 0;\n",
              "      width: 32px;\n",
              "    }\n",
              "\n",
              "    .colab-df-convert:hover {\n",
              "      background-color: #E2EBFA;\n",
              "      box-shadow: 0px 1px 2px rgba(60, 64, 67, 0.3), 0px 1px 3px 1px rgba(60, 64, 67, 0.15);\n",
              "      fill: #174EA6;\n",
              "    }\n",
              "\n",
              "    .colab-df-buttons div {\n",
              "      margin-bottom: 4px;\n",
              "    }\n",
              "\n",
              "    [theme=dark] .colab-df-convert {\n",
              "      background-color: #3B4455;\n",
              "      fill: #D2E3FC;\n",
              "    }\n",
              "\n",
              "    [theme=dark] .colab-df-convert:hover {\n",
              "      background-color: #434B5C;\n",
              "      box-shadow: 0px 1px 3px 1px rgba(0, 0, 0, 0.15);\n",
              "      filter: drop-shadow(0px 1px 2px rgba(0, 0, 0, 0.3));\n",
              "      fill: #FFFFFF;\n",
              "    }\n",
              "  </style>\n",
              "\n",
              "    <script>\n",
              "      const buttonEl =\n",
              "        document.querySelector('#df-0b68886a-e6cf-4d6e-bf85-03e97a10e10a button.colab-df-convert');\n",
              "      buttonEl.style.display =\n",
              "        google.colab.kernel.accessAllowed ? 'block' : 'none';\n",
              "\n",
              "      async function convertToInteractive(key) {\n",
              "        const element = document.querySelector('#df-0b68886a-e6cf-4d6e-bf85-03e97a10e10a');\n",
              "        const dataTable =\n",
              "          await google.colab.kernel.invokeFunction('convertToInteractive',\n",
              "                                                    [key], {});\n",
              "        if (!dataTable) return;\n",
              "\n",
              "        const docLinkHtml = 'Like what you see? Visit the ' +\n",
              "          '<a target=\"_blank\" href=https://colab.research.google.com/notebooks/data_table.ipynb>data table notebook</a>'\n",
              "          + ' to learn more about interactive tables.';\n",
              "        element.innerHTML = '';\n",
              "        dataTable['output_type'] = 'display_data';\n",
              "        await google.colab.output.renderOutput(dataTable, element);\n",
              "        const docLink = document.createElement('div');\n",
              "        docLink.innerHTML = docLinkHtml;\n",
              "        element.appendChild(docLink);\n",
              "      }\n",
              "    </script>\n",
              "  </div>\n",
              "\n",
              "\n",
              "<div id=\"df-cc137299-890d-4d5b-9f10-2b77463efd0b\">\n",
              "  <button class=\"colab-df-quickchart\" onclick=\"quickchart('df-cc137299-890d-4d5b-9f10-2b77463efd0b')\"\n",
              "            title=\"Suggest charts\"\n",
              "            style=\"display:none;\">\n",
              "\n",
              "<svg xmlns=\"http://www.w3.org/2000/svg\" height=\"24px\"viewBox=\"0 0 24 24\"\n",
              "     width=\"24px\">\n",
              "    <g>\n",
              "        <path d=\"M19 3H5c-1.1 0-2 .9-2 2v14c0 1.1.9 2 2 2h14c1.1 0 2-.9 2-2V5c0-1.1-.9-2-2-2zM9 17H7v-7h2v7zm4 0h-2V7h2v10zm4 0h-2v-4h2v4z\"/>\n",
              "    </g>\n",
              "</svg>\n",
              "  </button>\n",
              "\n",
              "<style>\n",
              "  .colab-df-quickchart {\n",
              "      --bg-color: #E8F0FE;\n",
              "      --fill-color: #1967D2;\n",
              "      --hover-bg-color: #E2EBFA;\n",
              "      --hover-fill-color: #174EA6;\n",
              "      --disabled-fill-color: #AAA;\n",
              "      --disabled-bg-color: #DDD;\n",
              "  }\n",
              "\n",
              "  [theme=dark] .colab-df-quickchart {\n",
              "      --bg-color: #3B4455;\n",
              "      --fill-color: #D2E3FC;\n",
              "      --hover-bg-color: #434B5C;\n",
              "      --hover-fill-color: #FFFFFF;\n",
              "      --disabled-bg-color: #3B4455;\n",
              "      --disabled-fill-color: #666;\n",
              "  }\n",
              "\n",
              "  .colab-df-quickchart {\n",
              "    background-color: var(--bg-color);\n",
              "    border: none;\n",
              "    border-radius: 50%;\n",
              "    cursor: pointer;\n",
              "    display: none;\n",
              "    fill: var(--fill-color);\n",
              "    height: 32px;\n",
              "    padding: 0;\n",
              "    width: 32px;\n",
              "  }\n",
              "\n",
              "  .colab-df-quickchart:hover {\n",
              "    background-color: var(--hover-bg-color);\n",
              "    box-shadow: 0 1px 2px rgba(60, 64, 67, 0.3), 0 1px 3px 1px rgba(60, 64, 67, 0.15);\n",
              "    fill: var(--button-hover-fill-color);\n",
              "  }\n",
              "\n",
              "  .colab-df-quickchart-complete:disabled,\n",
              "  .colab-df-quickchart-complete:disabled:hover {\n",
              "    background-color: var(--disabled-bg-color);\n",
              "    fill: var(--disabled-fill-color);\n",
              "    box-shadow: none;\n",
              "  }\n",
              "\n",
              "  .colab-df-spinner {\n",
              "    border: 2px solid var(--fill-color);\n",
              "    border-color: transparent;\n",
              "    border-bottom-color: var(--fill-color);\n",
              "    animation:\n",
              "      spin 1s steps(1) infinite;\n",
              "  }\n",
              "\n",
              "  @keyframes spin {\n",
              "    0% {\n",
              "      border-color: transparent;\n",
              "      border-bottom-color: var(--fill-color);\n",
              "      border-left-color: var(--fill-color);\n",
              "    }\n",
              "    20% {\n",
              "      border-color: transparent;\n",
              "      border-left-color: var(--fill-color);\n",
              "      border-top-color: var(--fill-color);\n",
              "    }\n",
              "    30% {\n",
              "      border-color: transparent;\n",
              "      border-left-color: var(--fill-color);\n",
              "      border-top-color: var(--fill-color);\n",
              "      border-right-color: var(--fill-color);\n",
              "    }\n",
              "    40% {\n",
              "      border-color: transparent;\n",
              "      border-right-color: var(--fill-color);\n",
              "      border-top-color: var(--fill-color);\n",
              "    }\n",
              "    60% {\n",
              "      border-color: transparent;\n",
              "      border-right-color: var(--fill-color);\n",
              "    }\n",
              "    80% {\n",
              "      border-color: transparent;\n",
              "      border-right-color: var(--fill-color);\n",
              "      border-bottom-color: var(--fill-color);\n",
              "    }\n",
              "    90% {\n",
              "      border-color: transparent;\n",
              "      border-bottom-color: var(--fill-color);\n",
              "    }\n",
              "  }\n",
              "</style>\n",
              "\n",
              "  <script>\n",
              "    async function quickchart(key) {\n",
              "      const quickchartButtonEl =\n",
              "        document.querySelector('#' + key + ' button');\n",
              "      quickchartButtonEl.disabled = true;  // To prevent multiple clicks.\n",
              "      quickchartButtonEl.classList.add('colab-df-spinner');\n",
              "      try {\n",
              "        const charts = await google.colab.kernel.invokeFunction(\n",
              "            'suggestCharts', [key], {});\n",
              "      } catch (error) {\n",
              "        console.error('Error during call to suggestCharts:', error);\n",
              "      }\n",
              "      quickchartButtonEl.classList.remove('colab-df-spinner');\n",
              "      quickchartButtonEl.classList.add('colab-df-quickchart-complete');\n",
              "    }\n",
              "    (() => {\n",
              "      let quickchartButtonEl =\n",
              "        document.querySelector('#df-cc137299-890d-4d5b-9f10-2b77463efd0b button');\n",
              "      quickchartButtonEl.style.display =\n",
              "        google.colab.kernel.accessAllowed ? 'block' : 'none';\n",
              "    })();\n",
              "  </script>\n",
              "</div>\n",
              "    </div>\n",
              "  </div>\n"
            ],
            "application/vnd.google.colaboratory.intrinsic+json": {
              "type": "dataframe",
              "variable_name": "num_df",
              "summary": "{\n  \"name\": \"num_df\",\n  \"rows\": 57,\n  \"fields\": [\n    {\n      \"column\": \"B1\",\n      \"properties\": {\n        \"dtype\": \"number\",\n        \"std\": 4,\n        \"min\": 1,\n        \"max\": 19,\n        \"num_unique_values\": 17,\n        \"samples\": [\n          3,\n          2,\n          7\n        ],\n        \"semantic_type\": \"\",\n        \"description\": \"\"\n      }\n    },\n    {\n      \"column\": \"B2\",\n      \"properties\": {\n        \"dtype\": \"number\",\n        \"std\": 7,\n        \"min\": 3,\n        \"max\": 40,\n        \"num_unique_values\": 25,\n        \"samples\": [\n          20,\n          13,\n          4\n        ],\n        \"semantic_type\": \"\",\n        \"description\": \"\"\n      }\n    },\n    {\n      \"column\": \"B3\",\n      \"properties\": {\n        \"dtype\": \"number\",\n        \"std\": 8,\n        \"min\": 8,\n        \"max\": 42,\n        \"num_unique_values\": 27,\n        \"samples\": [\n          12,\n          23,\n          27\n        ],\n        \"semantic_type\": \"\",\n        \"description\": \"\"\n      }\n    },\n    {\n      \"column\": \"B4\",\n      \"properties\": {\n        \"dtype\": \"number\",\n        \"std\": 8,\n        \"min\": 10,\n        \"max\": 46,\n        \"num_unique_values\": 27,\n        \"samples\": [\n          23,\n          27,\n          36\n        ],\n        \"semantic_type\": \"\",\n        \"description\": \"\"\n      }\n    },\n    {\n      \"column\": \"B5\",\n      \"properties\": {\n        \"dtype\": \"number\",\n        \"std\": 7,\n        \"min\": 18,\n        \"max\": 47,\n        \"num_unique_values\": 21,\n        \"samples\": [\n          18,\n          19,\n          21\n        ],\n        \"semantic_type\": \"\",\n        \"description\": \"\"\n      }\n    }\n  ]\n}"
            }
          },
          "metadata": {},
          "execution_count": 223
        }
      ]
    },
    {
      "cell_type": "code",
      "source": [
        "lengLL = len(longList)\n",
        "lengLL"
      ],
      "metadata": {
        "colab": {
          "base_uri": "https://localhost:8080/"
        },
        "id": "8OqjCWlYD4l3",
        "outputId": "75f2e4b2-266c-46c2-b637-ccd612c86997"
      },
      "execution_count": 224,
      "outputs": [
        {
          "output_type": "execute_result",
          "data": {
            "text/plain": [
              "285"
            ]
          },
          "metadata": {},
          "execution_count": 224
        }
      ]
    },
    {
      "cell_type": "code",
      "source": [],
      "metadata": {
        "id": "rfl2WJCBGHLU"
      },
      "execution_count": 224,
      "outputs": []
    },
    {
      "cell_type": "code",
      "source": [
        "import collections"
      ],
      "metadata": {
        "id": "r3fcjQHXF-7v"
      },
      "execution_count": 225,
      "outputs": []
    },
    {
      "cell_type": "code",
      "source": [
        "#This counts how many of each number there are in longList\n",
        "counter = collections.Counter(longList)\n",
        "counter"
      ],
      "metadata": {
        "colab": {
          "base_uri": "https://localhost:8080/"
        },
        "id": "Z0V_Ie2rFEmn",
        "outputId": "2e35967f-e89e-4e87-b2df-b4477553863e"
      },
      "execution_count": 226,
      "outputs": [
        {
          "output_type": "execute_result",
          "data": {
            "text/plain": [
              "Counter({18: 7,\n",
              "         14: 9,\n",
              "         4: 8,\n",
              "         11: 16,\n",
              "         3: 8,\n",
              "         19: 7,\n",
              "         2: 5,\n",
              "         38: 7,\n",
              "         43: 6,\n",
              "         34: 5,\n",
              "         22: 3,\n",
              "         25: 3,\n",
              "         44: 8,\n",
              "         30: 6,\n",
              "         12: 11,\n",
              "         35: 10,\n",
              "         21: 7,\n",
              "         42: 6,\n",
              "         32: 2,\n",
              "         29: 7,\n",
              "         15: 7,\n",
              "         7: 7,\n",
              "         28: 5,\n",
              "         45: 4,\n",
              "         6: 8,\n",
              "         24: 3,\n",
              "         10: 4,\n",
              "         39: 5,\n",
              "         16: 4,\n",
              "         23: 8,\n",
              "         17: 3,\n",
              "         36: 7,\n",
              "         46: 9,\n",
              "         5: 5,\n",
              "         27: 5,\n",
              "         20: 5,\n",
              "         26: 6,\n",
              "         13: 7,\n",
              "         37: 5,\n",
              "         8: 3,\n",
              "         40: 7,\n",
              "         9: 5,\n",
              "         31: 1,\n",
              "         1: 4,\n",
              "         41: 9,\n",
              "         47: 5,\n",
              "         33: 3})"
            ]
          },
          "metadata": {},
          "execution_count": 226
        }
      ]
    },
    {
      "cell_type": "code",
      "source": [
        "sortedDict = dict(sorted(counter.items()))"
      ],
      "metadata": {
        "id": "Ahg1faP8F7nA"
      },
      "execution_count": 227,
      "outputs": []
    },
    {
      "cell_type": "code",
      "source": [
        "sortedDict"
      ],
      "metadata": {
        "colab": {
          "base_uri": "https://localhost:8080/"
        },
        "id": "XeAHlUeXG0gD",
        "outputId": "168b0cbb-0cc2-45b3-ce9e-297a0c38c35e"
      },
      "execution_count": 228,
      "outputs": [
        {
          "output_type": "execute_result",
          "data": {
            "text/plain": [
              "{1: 4,\n",
              " 2: 5,\n",
              " 3: 8,\n",
              " 4: 8,\n",
              " 5: 5,\n",
              " 6: 8,\n",
              " 7: 7,\n",
              " 8: 3,\n",
              " 9: 5,\n",
              " 10: 4,\n",
              " 11: 16,\n",
              " 12: 11,\n",
              " 13: 7,\n",
              " 14: 9,\n",
              " 15: 7,\n",
              " 16: 4,\n",
              " 17: 3,\n",
              " 18: 7,\n",
              " 19: 7,\n",
              " 20: 5,\n",
              " 21: 7,\n",
              " 22: 3,\n",
              " 23: 8,\n",
              " 24: 3,\n",
              " 25: 3,\n",
              " 26: 6,\n",
              " 27: 5,\n",
              " 28: 5,\n",
              " 29: 7,\n",
              " 30: 6,\n",
              " 31: 1,\n",
              " 32: 2,\n",
              " 33: 3,\n",
              " 34: 5,\n",
              " 35: 10,\n",
              " 36: 7,\n",
              " 37: 5,\n",
              " 38: 7,\n",
              " 39: 5,\n",
              " 40: 7,\n",
              " 41: 9,\n",
              " 42: 6,\n",
              " 43: 6,\n",
              " 44: 8,\n",
              " 45: 4,\n",
              " 46: 9,\n",
              " 47: 5}"
            ]
          },
          "metadata": {},
          "execution_count": 228
        }
      ]
    },
    {
      "cell_type": "code",
      "source": [
        "lifeBalls"
      ],
      "metadata": {
        "colab": {
          "base_uri": "https://localhost:8080/"
        },
        "id": "fdNS4T43Xfmc",
        "outputId": "fc907367-7d37-47e3-bd50-2622e8dacc79"
      },
      "execution_count": 229,
      "outputs": [
        {
          "output_type": "execute_result",
          "data": {
            "text/plain": [
              "[7,\n",
              " 6,\n",
              " 6,\n",
              " 9,\n",
              " 9,\n",
              " 9,\n",
              " 4,\n",
              " 2,\n",
              " 5,\n",
              " 9,\n",
              " 6,\n",
              " 8,\n",
              " 5,\n",
              " 1,\n",
              " 7,\n",
              " 8,\n",
              " 4,\n",
              " 2,\n",
              " 5,\n",
              " 5,\n",
              " 1,\n",
              " 4,\n",
              " 4,\n",
              " 6,\n",
              " 9,\n",
              " 2,\n",
              " 6,\n",
              " 1,\n",
              " 10,\n",
              " 9,\n",
              " 1,\n",
              " 1,\n",
              " 4,\n",
              " 1,\n",
              " 1,\n",
              " 5,\n",
              " 8,\n",
              " 10,\n",
              " 9,\n",
              " 10,\n",
              " 8,\n",
              " 7,\n",
              " 10,\n",
              " 1,\n",
              " 5,\n",
              " 6,\n",
              " 4,\n",
              " 5,\n",
              " 3,\n",
              " 2,\n",
              " 3,\n",
              " 9,\n",
              " 1,\n",
              " 9,\n",
              " 5,\n",
              " 3,\n",
              " 6]"
            ]
          },
          "metadata": {},
          "execution_count": 229
        }
      ]
    },
    {
      "cell_type": "code",
      "source": [
        "lifeBallsSorted = lifeBalls.copy()\n"
      ],
      "metadata": {
        "id": "xQ4-mWROVfrh"
      },
      "execution_count": 230,
      "outputs": []
    },
    {
      "cell_type": "code",
      "source": [
        "lifeBallsSorted.sort()"
      ],
      "metadata": {
        "id": "IPAPpon_XdAG"
      },
      "execution_count": 231,
      "outputs": []
    },
    {
      "cell_type": "code",
      "source": [
        "lifeBallsSorted"
      ],
      "metadata": {
        "colab": {
          "base_uri": "https://localhost:8080/"
        },
        "id": "JyDtvkPwXGAL",
        "outputId": "e4db7efe-af80-4178-9ebb-c003591c7e92"
      },
      "execution_count": 232,
      "outputs": [
        {
          "output_type": "execute_result",
          "data": {
            "text/plain": [
              "[1,\n",
              " 1,\n",
              " 1,\n",
              " 1,\n",
              " 1,\n",
              " 1,\n",
              " 1,\n",
              " 1,\n",
              " 1,\n",
              " 2,\n",
              " 2,\n",
              " 2,\n",
              " 2,\n",
              " 3,\n",
              " 3,\n",
              " 3,\n",
              " 4,\n",
              " 4,\n",
              " 4,\n",
              " 4,\n",
              " 4,\n",
              " 4,\n",
              " 5,\n",
              " 5,\n",
              " 5,\n",
              " 5,\n",
              " 5,\n",
              " 5,\n",
              " 5,\n",
              " 5,\n",
              " 6,\n",
              " 6,\n",
              " 6,\n",
              " 6,\n",
              " 6,\n",
              " 6,\n",
              " 6,\n",
              " 7,\n",
              " 7,\n",
              " 7,\n",
              " 8,\n",
              " 8,\n",
              " 8,\n",
              " 8,\n",
              " 9,\n",
              " 9,\n",
              " 9,\n",
              " 9,\n",
              " 9,\n",
              " 9,\n",
              " 9,\n",
              " 9,\n",
              " 9,\n",
              " 10,\n",
              " 10,\n",
              " 10,\n",
              " 10]"
            ]
          },
          "metadata": {},
          "execution_count": 232
        }
      ]
    },
    {
      "cell_type": "code",
      "source": [
        "counterLife = collections.Counter(lifeBallsSorted)\n",
        "counterLife"
      ],
      "metadata": {
        "colab": {
          "base_uri": "https://localhost:8080/"
        },
        "id": "Q3e_ioKPWO4E",
        "outputId": "1bab9904-4a25-4ac0-e4f1-d9b566c54963"
      },
      "execution_count": 233,
      "outputs": [
        {
          "output_type": "execute_result",
          "data": {
            "text/plain": [
              "Counter({1: 9, 2: 4, 3: 3, 4: 6, 5: 8, 6: 7, 7: 3, 8: 4, 9: 9, 10: 4})"
            ]
          },
          "metadata": {},
          "execution_count": 233
        }
      ]
    },
    {
      "cell_type": "code",
      "source": [
        "lifeDict = dict(sorted(counterLife.items()))"
      ],
      "metadata": {
        "id": "joZex_XiV_bB"
      },
      "execution_count": 234,
      "outputs": []
    },
    {
      "cell_type": "code",
      "source": [
        "lifeDict"
      ],
      "metadata": {
        "colab": {
          "base_uri": "https://localhost:8080/"
        },
        "id": "bBPDltQoWGPK",
        "outputId": "c604bf65-c95e-4d4d-a94d-c87fdc5e1c47"
      },
      "execution_count": 235,
      "outputs": [
        {
          "output_type": "execute_result",
          "data": {
            "text/plain": [
              "{1: 9, 2: 4, 3: 3, 4: 6, 5: 8, 6: 7, 7: 3, 8: 4, 9: 9, 10: 4}"
            ]
          },
          "metadata": {},
          "execution_count": 235
        }
      ]
    },
    {
      "cell_type": "code",
      "source": [
        "####Matplot"
      ],
      "metadata": {
        "id": "ZORf6VDFWgts"
      },
      "execution_count": 236,
      "outputs": []
    },
    {
      "cell_type": "code",
      "source": [
        "import matplotlib.pyplot as plt"
      ],
      "metadata": {
        "id": "9io7XL55WVxs"
      },
      "execution_count": 237,
      "outputs": []
    },
    {
      "cell_type": "code",
      "source": [
        "def plot_dictionary_bar(dictionary, x, title):\n",
        "  keys = dictionary.keys()\n",
        "  values = dictionary.values()\n",
        "  plt.bar(keys, values)\n",
        "  plt.xlabel(x)\n",
        "  plt.ylabel('Occurrence')\n",
        "  plt.title(title)\n",
        "\n",
        "  plt.show()"
      ],
      "metadata": {
        "id": "G3Lb8LgpWjo8"
      },
      "execution_count": 238,
      "outputs": []
    },
    {
      "cell_type": "code",
      "source": [
        "plot_dictionary_bar(counterLife, \"Life Ball\", \"Life Ball Chart\")"
      ],
      "metadata": {
        "colab": {
          "base_uri": "https://localhost:8080/",
          "height": 472
        },
        "id": "mxNzOeDvWw8K",
        "outputId": "4b01b5b7-58f6-45b9-e8b2-bb951c32570f"
      },
      "execution_count": 239,
      "outputs": [
        {
          "output_type": "display_data",
          "data": {
            "text/plain": [
              "<Figure size 640x480 with 1 Axes>"
            ],
            "image/png": "[encoded data removed]"
          },
          "metadata": {}
        }
      ]
    },
    {
      "cell_type": "code",
      "source": [
        "plot_dictionary_bar(counter, \"Ball\", \"Main Balls' Chart\")"
      ],
      "metadata": {
        "colab": {
          "base_uri": "https://localhost:8080/",
          "height": 472
        },
        "id": "tvmJdJWeXESd",
        "outputId": "604ccf15-38f3-42cc-f6d0-38ed455c5ee2"
      },
      "execution_count": 240,
      "outputs": [
        {
          "output_type": "display_data",
          "data": {
            "text/plain": [
              "<Figure size 640x480 with 1 Axes>"
            ],
            "image/png": "[encoded data removed]"
          },
          "metadata": {}
        }
      ]
    },
    {
      "cell_type": "code",
      "source": [
        "numbers"
      ],
      "metadata": {
        "colab": {
          "base_uri": "https://localhost:8080/"
        },
        "id": "cEuedi7wilDO",
        "outputId": "c3613f0e-dc6f-408b-f8c7-76e15b2732dc"
      },
      "execution_count": 241,
      "outputs": [
        {
          "output_type": "execute_result",
          "data": {
            "text/plain": [
              "[[3, 4, 11, 14, 18],\n",
              " [2, 11, 19, 38, 43],\n",
              " [4, 11, 22, 25, 34],\n",
              " [12, 21, 30, 35, 44],\n",
              " [11, 29, 32, 34, 42],\n",
              " [7, 15, 25, 30, 38],\n",
              " [4, 6, 28, 29, 45],\n",
              " [3, 10, 21, 24, 39],\n",
              " [16, 17, 19, 23, 38],\n",
              " [7, 11, 12, 36, 46],\n",
              " [5, 11, 25, 30, 42],\n",
              " [6, 20, 27, 29, 36],\n",
              " [13, 19, 26, 37, 43],\n",
              " [3, 4, 8, 10, 28],\n",
              " [3, 7, 11, 23, 29],\n",
              " [7, 29, 35, 40, 46],\n",
              " [7, 20, 23, 36, 44],\n",
              " [6, 23, 26, 27, 34],\n",
              " [9, 15, 22, 40, 44],\n",
              " [4, 14, 21, 35, 36],\n",
              " [15, 16, 23, 35, 42],\n",
              " [19, 31, 37, 39, 40],\n",
              " [12, 14, 26, 39, 46],\n",
              " [1, 20, 26, 36, 38],\n",
              " [13, 14, 35, 36, 41],\n",
              " [2, 15, 21, 41, 47],\n",
              " [4, 8, 17, 18, 21],\n",
              " [1, 13, 18, 32, 47],\n",
              " [12, 13, 16, 21, 44],\n",
              " [12, 14, 20, 28, 41],\n",
              " [2, 3, 37, 39, 45],\n",
              " [4, 11, 16, 46, 47],\n",
              " [5, 40, 42, 43, 46],\n",
              " [10, 12, 35, 37, 47],\n",
              " [10, 14, 19, 35, 41],\n",
              " [6, 9, 11, 22, 46],\n",
              " [12, 18, 30, 40, 41],\n",
              " [3, 11, 33, 38, 45],\n",
              " [9, 11, 27, 36, 47],\n",
              " [2, 5, 11, 15, 27],\n",
              " [12, 20, 41, 42, 46],\n",
              " [6, 12, 13, 18, 19],\n",
              " [2, 11, 23, 43, 46],\n",
              " [11, 30, 34, 35, 38],\n",
              " [12, 14, 38, 41, 44],\n",
              " [13, 30, 33, 35, 43],\n",
              " [9, 19, 41, 44, 46],\n",
              " [6, 11, 29, 40, 44],\n",
              " [5, 6, 18, 39, 45],\n",
              " [1, 7, 14, 15, 26],\n",
              " [18, 23, 28, 29, 37],\n",
              " [6, 12, 13, 15, 41],\n",
              " [7, 17, 23, 24, 40],\n",
              " [1, 3, 11, 28, 43],\n",
              " [8, 27, 33, 34, 44],\n",
              " [4, 5, 14, 24, 35],\n",
              " [3, 9, 21, 26, 42]]"
            ]
          },
          "metadata": {},
          "execution_count": 241
        }
      ]
    },
    {
      "cell_type": "code",
      "source": [
        "counterBalls = collections.Counter(longList)\n",
        "counterBalls"
      ],
      "metadata": {
        "colab": {
          "base_uri": "https://localhost:8080/"
        },
        "id": "QbpovWy6lHgH",
        "outputId": "432d9a8e-07ee-45b7-b729-b929bc9c19eb"
      },
      "execution_count": 242,
      "outputs": [
        {
          "output_type": "execute_result",
          "data": {
            "text/plain": [
              "Counter({18: 7,\n",
              "         14: 9,\n",
              "         4: 8,\n",
              "         11: 16,\n",
              "         3: 8,\n",
              "         19: 7,\n",
              "         2: 5,\n",
              "         38: 7,\n",
              "         43: 6,\n",
              "         34: 5,\n",
              "         22: 3,\n",
              "         25: 3,\n",
              "         44: 8,\n",
              "         30: 6,\n",
              "         12: 11,\n",
              "         35: 10,\n",
              "         21: 7,\n",
              "         42: 6,\n",
              "         32: 2,\n",
              "         29: 7,\n",
              "         15: 7,\n",
              "         7: 7,\n",
              "         28: 5,\n",
              "         45: 4,\n",
              "         6: 8,\n",
              "         24: 3,\n",
              "         10: 4,\n",
              "         39: 5,\n",
              "         16: 4,\n",
              "         23: 8,\n",
              "         17: 3,\n",
              "         36: 7,\n",
              "         46: 9,\n",
              "         5: 5,\n",
              "         27: 5,\n",
              "         20: 5,\n",
              "         26: 6,\n",
              "         13: 7,\n",
              "         37: 5,\n",
              "         8: 3,\n",
              "         40: 7,\n",
              "         9: 5,\n",
              "         31: 1,\n",
              "         1: 4,\n",
              "         41: 9,\n",
              "         47: 5,\n",
              "         33: 3})"
            ]
          },
          "metadata": {},
          "execution_count": 242
        }
      ]
    },
    {
      "cell_type": "code",
      "source": [
        "#find max value in counterBalls\n",
        "numMax = 0\n",
        "for key in counterBalls:\n",
        "  if counterBalls[key] > numMax:\n",
        "    numMax = counterBalls[key]\n",
        "print(numMax)\n"
      ],
      "metadata": {
        "colab": {
          "base_uri": "https://localhost:8080/"
        },
        "id": "UhU7wRZxHiZN",
        "outputId": "d779cc1d-0327-4324-914a-fb769070a876"
      },
      "execution_count": 243,
      "outputs": [
        {
          "output_type": "stream",
          "name": "stdout",
          "text": [
            "16\n"
          ]
        }
      ]
    },
    {
      "cell_type": "code",
      "source": [
        "#create array of values existing in the dict\n",
        "oSet = set(())\n",
        "for key in counterBalls:\n",
        "  for x in range (1, (numMax+1)):\n",
        "    if counterBalls[key] == x:\n",
        "      oSet.add(x)\n",
        "print(oSet)"
      ],
      "metadata": {
        "colab": {
          "base_uri": "https://localhost:8080/"
        },
        "id": "OC8OyI97GJYC",
        "outputId": "421368a5-367a-4025-9a65-66fc7b024e86"
      },
      "execution_count": 244,
      "outputs": [
        {
          "output_type": "stream",
          "name": "stdout",
          "text": [
            "{1, 2, 3, 4, 5, 6, 7, 8, 9, 10, 11, 16}\n"
          ]
        }
      ]
    },
    {
      "cell_type": "code",
      "source": [
        "#so now iterate through sortedNumMax list and if counterBalls[sortedNumMax] matches\n",
        "#counterBalls[key], add it to the array. Then when finished, add array to array of arrays\n",
        "\n",
        "occArr = []\n",
        "\n",
        "for x in range(1, (numMax+1)):\n",
        "  #print(f\"oSet: {x}\")\n",
        "  tempArr = []\n",
        "  for key in counterBalls:\n",
        "    if counterBalls[key] == x:\n",
        "      tempArr.append(key)\n",
        "      #print(key)\n",
        "  if not tempArr:\n",
        "    #if tempArr is empty, add a 0 as filler, or it ends up leaving it out\n",
        "    tempArr.append(0)\n",
        "    occArr.append(tempArr)\n",
        "  else:\n",
        "    occArr.append(tempArr)\n",
        "print(occArr)\n"
      ],
      "metadata": {
        "colab": {
          "base_uri": "https://localhost:8080/"
        },
        "id": "v1aWggWyJGSR",
        "outputId": "9b727ac9-c71b-4c1e-cd92-2b4b6b3e4204"
      },
      "execution_count": 245,
      "outputs": [
        {
          "output_type": "stream",
          "name": "stdout",
          "text": [
            "[[31], [32], [22, 25, 24, 17, 8, 33], [45, 10, 16, 1], [2, 34, 28, 39, 5, 27, 20, 37, 9, 47], [43, 30, 42, 26], [18, 19, 38, 21, 29, 15, 7, 36, 13, 40], [4, 3, 44, 6, 23], [14, 46, 41], [35], [12], [0], [0], [0], [0], [11]]\n"
          ]
        }
      ]
    },
    {
      "cell_type": "code",
      "source": [
        "viewDict = {}\n",
        "\n",
        "for x in range(1, (numMax + 1)):\n",
        "  viewDict[x] = occArr[x-1]\n"
      ],
      "metadata": {
        "id": "ySXSnfh71IX6"
      },
      "execution_count": 246,
      "outputs": []
    },
    {
      "cell_type": "code",
      "source": [
        "viewDict"
      ],
      "metadata": {
        "colab": {
          "base_uri": "https://localhost:8080/"
        },
        "id": "ZLKWwKYD2TdX",
        "outputId": "8635fd35-4ded-497b-940b-b763804f27d9"
      },
      "execution_count": 247,
      "outputs": [
        {
          "output_type": "execute_result",
          "data": {
            "text/plain": [
              "{1: [31],\n",
              " 2: [32],\n",
              " 3: [22, 25, 24, 17, 8, 33],\n",
              " 4: [45, 10, 16, 1],\n",
              " 5: [2, 34, 28, 39, 5, 27, 20, 37, 9, 47],\n",
              " 6: [43, 30, 42, 26],\n",
              " 7: [18, 19, 38, 21, 29, 15, 7, 36, 13, 40],\n",
              " 8: [4, 3, 44, 6, 23],\n",
              " 9: [14, 46, 41],\n",
              " 10: [35],\n",
              " 11: [12],\n",
              " 12: [0],\n",
              " 13: [0],\n",
              " 14: [0],\n",
              " 15: [0],\n",
              " 16: [11]}"
            ]
          },
          "metadata": {},
          "execution_count": 247
        }
      ]
    },
    {
      "cell_type": "code",
      "source": [
        "numbers"
      ],
      "metadata": {
        "colab": {
          "base_uri": "https://localhost:8080/"
        },
        "id": "24yvzWoB2VOV",
        "outputId": "d6284acf-2f1b-4fdf-e558-ec3510d18c47"
      },
      "execution_count": 248,
      "outputs": [
        {
          "output_type": "execute_result",
          "data": {
            "text/plain": [
              "[[3, 4, 11, 14, 18],\n",
              " [2, 11, 19, 38, 43],\n",
              " [4, 11, 22, 25, 34],\n",
              " [12, 21, 30, 35, 44],\n",
              " [11, 29, 32, 34, 42],\n",
              " [7, 15, 25, 30, 38],\n",
              " [4, 6, 28, 29, 45],\n",
              " [3, 10, 21, 24, 39],\n",
              " [16, 17, 19, 23, 38],\n",
              " [7, 11, 12, 36, 46],\n",
              " [5, 11, 25, 30, 42],\n",
              " [6, 20, 27, 29, 36],\n",
              " [13, 19, 26, 37, 43],\n",
              " [3, 4, 8, 10, 28],\n",
              " [3, 7, 11, 23, 29],\n",
              " [7, 29, 35, 40, 46],\n",
              " [7, 20, 23, 36, 44],\n",
              " [6, 23, 26, 27, 34],\n",
              " [9, 15, 22, 40, 44],\n",
              " [4, 14, 21, 35, 36],\n",
              " [15, 16, 23, 35, 42],\n",
              " [19, 31, 37, 39, 40],\n",
              " [12, 14, 26, 39, 46],\n",
              " [1, 20, 26, 36, 38],\n",
              " [13, 14, 35, 36, 41],\n",
              " [2, 15, 21, 41, 47],\n",
              " [4, 8, 17, 18, 21],\n",
              " [1, 13, 18, 32, 47],\n",
              " [12, 13, 16, 21, 44],\n",
              " [12, 14, 20, 28, 41],\n",
              " [2, 3, 37, 39, 45],\n",
              " [4, 11, 16, 46, 47],\n",
              " [5, 40, 42, 43, 46],\n",
              " [10, 12, 35, 37, 47],\n",
              " [10, 14, 19, 35, 41],\n",
              " [6, 9, 11, 22, 46],\n",
              " [12, 18, 30, 40, 41],\n",
              " [3, 11, 33, 38, 45],\n",
              " [9, 11, 27, 36, 47],\n",
              " [2, 5, 11, 15, 27],\n",
              " [12, 20, 41, 42, 46],\n",
              " [6, 12, 13, 18, 19],\n",
              " [2, 11, 23, 43, 46],\n",
              " [11, 30, 34, 35, 38],\n",
              " [12, 14, 38, 41, 44],\n",
              " [13, 30, 33, 35, 43],\n",
              " [9, 19, 41, 44, 46],\n",
              " [6, 11, 29, 40, 44],\n",
              " [5, 6, 18, 39, 45],\n",
              " [1, 7, 14, 15, 26],\n",
              " [18, 23, 28, 29, 37],\n",
              " [6, 12, 13, 15, 41],\n",
              " [7, 17, 23, 24, 40],\n",
              " [1, 3, 11, 28, 43],\n",
              " [8, 27, 33, 34, 44],\n",
              " [4, 5, 14, 24, 35],\n",
              " [3, 9, 21, 26, 42]]"
            ]
          },
          "metadata": {},
          "execution_count": 248
        }
      ]
    },
    {
      "cell_type": "code",
      "source": [
        "lifeBalls"
      ],
      "metadata": {
        "colab": {
          "base_uri": "https://localhost:8080/"
        },
        "id": "KjERlbzvWmtR",
        "outputId": "07977a8a-490a-49a3-f908-82dadd15ca50"
      },
      "execution_count": 249,
      "outputs": [
        {
          "output_type": "execute_result",
          "data": {
            "text/plain": [
              "[7,\n",
              " 6,\n",
              " 6,\n",
              " 9,\n",
              " 9,\n",
              " 9,\n",
              " 4,\n",
              " 2,\n",
              " 5,\n",
              " 9,\n",
              " 6,\n",
              " 8,\n",
              " 5,\n",
              " 1,\n",
              " 7,\n",
              " 8,\n",
              " 4,\n",
              " 2,\n",
              " 5,\n",
              " 5,\n",
              " 1,\n",
              " 4,\n",
              " 4,\n",
              " 6,\n",
              " 9,\n",
              " 2,\n",
              " 6,\n",
              " 1,\n",
              " 10,\n",
              " 9,\n",
              " 1,\n",
              " 1,\n",
              " 4,\n",
              " 1,\n",
              " 1,\n",
              " 5,\n",
              " 8,\n",
              " 10,\n",
              " 9,\n",
              " 10,\n",
              " 8,\n",
              " 7,\n",
              " 10,\n",
              " 1,\n",
              " 5,\n",
              " 6,\n",
              " 4,\n",
              " 5,\n",
              " 3,\n",
              " 2,\n",
              " 3,\n",
              " 9,\n",
              " 1,\n",
              " 9,\n",
              " 5,\n",
              " 3,\n",
              " 6]"
            ]
          },
          "metadata": {},
          "execution_count": 249
        }
      ]
    },
    {
      "cell_type": "code",
      "source": [
        "march14 = [13, 17, 31, 41, 46]\n",
        "march22 = [4, 15, 21, 27, 38]\n",
        "lifeMarch21 = 6"
      ],
      "metadata": {
        "id": "KIx0HQ4_Y-de"
      },
      "execution_count": 250,
      "outputs": []
    },
    {
      "cell_type": "code",
      "source": [],
      "metadata": {
        "id": "XKLFjct8Xvf5"
      },
      "execution_count": 250,
      "outputs": []
    }
  ]
}